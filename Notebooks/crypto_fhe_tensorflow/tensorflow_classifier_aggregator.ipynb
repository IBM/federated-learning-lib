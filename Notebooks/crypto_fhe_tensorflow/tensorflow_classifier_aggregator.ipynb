{
 "cells": [
  {
   "cell_type": "markdown",
   "metadata": {},
   "source": [
    "# MNIST Classifier with HELayers (HE) - Secure Aggregation in IBM FL"
   ]
  },
  {
   "cell_type": "markdown",
   "metadata": {},
   "source": [
    "## Outline:\n",
    "- [Add conda environment to Jupyter Notebook](#setup)\n",
    "- [Federated Learning(FL)](#intro)\n",
    "- [Why secure aggregation techniques are necessary?](#threats)\n",
    "- [How does IBM FL Work with HE?](#HE-FL)\n",
    "- [Digit Recognition](#mnist)\n",
    "- [Aggregator](#Aggregator)\n",
    "    - [Aggregator Configuration](#Aggregator-Configuration)\n",
    "    - [Running the Aggregator](#Running-the-Aggregator)\n",
    "- [Starting Parties](#Starting-Parties)\n",
    "- [Training and Evaluation](#Training-and-Evaluation)\n",
    "- [Visualize Results](#Visualize-Results)\n",
    "- [Shut Down](#Shut-Down)"
   ]
  },
  {
   "cell_type": "markdown",
   "metadata": {},
   "source": [
    "## Add conda environment to Jupyter Notebook <a name=\"setup\"></a>\n",
    "\n",
    "Please ensure that you have activated the `conda` environment following the instructions in the project README.\n",
    "\n",
    "Once done, run the following commands in your terminal to install your conda environment into the Jupyter Notebook:\n",
    "\n",
    "1. Once you have activated the conda environment, install the `ipykernel` package: `conda install -c anaconda ipykernel`\n",
    "\n",
    "2. Next, install the `ipykernel` module within Jupyter Notebook: `python -m ipykernel install --user --name=<conda_env>`\n",
    "\n",
    "3. Please install the `matplotlib` package for your conda environment.\n",
    "\n",
    "4. Finally, restart the jupyter notebook once done. Ensure that you are running this Notebook from `<project_path>/Notebooks/`, where project_path is the directory where the IBMFL repository was cloned.\n",
    "\n",
    "When the Notebook is up and running it may prompt you to choose the kernel. Use the drop down to choose the kernel name same as that chosen when running `conda activate <conda_env>`. If no prompt shows up, you can change the kernel by clicking _Kernel_ > _Change kernel_ > _`<conda_env>`_."
   ]
  },
  {
   "cell_type": "markdown",
   "metadata": {},
   "source": [
    "## Federated Learning (FL) <a name=\"intro\"></a>\n",
    "\n",
    "**Federated Learning (FL)** is a distributed machine learning process in which each participant node (or party) retains their data locally and interacts with  other participants via a learning protocol. \n",
    "One main driver behind FL is the need to not share data with others  due to privacy and confidentially concerns.\n",
    "Another driver is to improve the speed of training a machine learning model by leveraging other participants' training processes.\n",
    "\n",
    "Setting up such a federated learning system requires setting up a communication infrastructure, converting machine learning algorithms to federated settings and in some cases knowing about the intricacies of security and privacy enabling techniques such as differential privacy and multi-party computation. \n",
    "\n",
    "In this Notebook we use [IBM FL](https://github.com/IBM/federated-learning-lib) together with Homomorphic Encryption to have multiple parties train a classifier to recognise handwritten digits in the [MNIST dataset](http://yann.lecun.com/exdb/mnist/). \n",
    "\n",
    "For a more technical dive into IBM FL, refer the whitepaper [here](https://arxiv.org/pdf/2007.10987.pdf)."
   ]
  },
  {
   "cell_type": "markdown",
   "metadata": {},
   "source": [
    "In the following cells, we set up each of the components of a Federated Learning network (see Figure below), wherein all involved parties aid in training their respective local cartpoles to arrive at the upright pendulum state. In this notebook we default to 2 parties, but depending on your resources you may use more parties.\n",
    "\n",
    "<img style=\"display=block; margin:auto\" src=\"../images/FL_Network.png\" width=\"720\"/>\n",
    "<p style=\"text-align: center\">Modified from Image Source: <a href=\"https://arxiv.org/pdf/2007.10987.pdf\">IBM Federated Learning: An Enterprise FrameworkWhite Paper V0.1</a></p>"
   ]
  },
  {
   "cell_type": "markdown",
   "metadata": {},
   "source": [
    "## Why secure aggregation techniques are necessary? <a name=\"threats\"></a>\n",
    "\n",
    "Federated Learning inherently provides some level of privacy because parties do not need to share their raw training data. However, some federations have stringent privacy requirements or are subject to regulation that may dictate that the system needs to add additional protection mechanisms to prevent inference of private information. <!--This raises risks for inference attacks on the training data from party updates. simply keeping the data at the party side is not sufficient for protecting privacy, since updates from a party may leak some information. In untrusted environments adversaries may try to infer information by analyzing other parties' replies.-->\n",
    "\n",
    "<img style=\"display=block; margin:auto\" src=\"../images/attack_surface.png\" width=\"520\"/>\n",
    "<p style=\"text-align: center\">Inferences over replies</p>\n",
    "\n",
    "One inference attack to recover original training images from gradients exachanged between the aggregator and parties is shown below.\n",
    "\n",
    "![SegmentLocal](../images/inference.gif \"segment\")\n",
    "<p style=\"text-align: center\">Taken from <a href=\"https://github.com/mit-han-lab/dlg\"> Deep Leakage From Gradients     \n",
    "</a></p>\n",
    "\n",
    "Homomorphic Encryption can help us reduce the risk by hiding the final model from the aggregator and only revealing the aggregated version to the parties. Homomorphic Encryption is a crypto system that allows an entity to perform computations on encrypted data without decrypting it.  In other words, it enables the computation of a function over encrypted inputs and produces the result in encrypted form.  \n",
    "\n",
    "<img style=\"display=block; margin:auto\" src=\"../images/FHE_basics_1.png\" width=\"600\"/>\n",
    "<p style=\"text-align: center\">Homomorphic Encryption in Federated Learning</p>"
   ]
  },
  {
   "cell_type": "markdown",
   "metadata": {},
   "source": [
    "## How does IBM FL work with HE? <a name=\"HE-FL\"></a>\n",
    "\n",
    "IBM FL uses the *[Cheon-Kim-Kim-Song (CKKS) scheme](https://eprint.iacr.org/2016/421.pdf)* for Homomorphic Encryption. HE functionalities are implemented using *[IBM HElayers software development kit (SDK)](https://github.com/IBM/helayers)*, and in particular, its *[PyHElayers](https://github.com/IBM/helayers#pyhelayers-python-package)* Python package. You can install `pyhelayers` in your conda environment by running `pip install pyhelayers`. Note that `pyhelayers` is currently supported only on Linux (x86 and IBM Z).\n",
    "\n",
    "<img style=\"display=block; margin:auto\" src=\"../images/ibmfl_helayer.png\" width=\"512\"/>\n",
    "<p style=\"text-align: center\">IBM FL library integrated with HELayers </p>\n",
    "\n",
    "After enabling IBM FL with HE, the aggregator does not see model updates in plaintext. The aggregator sees encrypted model updates and performs aggregation under encryption, as shown in the figure below. \n",
    "\n",
    "![SegmentLocal](../images/FL_FHE_v3.gif \"segment\")\n",
    "<p style=\"text-align: center\">FL Training with HE</a></p>"
   ]
  },
  {
   "cell_type": "markdown",
   "metadata": {},
   "source": [
    "## Digit Recognition <a name=\"mnist\"></a>\n",
    "\n"
   ]
  },
  {
   "cell_type": "markdown",
   "metadata": {},
   "source": [
    "<img style=\"display=block; margin:auto\" src=\"../images/MnistExamples.png\" width=\"512\"/>\n",
    "<p style=\"text-align: center\">Image Source: Josef Steppan / CC BY-SA <a href=\"https://creativecommons.org/licenses/by-sa/4.0\">Wikimedia Commons</a></p>"
   ]
  },
  {
   "cell_type": "markdown",
   "metadata": {},
   "source": [
    "The problem at hand is to recognize digits from these tens of thousands of handwritten images. In this notebook, we are going to assume that the parties and the aggregator are run in the same machine. For that purpose, we first randomly split the training data to each party. Then, we define the neural network definition. After that we start the aggregator and we need to register and run all parties by running two other notebooks."
   ]
  },
  {
   "cell_type": "markdown",
   "metadata": {},
   "source": [
    "### Getting things ready\n",
    "We begin by setting the number of parties that will participate in the federated learning run and splitting up the data among them."
   ]
  },
  {
   "cell_type": "code",
   "execution_count": 1,
   "metadata": {},
   "outputs": [],
   "source": [
    "import sys\n",
    "sys.path.append('../..')\n",
    "import os\n",
    "os.chdir(\"../..\")\n",
    "\n",
    "num_parties = 2  ## number of participating parties\n",
    "dataset = 'mnist'"
   ]
  },
  {
   "cell_type": "markdown",
   "metadata": {},
   "source": [
    "We use `examples/generate_data.py` to split the dataset into files for each party. \n",
    "\n",
    "The script allows specifying the number of parties as well as the dataset to use (from several supported datasets: _mnist_, _femnist_, _cifar10_ and many others). \n",
    "\n",
    "The `-pp` argument states how many data points to choose per party. If the option `--stratify` is given, the library stratifies the data proportionally according to the source distribution. If you want to run this notebook in different machines, you can assign samples for each party locally. Then, we define the neural network definition."
   ]
  },
  {
   "cell_type": "code",
   "execution_count": 2,
   "metadata": {},
   "outputs": [
    {
     "name": "stdout",
     "output_type": "stream",
     "text": [
      "Warning: test set and train set contain different labels\n",
      "Party_ 0\n",
      "nb_x_train:  (500, 28, 28) nb_x_test:  (5000, 28, 28)\n",
      "* Label  0  samples:  47\n",
      "* Label  1  samples:  44\n",
      "* Label  2  samples:  55\n",
      "* Label  3  samples:  60\n",
      "* Label  4  samples:  53\n",
      "* Label  5  samples:  51\n",
      "* Label  6  samples:  55\n",
      "* Label  7  samples:  43\n",
      "* Label  8  samples:  42\n",
      "* Label  9  samples:  50\n",
      "Finished! :) Data saved in  examples/data/mnist/random\n",
      "Party_ 1\n",
      "nb_x_train:  (500, 28, 28) nb_x_test:  (5000, 28, 28)\n",
      "* Label  0  samples:  55\n",
      "* Label  1  samples:  65\n",
      "* Label  2  samples:  44\n",
      "* Label  3  samples:  39\n",
      "* Label  4  samples:  59\n",
      "* Label  5  samples:  46\n",
      "* Label  6  samples:  48\n",
      "* Label  7  samples:  53\n",
      "* Label  8  samples:  39\n",
      "* Label  9  samples:  52\n",
      "Finished! :) Data saved in  examples/data/mnist/random\n"
     ]
    }
   ],
   "source": [
    "%run examples/generate_data.py -n $num_parties -d $dataset -pp 500 "
   ]
  },
  {
   "cell_type": "markdown",
   "metadata": {},
   "source": [
    "Generate the tensorflow model definition file using the below function `save_model_config`. Please note that parties data and the model file needs to be copied to the parties if you launch parties on different nodes."
   ]
  },
  {
   "cell_type": "code",
   "execution_count": 3,
   "metadata": {},
   "outputs": [
    {
     "name": "stderr",
     "output_type": "stream",
     "text": [
      "2022-11-18 20:17:41.003070: I tensorflow/compiler/jit/xla_cpu_device.cc:41] Not creating XLA devices, tf_xla_enable_xla_devices not set\n",
      "2022-11-18 20:17:41.003324: I tensorflow/core/platform/cpu_feature_guard.cc:142] This TensorFlow binary is optimized with oneAPI Deep Neural Network Library (oneDNN) to use the following CPU instructions in performance-critical operations:  SSE4.1 SSE4.2 AVX AVX2 FMA\n",
      "To enable them in other operations, rebuild TensorFlow with the appropriate compiler flags.\n",
      "2022-11-18 20:17:41.006621: I tensorflow/core/common_runtime/process_util.cc:146] Creating new thread pool with default inter op setting: 2. Tune using inter_op_parallelism_threads for best performance.\n",
      "2022-11-18 20:17:41.216419: W tensorflow/python/util/util.cc:348] Sets are not currently considered sequences, but this may change in the future, so consider avoiding using them.\n"
     ]
    },
    {
     "name": "stdout",
     "output_type": "stream",
     "text": [
      "INFO:tensorflow:Assets written to: examples/configs/tf_classifier/assets\n"
     ]
    },
    {
     "data": {
      "text/plain": [
       "{'name': 'TensorFlowFLModel',\n",
       " 'path': 'ibmfl.model.tensorflow_fl_model',\n",
       " 'spec': {'model_name': 'tf-cnn',\n",
       "  'model_definition': 'examples/configs/tf_classifier'}}"
      ]
     },
     "execution_count": 3,
     "metadata": {},
     "output_type": "execute_result"
    }
   ],
   "source": [
    "import os\n",
    "import tensorflow as tf\n",
    "\n",
    "def save_model_config(folder_configs):\n",
    "    # Define model\n",
    "    num_classes = 10\n",
    "    img_rows, img_cols = 28, 28\n",
    "    class MnistCnnModel(tf.keras.Model):\n",
    "        def __init__(self):\n",
    "            super(MnistCnnModel, self).__init__()\n",
    "            self.conv1 = tf.keras.layers.Conv2D(32, 3, activation='relu')\n",
    "            self.flatten = tf.keras.layers.Flatten()\n",
    "            self.d1 = tf.keras.layers.Dense(128, activation='relu')\n",
    "            self.d2 = tf.keras.layers.Dense(num_classes)\n",
    "\n",
    "        def call(self, x):\n",
    "            x = self.conv1(x)\n",
    "            x = self.flatten(x)\n",
    "            x = self.d1(x)\n",
    "            return self.d2(x)\n",
    "\n",
    "    model = MnistCnnModel()\n",
    "    model.compile(loss=tf.keras.losses.SparseCategoricalCrossentropy(from_logits=True),\n",
    "                  optimizer=tf.keras.optimizers.Adam(),\n",
    "                  metrics=[tf.keras.metrics.SparseCategoricalAccuracy(name='accuracy')])\n",
    "    input_shape = (None, img_rows, img_cols, 1)\n",
    "    model.compute_output_shape(input_shape=input_shape)\n",
    "\n",
    "    # Save model\n",
    "    if not os.path.exists(folder_configs):\n",
    "        os.makedirs(folder_configs)\n",
    "    model.save(folder_configs)\n",
    "\n",
    "    # Generate model spec:\n",
    "    spec = {\n",
    "        'model_name': 'tf-cnn',\n",
    "        'model_definition': folder_configs\n",
    "    }\n",
    "\n",
    "    model = {\n",
    "        'name': 'TensorFlowFLModel',\n",
    "        'path': 'ibmfl.model.tensorflow_fl_model',\n",
    "        'spec': spec\n",
    "    }\n",
    "\n",
    "    return model\n",
    "save_model_config('examples/configs/tf_classifier')"
   ]
  },
  {
   "cell_type": "markdown",
   "metadata": {},
   "source": [
    "#### Set up Homomorphic Encryption (HE) Keys\n",
    "\n",
    "The HE crypto system uses a public key and a secret key. As shown in the figure, secure aggregation using the HE crypto system requires the aggregator to obtain the public key and the parties to share the private key. In what follows, we will go into detail into how to generate the HE keys. "
   ]
  },
  {
   "cell_type": "markdown",
   "metadata": {},
   "source": [
    "<img style=\"display=block; margin:auto\" src=\"../images/FL_HE_keys.png\" width=\"512\"/>\n",
    "<p style=\"text-align: center\">Parties share an HE private key, and share with the aggregator an HE public key.</p>"
   ]
  },
  {
   "cell_type": "markdown",
   "metadata": {},
   "source": [
    "The easiest (and a recommended) way to generate HE keys is to run the `generate_store_HE_keys()` method that takes the following arguments:\n",
    "\n",
    "- `path_for_public_key`: Path at which the public key file of HELayers will be stored.\n",
    "- `path_for_secret_key`: Path at which the secret key file of HELayers will be stored.\n",
    "- `HE_parames` (optional): Dictionary specifying the parametes of Homomorphic Encryption (HE). When using the default parameters, this argument is not required.\n",
    "\n",
    "In HE-based aggregation in IBM-FL, all parties will have the access to the secret key. The aggregator will not have access to the secret key. It is worth noting that the secret key is used for decryption. Any entity that has an access to the secret key can decrypt the model updates from any party, and it is important that the parties protect the secret key.  \n",
    "\n",
    "The public key file, often called as the context file, has the public key (along with some other parameters) required to perform homomorphic operations. In HE-based aggregation, the aggregator will have only the public key context file. Since the aggregator does not have the secret key, it cannot learn anything from the ciphertexts it receives from the parties. The aggregator performs aggregation under encryption (using the public key context file).\n",
    "\n",
    "For details on HE parameters and how to set up custom parameters, see the tutorial on *Key Setup* (`Notebooks/crypto_fhe_key_setup.ipynb`)."
   ]
  },
  {
   "cell_type": "code",
   "execution_count": null,
   "metadata": {},
   "outputs": [],
   "source": [
    "from ibmfl.crypto.generate_store_HE_keys import generate_store_HE_keys\n",
    "\n",
    "# Path for public key context file\n",
    "ctx_file = os.path.join(os.getcwd(), 'Notebooks/fhe.context')\n",
    "# Path for secret key context file\n",
    "key_file = os.path.join(os.getcwd(), 'Notebooks/fhe.key')\n",
    "\n",
    "generate_store_HE_keys(path_for_public_key = ctx_file, path_for_secret_key = key_file)"
   ]
  },
  {
   "cell_type": "markdown",
   "metadata": {},
   "source": [
    "## Aggregator"
   ]
  },
  {
   "cell_type": "markdown",
   "metadata": {},
   "source": [
    "Aggregator coordinates the overall process, communicates with the parties and integrates the results of the training process. This integration of results is done using the _Fusion Algorithm_.\n",
    "\n",
    "A fusion algorithm queries the registered parties to carry out the federated learning process. The queries sent vary according to the model/algorithm type.  In return, parties send their reply as a model update object, and these model updates are then aggregated according to the specified Fusion Algorithm, specified via a `Fusion Handler` class. \n",
    "\n",
    "To take a look at the supported fusion algorithms, refer the IBM FL tutorial page [here](https://github.com/IBM/federated-learning-lib/blob/main/README.md#supported-functionality)."
   ]
  },
  {
   "cell_type": "markdown",
   "metadata": {},
   "source": [
    "### Aggregator Configuration\n",
    "\n",
    "We discuss the various configuration parameters for the Aggregator [here.](https://github.com/IBM/federated-learning-lib/blob/main/docs/tutorials/configure_fl.md#the-aggregators-configuration-file)\n",
    "\n",
    "Given below is an example of the aggregator's configuration file. In this example, the aggregator does not specify a data file or maintain a global model. Hence, during the federated learning process, it only keeps track of the current model parameters. \n",
    "\n",
    "However, it is possible that the aggregator also has data for testing purposes and maintains a global model. When this is the case, one needs to add `data` and `model` sections in the configuration file."
   ]
  },
  {
   "cell_type": "markdown",
   "metadata": {},
   "source": [
    "<img style=\"display=block; margin:auto\" src=\"../images/FHE_stacks.png\" width=\"680\"/>\n",
    "<p style=\"text-align: center\">Aggregator and Party side configurations</a></p>"
   ]
  },
  {
   "cell_type": "markdown",
   "metadata": {},
   "source": [
    "#### Building blocks in the configuration file:\n",
    "\n",
    "- `connection` (also used in Party config): needed to initiate the connection; includes server information (`info`, optional, depends on the connection type), a connection class name, a connection file location, and a synchronization mode flag (`sync`) for training phase\n",
    "\n",
    "- `fusion`: needed to initiate a fusion algorithm at the aggregator side; includes a smc-based fusion handler class name, a smc-based fusion handler file location, and and specifies the crypto system and key manager in the info section.\n",
    "    1. 'name': 'CryptoIterAvgFusionHandler', -> This makes sure that the fusion handler which implements `iterative averaging` fusion handler with homomorphic encryption is invoked (currently, only the `iterative averaging` fusion handler is supported with HE)\n",
    "    2. 'path': 'ibmfl.aggregator.fusion.crypto_fedavg_fusion_handler', -> The path to the previous item \n",
    "    3. 'info': Inside this field, we specify the crypto options including:\n",
    "        - crypto\n",
    "            - name: specify the crypto system (Use `CryptoFHE` which implements Homomorphic Encryption. Other crypto systems may be added at a later stage.)\n",
    "            - path: the path to the previous item\n",
    "            - key_manager:\n",
    "                + name: specify the key manager type (This is fixed to `LocalDiskKeyManager` for now. More key management protocols may be added at a later stage.)\n",
    "                + path: the path to the previous item (This is fixed to `ibmfl.crypto.keys_mng.crypto_key_mng_dsk` for now.)\n",
    "                + key_mgr_info: specify the path for the public key context file\n",
    "\n",
    "\n",
    "- `protocol_handler`: needed to initiate a protocol; includes a crypto protocol handler class name and a protocol handler file location.\n",
    "    - 'name': 'ProtoHandler', -> This makes sure that the generic crypto module is invoke.\n",
    "    - 'path': 'ibmfl.aggregator.protohandler.proto_handler', -> The path to the previous item.\n",
    "\n",
    "- `hyperparams`: includes global training and local training hyperparameters, including `termination_accuracy`, learning rate (`lr`), `optimizer`, etc., depending on the model being used.\n",
    "\n",
    "For detailed documentation of the objects described below, refer the API docs [here](https://ibmfl.mybluemix.net/api-documentation)."
   ]
  },
  {
   "cell_type": "code",
   "execution_count": 5,
   "metadata": {
    "scrolled": true
   },
   "outputs": [],
   "source": [
    "ctx_file = os.path.join(os.getcwd(), 'Notebooks/fhe.context')\n",
    "agg_config = {\n",
    "    'connection': {\n",
    "        'info': {\n",
    "            'ip': '127.0.0.1',\n",
    "            'port': 5000,\n",
    "        },\n",
    "        'name': 'FlaskConnection',\n",
    "        'path': 'ibmfl.connection.flask_connection',\n",
    "        'sync': 'False'\n",
    "    },\n",
    "    'fusion': {\n",
    "        'name': 'CryptoIterAvgFusionHandler',\n",
    "        'path': 'ibmfl.aggregator.fusion.crypto_iter_avg_fusion_handler',\n",
    "        'info': {\n",
    "            'crypto': {\n",
    "                'name': 'CryptoFHE',\n",
    "                'path': 'ibmfl.crypto.helayer.fhe',\n",
    "                'key_manager': {\n",
    "                    'name': 'LocalDiskKeyManager',\n",
    "                    'path': 'ibmfl.crypto.keys_mng.crypto_key_mng_dsk',\n",
    "                    'key_mgr_info': {\n",
    "                        'files': {\n",
    "                            'context': ctx_file\n",
    "                        }\n",
    "                    }\n",
    "                }\n",
    "            }\n",
    "        }\n",
    "    },\n",
    "    'hyperparams': {\n",
    "        'global': {\n",
    "            'num_parties': num_parties,\n",
    "            'rounds': 3,\n",
    "            'termination_accuracy': 0.9\n",
    "        },\n",
    "        'local': {\n",
    "            'training': {\n",
    "                'epochs': 5\n",
    "            }\n",
    "        }\n",
    "    },\n",
    "    'protocol_handler': {\n",
    "        'name': 'ProtoHandler',\n",
    "        'path': 'ibmfl.aggregator.protohandler.proto_handler'\n",
    "    }\n",
    "}"
   ]
  },
  {
   "cell_type": "markdown",
   "metadata": {},
   "source": [
    "### Running the Aggregator\n",
    "Next we pass the configuration parameters set in the previous cell to instantiate the `Aggregator` object. Finally, we `start()` the Aggregator process."
   ]
  },
  {
   "cell_type": "code",
   "execution_count": 6,
   "metadata": {
    "scrolled": true
   },
   "outputs": [
    {
     "name": "stdout",
     "output_type": "stream",
     "text": [
      "2022-11-18 20:17:55,967 | 1.0.7 | INFO | ibmfl.util.config                             | Getting Aggregator details from arguments.\n",
      "2022-11-18 20:17:55,968 | 1.0.7 | INFO | ibmfl.util.config                             | No data config provided for this setup.\n",
      "2022-11-18 20:17:55,968 | 1.0.7 | INFO | ibmfl.util.config                             | No metrics recorder config provided for this setup.\n",
      "2022-11-18 20:17:55,969 | 1.0.7 | INFO | ibmfl.util.config                             | No model config provided for this setup.\n",
      "2022-11-18 20:17:56,062 | 1.0.7 | INFO | ibmfl.util.config                             | No metrics config provided for this setup.\n",
      "2022-11-18 20:17:56,063 | 1.0.7 | INFO | ibmfl.util.config                             | No evidencia recordeer config provided for this setup.\n",
      "2022-11-18 20:17:56,064 | 1.0.7 | INFO | ibmfl.connection.flask_connection             | RestSender initialized\n",
      "2022-11-18 20:17:56,065 | 1.0.7 | INFO | ibmfl.aggregator.protohandler.proto_handler   | State: States.START\n",
      "2022-11-18 20:17:56,066 | 1.0.7 | INFO | ibmfl.aggregator.fusion.fusion_handler        | Warm start flag set to False.\n",
      "2022-11-18 20:17:56,067 | 1.0.7 | INFO | ibmfl.crypto.crypto_library                   | Initializing a key manager\n",
      "2022-11-18 20:17:56,068 | 1.0.7 | INFO | ibmfl.crypto.helayer.fhe                      | Initializing keys\n",
      "2022-11-18 20:17:56,069 | 1.0.7 | INFO | ibmfl.crypto.helayer.fhe                      | Initializing a FHE Cipher\n",
      "2022-11-18 20:17:56,089 | 1.0.7 | INFO | ibmfl.crypto.helayer.fhe                      | No flag for privacy of fusion weights in config. Setting to default value of False.\n",
      "2022-11-18 20:17:56,090 | 1.0.7 | INFO | ibmfl.connection.flask_connection             | Receiver Initialized\n",
      "2022-11-18 20:17:56,091 | 1.0.7 | INFO | ibmfl.connection.flask_connection             | Initializing Flask application\n",
      "2022-11-18 20:17:56,094 | 1.0.7 | INFO | ibmfl.aggregator.aggregator                   | Aggregator initialization successful\n",
      "2022-11-18 20:17:56,095 | 1.0.7 | INFO | ibmfl.aggregator.aggregator                   | Aggregator start successful\n",
      "2022-11-18 20:17:56,098 | 1.0.7 | INFO | werkzeug                                      |  * Running on http://127.0.0.1:5000/ (Press CTRL+C to quit)\n",
      "2022-11-18 20:18:14,686 | 1.0.7 | INFO | ibmfl.connection.flask_connection             | Request received for path :6\n",
      "2022-11-18 20:18:14,688 | 1.0.7 | INFO | ibmfl.aggregator.protohandler.proto_handler   | Adding party with id cdc14bf1-4e12-4358-9586-bb0668dc65a9\n",
      "2022-11-18 20:18:14,689 | 1.0.7 | INFO | ibmfl.aggregator.protohandler.proto_handler   | Total number of registered parties:1\n",
      "2022-11-18 20:18:14,690 | 1.0.7 | INFO | werkzeug                                      | 127.0.0.1 - - [18/Nov/2022 20:18:14] \"POST /6 HTTP/1.1\" 200 -\n",
      "2022-11-18 20:18:39,411 | 1.0.7 | INFO | ibmfl.connection.flask_connection             | Request received for path :6\n",
      "2022-11-18 20:18:39,412 | 1.0.7 | INFO | ibmfl.aggregator.protohandler.proto_handler   | Adding party with id 3975183a-8692-4b08-b4c6-182c443a882a\n",
      "2022-11-18 20:18:39,413 | 1.0.7 | INFO | ibmfl.aggregator.protohandler.proto_handler   | Total number of registered parties:2\n",
      "2022-11-18 20:18:39,414 | 1.0.7 | INFO | werkzeug                                      | 127.0.0.1 - - [18/Nov/2022 20:18:39] \"POST /6 HTTP/1.1\" 200 -\n"
     ]
    }
   ],
   "source": [
    "from ibmfl.aggregator.aggregator import Aggregator\n",
    "aggregator = Aggregator(config_dict=agg_config)\n",
    "\n",
    "aggregator.start()"
   ]
  },
  {
   "cell_type": "markdown",
   "metadata": {},
   "source": [
    "## Starting Parties\n",
    "\n",
    "Now that we have Aggregator running, next we go to party notebooks (`tensorflow_classifier_p0.ipynb` and `tensorflow_classifier_p1.ipynb`) to start and register them with the Aggregator. Once all the parties are done with registration, we will move to next step to start training."
   ]
  },
  {
   "cell_type": "markdown",
   "metadata": {},
   "source": [
    "## Training and Evaluation <a name=\"Training-and-Evaluation\"></a>\n",
    "\n",
    "Now that our network has been set up, we begin training the model by invoking the Aggregator's `start_training()` method. \n",
    "\n",
    "This could take some time, depending on your system specifications. Feel free to get your dose of coffee meanwhile ☕"
   ]
  },
  {
   "cell_type": "code",
   "execution_count": 7,
   "metadata": {
    "scrolled": true
   },
   "outputs": [
    {
     "name": "stdout",
     "output_type": "stream",
     "text": [
      "2022-11-18 20:18:49,073 | 1.0.7 | INFO | ibmfl.aggregator.aggregator                   | Initiating Global Training.\n",
      "2022-11-18 20:18:49,074 | 1.0.7 | INFO | ibmfl.aggregator.fusion.fusion_handler        | Warm start disabled.\n",
      "2022-11-18 20:18:49,075 | 1.0.7 | INFO | ibmfl.aggregator.fusion.crypto_iter_avg_fusion_handler | start_global_training: [round: 0] [model update: None]\n",
      "2022-11-18 20:18:49,075 | 1.0.7 | INFO | ibmfl.aggregator.fusion.fusion_state_service  | Fusion state States.SND_MODEL\n",
      "2022-11-18 20:18:49,076 | 1.0.7 | INFO | ibmfl.aggregator.protohandler.proto_handler   | State: States.SND_REQ\n",
      "2022-11-18 20:18:49,096 | 1.0.7 | INFO | ibmfl.aggregator.protohandler.proto_handler   | Total number of success responses :2\n",
      "2022-11-18 20:18:49,097 | 1.0.7 | INFO | ibmfl.aggregator.protohandler.proto_handler   | Number of parties queried:2\n",
      "2022-11-18 20:18:49,098 | 1.0.7 | INFO | ibmfl.aggregator.protohandler.proto_handler   | Number of registered parties:2\n",
      "2022-11-18 20:18:49,099 | 1.0.7 | INFO | ibmfl.aggregator.protohandler.proto_handler   | State: States.QUORUM_WAIT\n",
      "2022-11-18 20:18:54,105 | 1.0.7 | INFO | ibmfl.aggregator.protohandler.proto_handler   | Timeout:None Time spent:5\n",
      "2022-11-18 20:18:59,109 | 1.0.7 | INFO | ibmfl.aggregator.protohandler.proto_handler   | Timeout:None Time spent:10\n",
      "2022-11-18 20:19:02,652 | 1.0.7 | INFO | ibmfl.connection.flask_connection             | Request received for path :7\n",
      "2022-11-18 20:19:03,748 | 1.0.7 | INFO | ibmfl.connection.flask_connection             | Request received for path :7\n",
      "2022-11-18 20:19:04,963 | 1.0.7 | INFO | ibmfl.aggregator.protohandler.proto_handler   | Timeout:None Time spent:16\n",
      "2022-11-18 20:19:04,998 | 1.0.7 | INFO | werkzeug                                      | 127.0.0.1 - - [18/Nov/2022 20:19:04] \"POST /7 HTTP/1.1\" 200 -\n",
      "2022-11-18 20:19:07,338 | 1.0.7 | INFO | werkzeug                                      | 127.0.0.1 - - [18/Nov/2022 20:19:07] \"POST /7 HTTP/1.1\" 200 -\n",
      "2022-11-18 20:19:10,004 | 1.0.7 | INFO | ibmfl.aggregator.protohandler.proto_handler   | Timeout:None Time spent:21\n",
      "2022-11-18 20:19:10,005 | 1.0.7 | INFO | ibmfl.aggregator.protohandler.proto_handler   | State: States.PROC_RSP\n",
      "2022-11-18 20:19:10,005 | 1.0.7 | INFO | ibmfl.aggregator.fusion.fusion_state_service  | Fusion state States.RCV_MODEL\n",
      "2022-11-18 20:19:10,006 | 1.0.7 | INFO | ibmfl.aggregator.fusion.fusion_state_service  | Fusion state States.AGGREGATING\n",
      "2022-11-18 20:19:10,009 | 1.0.7 | INFO | ibmfl.crypto.helayer.fhe                      | Start ciphertext fusing\n",
      "2022-11-18 20:19:12,217 | 1.0.7 | INFO | ibmfl.crypto.helayer.fhe                      | Ciphertext fusion done\n",
      "2022-11-18 20:19:12,263 | 1.0.7 | INFO | ibmfl.aggregator.fusion.crypto_iter_avg_fusion_handler | start_global_training: [round: 1] [model update: <ibmfl.model.model_update.ModelUpdate object at 0x7ff58cb56b20>]\n",
      "2022-11-18 20:19:12,265 | 1.0.7 | INFO | ibmfl.aggregator.fusion.fusion_state_service  | Fusion state States.SND_MODEL\n",
      "2022-11-18 20:19:12,267 | 1.0.7 | INFO | ibmfl.aggregator.protohandler.proto_handler   | State: States.SND_REQ\n",
      "2022-11-18 20:19:15,653 | 1.0.7 | INFO | ibmfl.aggregator.protohandler.proto_handler   | Total number of success responses :2\n",
      "2022-11-18 20:19:15,654 | 1.0.7 | INFO | ibmfl.aggregator.protohandler.proto_handler   | Number of parties queried:2\n",
      "2022-11-18 20:19:15,655 | 1.0.7 | INFO | ibmfl.aggregator.protohandler.proto_handler   | Number of registered parties:2\n",
      "2022-11-18 20:19:15,656 | 1.0.7 | INFO | ibmfl.aggregator.protohandler.proto_handler   | State: States.QUORUM_WAIT\n",
      "2022-11-18 20:19:20,661 | 1.0.7 | INFO | ibmfl.aggregator.protohandler.proto_handler   | Timeout:None Time spent:5\n",
      "2022-11-18 20:19:25,665 | 1.0.7 | INFO | ibmfl.aggregator.protohandler.proto_handler   | Timeout:None Time spent:10\n",
      "2022-11-18 20:19:27,895 | 1.0.7 | INFO | ibmfl.connection.flask_connection             | Request received for path :7\n",
      "2022-11-18 20:19:27,902 | 1.0.7 | INFO | ibmfl.connection.flask_connection             | Request received for path :7\n",
      "2022-11-18 20:19:31,138 | 1.0.7 | INFO | ibmfl.aggregator.protohandler.proto_handler   | Timeout:None Time spent:15\n",
      "2022-11-18 20:19:32,411 | 1.0.7 | INFO | werkzeug                                      | 127.0.0.1 - - [18/Nov/2022 20:19:32] \"POST /7 HTTP/1.1\" 200 -\n",
      "2022-11-18 20:19:32,433 | 1.0.7 | INFO | werkzeug                                      | 127.0.0.1 - - [18/Nov/2022 20:19:32] \"POST /7 HTTP/1.1\" 200 -\n",
      "2022-11-18 20:19:32,434 | 1.0.7 | INFO | ibmfl.aggregator.protohandler.proto_handler   | State: States.PROC_RSP\n",
      "2022-11-18 20:19:32,438 | 1.0.7 | INFO | ibmfl.aggregator.fusion.fusion_state_service  | Fusion state States.RCV_MODEL\n",
      "2022-11-18 20:19:32,438 | 1.0.7 | INFO | ibmfl.aggregator.fusion.fusion_state_service  | Fusion state States.AGGREGATING\n",
      "2022-11-18 20:19:32,459 | 1.0.7 | INFO | ibmfl.crypto.helayer.fhe                      | Start ciphertext fusing\n",
      "2022-11-18 20:19:34,468 | 1.0.7 | INFO | ibmfl.crypto.helayer.fhe                      | Ciphertext fusion done\n",
      "2022-11-18 20:19:34,489 | 1.0.7 | INFO | ibmfl.aggregator.fusion.crypto_iter_avg_fusion_handler | start_global_training: [round: 2] [model update: <ibmfl.model.model_update.ModelUpdate object at 0x7ff63bed6fd0>]\n",
      "2022-11-18 20:19:34,533 | 1.0.7 | INFO | ibmfl.aggregator.fusion.fusion_state_service  | Fusion state States.SND_MODEL\n",
      "2022-11-18 20:19:34,536 | 1.0.7 | INFO | ibmfl.aggregator.protohandler.proto_handler   | State: States.SND_REQ\n",
      "2022-11-18 20:19:37,924 | 1.0.7 | INFO | ibmfl.aggregator.protohandler.proto_handler   | Total number of success responses :2\n",
      "2022-11-18 20:19:37,925 | 1.0.7 | INFO | ibmfl.aggregator.protohandler.proto_handler   | Number of parties queried:2\n",
      "2022-11-18 20:19:37,926 | 1.0.7 | INFO | ibmfl.aggregator.protohandler.proto_handler   | Number of registered parties:2\n",
      "2022-11-18 20:19:37,926 | 1.0.7 | INFO | ibmfl.aggregator.protohandler.proto_handler   | State: States.QUORUM_WAIT\n",
      "2022-11-18 20:19:42,932 | 1.0.7 | INFO | ibmfl.aggregator.protohandler.proto_handler   | Timeout:None Time spent:5\n",
      "2022-11-18 20:19:47,938 | 1.0.7 | INFO | ibmfl.aggregator.protohandler.proto_handler   | Timeout:None Time spent:10\n",
      "2022-11-18 20:19:48,988 | 1.0.7 | INFO | ibmfl.connection.flask_connection             | Request received for path :7\n",
      "2022-11-18 20:19:49,079 | 1.0.7 | INFO | ibmfl.connection.flask_connection             | Request received for path :7\n",
      "2022-11-18 20:19:53,491 | 1.0.7 | INFO | ibmfl.aggregator.protohandler.proto_handler   | Timeout:None Time spent:16\n",
      "2022-11-18 20:19:53,511 | 1.0.7 | INFO | werkzeug                                      | 127.0.0.1 - - [18/Nov/2022 20:19:53] \"POST /7 HTTP/1.1\" 200 -\n",
      "2022-11-18 20:19:53,547 | 1.0.7 | INFO | werkzeug                                      | 127.0.0.1 - - [18/Nov/2022 20:19:53] \"POST /7 HTTP/1.1\" 200 -\n",
      "2022-11-18 20:19:58,517 | 1.0.7 | INFO | ibmfl.aggregator.protohandler.proto_handler   | Timeout:None Time spent:21\n",
      "2022-11-18 20:19:58,518 | 1.0.7 | INFO | ibmfl.aggregator.protohandler.proto_handler   | State: States.PROC_RSP\n",
      "2022-11-18 20:19:58,519 | 1.0.7 | INFO | ibmfl.aggregator.fusion.fusion_state_service  | Fusion state States.RCV_MODEL\n",
      "2022-11-18 20:19:58,520 | 1.0.7 | INFO | ibmfl.aggregator.fusion.fusion_state_service  | Fusion state States.AGGREGATING\n",
      "2022-11-18 20:19:58,533 | 1.0.7 | INFO | ibmfl.crypto.helayer.fhe                      | Start ciphertext fusing\n",
      "2022-11-18 20:20:00,516 | 1.0.7 | INFO | ibmfl.crypto.helayer.fhe                      | Ciphertext fusion done\n",
      "2022-11-18 20:20:00,534 | 1.0.7 | INFO | ibmfl.aggregator.fusion.iter_avg_fusion_handler | Reached maximum global rounds. Finish training :) \n",
      "2022-11-18 20:20:00,591 | 1.0.7 | INFO | ibmfl.aggregator.aggregator                   | Finished Global Training\n"
     ]
    },
    {
     "data": {
      "text/plain": [
       "True"
      ]
     },
     "execution_count": 7,
     "metadata": {},
     "output_type": "execute_result"
    }
   ],
   "source": [
    "\"\"\"\n",
    "#1 Initialize the metrics collector variables\n",
    "\"\"\"\n",
    "num_parties = agg_config['hyperparams']['global']['num_parties']\n",
    "eval_party_accuracy = [[] for _ in range(num_parties)]\n",
    "iterations = [[] for _ in range(num_parties)]\n",
    "\n",
    "\"\"\"\n",
    "#2 Register handler for metrics collector\n",
    "\"\"\"\n",
    "\n",
    "def get_metrics(metrics):\n",
    "    keys = list(metrics['party'].keys())\n",
    "    keys.sort()\n",
    "    for i in range(len(keys)):\n",
    "      eval_party_accuracy[i].append(metrics['party'][keys[i]]['acc'])\n",
    "      iterations[i].append(metrics['fusion']['curr_round']*agg_config['hyperparams']['local']['training']['epochs'])\n",
    "      \n",
    "mh = aggregator.fusion.metrics_manager\n",
    "mh.register(get_metrics)\n",
    "\n",
    "\n",
    "\"\"\"\n",
    "#3 start the training\n",
    "\"\"\"\n",
    "aggregator.start_training()"
   ]
  },
  {
   "cell_type": "markdown",
   "metadata": {},
   "source": [
    "## Visualize Results <a name=\"Visualize-Results\"></a>"
   ]
  },
  {
   "cell_type": "code",
   "execution_count": 8,
   "metadata": {},
   "outputs": [
    {
     "data": {
      "image/png": "[encoded data removed]",
      "text/plain": [
       "<Figure size 1440x720 with 1 Axes>"
      ]
     },
     "metadata": {
      "needs_background": "light"
     },
     "output_type": "display_data"
    }
   ],
   "source": [
    "\"\"\"\n",
    "#1 define a method to plot a smooth cure\n",
    "\"\"\"\n",
    "from matplotlib import pyplot as plt\n",
    "from scipy.interpolate import make_interp_spline, BSpline\n",
    "import numpy as np\n",
    "\n",
    "def smooth_curve(xaxis, yaxis):\n",
    "   xnew = np.linspace(min(xaxis), max(xaxis), len(xaxis)*50) \n",
    "\n",
    "   spl = make_interp_spline(xaxis, yaxis, k=1)  # type: BSpline\n",
    "   power_smooth = spl(xnew)\n",
    "   return xnew, power_smooth \n",
    "\n",
    "f = plt.figure(figsize=(20,10))\n",
    "plt.subplot(2, 2, 1)\n",
    "\n",
    "num_parties = agg_config['hyperparams']['global']['num_parties']\n",
    "\n",
    "\n",
    "\"\"\"\n",
    "#2 plot the evaluation curve\n",
    "\"\"\"\n",
    "for i in range(num_parties):\n",
    "    eval_party_xaxis, eval_party_yaxis = smooth_curve(iterations[i], eval_party_accuracy[i])\n",
    "    line1, = plt.plot(eval_party_xaxis, eval_party_yaxis)\n",
    "    line1.set_label('party'+str(i+1))\n",
    "plt.title('Evaluation Plot')\n",
    "plt.ylabel('Accuracy')\n",
    "plt.xlabel('Epochs')\n",
    "plt.legend()\n",
    "plt.show()"
   ]
  },
  {
   "cell_type": "markdown",
   "metadata": {},
   "source": [
    "## Visualize Parties' Training\n",
    "Please go to Parties' notebooks to visalize summary of Parties' training."
   ]
  },
  {
   "cell_type": "markdown",
   "metadata": {},
   "source": [
    "## Shut Down <a name=\"Shut-Down\"></a>\n",
    "\n",
    "Invoke the `stop()` method on each of the network participants to terminate the service."
   ]
  },
  {
   "cell_type": "code",
   "execution_count": 9,
   "metadata": {},
   "outputs": [
    {
     "name": "stdout",
     "output_type": "stream",
     "text": [
      "2022-11-18 20:42:38,155 | 1.0.7 | INFO | ibmfl.aggregator.protohandler.proto_handler   | State: States.SND_REQ\n",
      "2022-11-18 20:42:38,162 | 1.0.7 | WARNING | ibmfl.aggregator.protohandler.proto_handler   | Party dropped out: Error occurred while sending request to party: <ibmfl.aggregator.party_connection.PartyConnection object at 0x7ff58dba23a0> - HTTPConnectionPool(host='127.0.0.1', port=8086): Max retries exceeded with url: /14 (Caused by NewConnectionError('<urllib3.connection.HTTPConnection object at 0x7ff578654220>: Failed to establish a new connection: [Errno 111] Connection refused'))\n",
      "2022-11-18 20:42:38,163 | 1.0.7 | WARNING | ibmfl.aggregator.protohandler.proto_handler   | Party dropped out: Error occurred while sending request to party: <ibmfl.aggregator.party_connection.PartyConnection object at 0x7ff58db90fa0> - HTTPConnectionPool(host='127.0.0.1', port=8085): Max retries exceeded with url: /14 (Caused by NewConnectionError('<urllib3.connection.HTTPConnection object at 0x7ff63bed6a90>: Failed to establish a new connection: [Errno 111] Connection refused'))\n",
      "2022-11-18 20:42:38,165 | 1.0.7 | INFO | ibmfl.aggregator.protohandler.proto_handler   | Total number of success responses :0\n",
      "2022-11-18 20:42:38,166 | 1.0.7 | INFO | ibmfl.aggregator.protohandler.proto_handler   | Number of parties queried:2\n",
      "2022-11-18 20:42:38,167 | 1.0.7 | INFO | ibmfl.aggregator.protohandler.proto_handler   | Number of registered parties:2\n",
      "2022-11-18 20:42:38,167 | 1.0.7 | INFO | ibmfl.connection.flask_connection             | Stopping Receiver and Sender\n",
      "2022-11-18 20:42:38,172 | 1.0.7 | INFO | werkzeug                                      | 127.0.0.1 - - [18/Nov/2022 20:42:38] \"POST /shutdown HTTP/1.1\" 200 -\n",
      "2022-11-18 20:42:38,173 | 1.0.7 | INFO | ibmfl.aggregator.aggregator                   | Aggregator stop successful\n"
     ]
    },
    {
     "name": "stderr",
     "output_type": "stream",
     "text": [
      "/home/swanand.kadhe/git-repos/FFL/ibmfl/connection/flask_connection.py:248: UserWarning: The 'environ['werkzeug.server.shutdown']' function is deprecated and will be removed in Werkzeug 2.1.\n",
      "  func()\n"
     ]
    }
   ],
   "source": [
    "aggregator.stop()"
   ]
  }
 ],
 "metadata": {
  "kernelspec": {
   "display_name": "Python 3.6.8 64-bit",
   "language": "python",
   "name": "python3"
  },
  "language_info": {
   "codemirror_mode": {
    "name": "ipython",
    "version": 3
   },
   "file_extension": ".py",
   "mimetype": "text/x-python",
   "name": "python",
   "nbconvert_exporter": "python",
   "pygments_lexer": "ipython3",
   "version": "3.6.8"
  },
  "vscode": {
   "interpreter": {
    "hash": "31f2aee4e71d21fbe5cf8b01ff0e069b9275f58929596ceb00d14d90e3e16cd6"
   }
  }
 },
 "nbformat": 4,
 "nbformat_minor": 4
}
