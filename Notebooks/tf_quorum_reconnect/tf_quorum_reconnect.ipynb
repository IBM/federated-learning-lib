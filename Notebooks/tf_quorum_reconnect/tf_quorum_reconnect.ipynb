{
 "cells": [
  {
   "cell_type": "markdown",
   "metadata": {},
   "source": [
    "# Quorum and Reconnect support for dropped out parties in IBM FL"
   ]
  },
  {
   "cell_type": "markdown",
   "metadata": {},
   "source": [
    "## Outline:\n",
    "- [Add conda environment to Jupyter Notebook](#setup)\n",
    "- [Federated Learning(FL)](#intro)\n",
    "- [Aggregator](#Aggregator)\n",
    "    - [Aggregator Configuration](#Aggregator-Configuration)\n",
    "    - [Running the Aggregator](#Running-the-Aggregator)\n",
    "- [Paries](#Parties)\n",
    "    - [Parties Configuration](#Parties-Configuration)\n",
    "    - [Running the Parties](#Running-the-Parties)\n",
    "- [Training](#Training)\n",
    "- [Quorum](#Quorum)\n",
    "- [Rejoin](#Rejoin)\n",
    "- [Failed Quorum](#Failed-Quorum)\n",
    "- [Shut Down](#Shut-Down)"
   ]
  },
  {
   "cell_type": "markdown",
   "metadata": {},
   "source": [
    "## Add conda environment to Jupyter Notebook <a name=\"setup\"></a>\n",
    "\n",
    "Please ensure that you have activated the `conda` environment following the instructions in the project README.\n",
    "\n",
    "Once done, run the following commands in your terminal to install your conda environment into the Jupyter Notebook:\n",
    "\n",
    "1. Once you have activated the conda environment, install the `ipykernel` package: `conda install -c anaconda ipykernel`\n",
    "\n",
    "2. Next, install the `ipykernel` module within Jupyter Notebook: `python -m ipykernel install --user --name=<conda_env>`\n",
    "\n",
    "3. Please install the `matplotlib` package for your conda environment.\n",
    "\n",
    "4. Finally, restart the jupyter notebook once done. Ensure that you are running this Notebook from `<project_path>/Notebooks`, where project_path is the directory where the IBMFL repository was cloned.\n",
    "\n",
    "When the Notebook is up and running it may prompt you to choose the kernel. Use the drop down to choose the kernel name same as that chosen when running `conda activate <conda_env>`. If no prompt shows up, you can change the kernel by clicking _Kernel_ > _Change kernel_ > _`<conda_env>`_."
   ]
  },
  {
   "cell_type": "markdown",
   "metadata": {},
   "source": [
    "## Federated Learning (FL) <a name=\"intro\"></a>\n",
    "\n",
    "**Federated Learning (FL)** is a distributed machine learning process in which each participant node (or party) retains their data locally and interacts with  other participants via a learning protocol. \n",
    "One main driver behind FL is the need to not share data with others  due to privacy and confidentially concerns.\n",
    "Another driver is to improve the speed of training a machine learning model by leveraging other participants' training processes.\n",
    "\n",
    "Setting up such a federated learning system requires setting up a communication infrastructure, converting machine learning algorithms to federated settings and in some cases knowing about the intricacies of security and privacy enabling techniques such as differential privacy and multi-party computation. \n",
    "\n",
    "In this Notebook we use [IBM FL](https://github.com/IBM/federated-learning-lib) to have multiple parties train a classifier to recognise handwritten digits in the [MNIST dataset](http://yann.lecun.com/exdb/mnist/). \n",
    "\n",
    "For a more technical dive into IBM FL, refer the whitepaper [here](https://arxiv.org/pdf/2007.10987.pdf)."
   ]
  },
  {
   "cell_type": "markdown",
   "metadata": {},
   "source": [
    "In the following cells, we set up each of the components of a Federated Learning network (See Figure below) wherein all involved parties aid in training their respective local dataset. The goal of this notebook is to show how 'Quorum' and \"Reconnect' work in IBMFL. In this notebook we default to 4 parties, but depending on your resources you may use more parties.\n",
    "\n",
    "<img style=\"display=block; margin:auto\" src=\"../images/FL_Network.png\" width=\"720\"/>\n",
    "<p style=\"text-align: center\">Modified from Image Source: <a href=\"https://arxiv.org/pdf/2007.10987.pdf\">IBM Federated Learning: An Enterprise FrameworkWhite Paper V0.1</a></p>"
   ]
  },
  {
   "cell_type": "markdown",
   "metadata": {},
   "source": [
    "The problem at hand is to recognize digits from these tens of thousands of handwritten images. In this notebook, we are going to assume that the parties and the aggregator are run in the same machine. For that purpose, we first randomly split the training data to each party. Then, we define the neural network definition. After that we start the aggregator and we need to register and run all parties by running two other notebooks."
   ]
  },
  {
   "cell_type": "markdown",
   "metadata": {},
   "source": [
    "### Getting things ready\n",
    "We begin by setting the number of parties that will participate in the federated learning run and splitting up the data among them."
   ]
  },
  {
   "cell_type": "code",
   "execution_count": 1,
   "metadata": {},
   "outputs": [],
   "source": [
    "import sys\n",
    "sys.path.append('../..')\n",
    "import os\n",
    "os.chdir(\"../..\")\n",
    "\n",
    "num_parties = 4  ## number of participating parties\n",
    "dataset = 'mnist'"
   ]
  },
  {
   "cell_type": "markdown",
   "metadata": {},
   "source": [
    "We use `examples/generate_data.py` to split the dataset into files for each party. \n",
    "\n",
    "The script allows specifying the number of parties as well as the dataset to use (from several supported datasets: _mnist_, _femnist_, _cifar10_ and many others). \n",
    "\n",
    "The `-pp` argument states how many data points to choose per party. If the option `--stratify` is given, the library stratifies the data proportionally according to the source distribution. If you want to run this notebook in different machines, you can assign samples for each party locally. Then, we define the neural network definition."
   ]
  },
  {
   "cell_type": "code",
   "execution_count": 2,
   "metadata": {},
   "outputs": [
    {
     "name": "stdout",
     "output_type": "stream",
     "text": [
      "Warning: test set and train set contain different labels\n",
      "Party_ 0\n",
      "nb_x_train:  (200, 28, 28) nb_x_test:  (2500, 28, 28)\n",
      "* Label  0  samples:  17\n",
      "* Label  1  samples:  16\n",
      "* Label  2  samples:  18\n",
      "* Label  3  samples:  23\n",
      "* Label  4  samples:  26\n",
      "* Label  5  samples:  13\n",
      "* Label  6  samples:  30\n",
      "* Label  7  samples:  20\n",
      "* Label  8  samples:  13\n",
      "* Label  9  samples:  24\n",
      "Finished! :) Data saved in  examples/data/mnist/random\n",
      "Party_ 1\n",
      "nb_x_train:  (200, 28, 28) nb_x_test:  (2500, 28, 28)\n",
      "* Label  0  samples:  25\n",
      "* Label  1  samples:  20\n",
      "* Label  2  samples:  14\n",
      "* Label  3  samples:  18\n",
      "* Label  4  samples:  30\n",
      "* Label  5  samples:  20\n",
      "* Label  6  samples:  20\n",
      "* Label  7  samples:  20\n",
      "* Label  8  samples:  19\n",
      "* Label  9  samples:  14\n",
      "Finished! :) Data saved in  examples/data/mnist/random\n",
      "Party_ 2\n",
      "nb_x_train:  (200, 28, 28) nb_x_test:  (2500, 28, 28)\n",
      "* Label  0  samples:  21\n",
      "* Label  1  samples:  30\n",
      "* Label  2  samples:  18\n",
      "* Label  3  samples:  15\n",
      "* Label  4  samples:  19\n",
      "* Label  5  samples:  23\n",
      "* Label  6  samples:  25\n",
      "* Label  7  samples:  10\n",
      "* Label  8  samples:  20\n",
      "* Label  9  samples:  19\n",
      "Finished! :) Data saved in  examples/data/mnist/random\n",
      "Party_ 3\n",
      "nb_x_train:  (200, 28, 28) nb_x_test:  (2500, 28, 28)\n",
      "* Label  0  samples:  22\n",
      "* Label  1  samples:  18\n",
      "* Label  2  samples:  18\n",
      "* Label  3  samples:  14\n",
      "* Label  4  samples:  18\n",
      "* Label  5  samples:  20\n",
      "* Label  6  samples:  22\n",
      "* Label  7  samples:  25\n",
      "* Label  8  samples:  20\n",
      "* Label  9  samples:  23\n",
      "Finished! :) Data saved in  examples/data/mnist/random\n"
     ]
    }
   ],
   "source": [
    "%run examples/generate_data.py -n $num_parties -d $dataset -pp 200 "
   ]
  },
  {
   "cell_type": "markdown",
   "metadata": {},
   "source": [
    "Next we generate model by defining model. Please note that this step can be automated using generate_config script as shown in the IBM FL tutorial page [here](https://github.com/IBM/federated-learning-lib/blob/main/README.md#supported-functionality)."
   ]
  },
  {
   "cell_type": "code",
   "execution_count": 2,
   "metadata": {},
   "outputs": [
    {
     "name": "stdout",
     "output_type": "stream",
     "text": [
      "WARNING:tensorflow:From /Users/ali.anwar2@ibm.com/opt/anaconda3/envs/qrn/lib/python3.8/site-packages/tensorflow/python/ops/resource_variable_ops.py:1813: calling BaseResourceVariable.__init__ (from tensorflow.python.ops.resource_variable_ops) with constraint is deprecated and will be removed in a future version.\n",
      "Instructions for updating:\n",
      "If using Keras pass *_constraint arguments to layers.\n",
      "INFO:tensorflow:Assets written to: examples/configs/iter_avg/tf/assets\n"
     ]
    },
    {
     "data": {
      "text/plain": [
       "{'name': 'TensorFlowFLModel',\n",
       " 'path': 'ibmfl.model.tensorflow_fl_model',\n",
       " 'spec': {'model_name': 'tf-cnn',\n",
       "  'model_definition': 'examples/configs/iter_avg/tf/'}}"
      ]
     },
     "execution_count": 2,
     "metadata": {},
     "output_type": "execute_result"
    }
   ],
   "source": [
    "import os\n",
    "import numpy as np\n",
    "import tensorflow as tf\n",
    "from tensorflow.keras.layers import Dense, Flatten, Conv2D\n",
    "from tensorflow.keras import Model\n",
    "\n",
    "def save_model_config(folder_configs):\n",
    "    class MyModel(Model):\n",
    "        def __init__(self):\n",
    "            super(MyModel, self).__init__()\n",
    "            self.conv1 = Conv2D(32, 3, activation='relu')\n",
    "            self.flatten = Flatten()\n",
    "            self.d1 = Dense(128, activation='relu')\n",
    "            self.d2 = Dense(10)\n",
    "\n",
    "        def call(self, x):\n",
    "            x = self.conv1(x)\n",
    "            x = self.flatten(x)\n",
    "            x = self.d1(x)\n",
    "            return self.d2(x)\n",
    "\n",
    "    # Create an instance of the model\n",
    "    model = MyModel()\n",
    "    loss_object = tf.keras.losses.SparseCategoricalCrossentropy(\n",
    "        from_logits=True)\n",
    "    optimizer = tf.keras.optimizers.Adam()\n",
    "    acc = tf.keras.metrics.SparseCategoricalAccuracy(name='accuracy')\n",
    "    model.compile(optimizer=optimizer, loss=loss_object, metrics=[acc])\n",
    "    img_rows, img_cols = 28, 28\n",
    "    input_shape = (None, img_rows, img_cols, 1)\n",
    "    model.compute_output_shape(input_shape=input_shape)\n",
    "\n",
    "    if not os.path.exists(folder_configs):\n",
    "        os.makedirs(folder_configs)\n",
    "\n",
    "    model.save(folder_configs)\n",
    "\n",
    "    spec = {'model_name': 'tf-cnn',\n",
    "            'model_definition': folder_configs}\n",
    "\n",
    "    model = {\n",
    "        'name': 'TensorFlowFLModel',\n",
    "        'path': 'ibmfl.model.tensorflow_fl_model',\n",
    "        'spec': spec\n",
    "    }\n",
    "\n",
    "    return model\n",
    "\n",
    "save_model_config('examples/configs/iter_avg/tf/')"
   ]
  },
  {
   "cell_type": "markdown",
   "metadata": {},
   "source": [
    "## Aggregator"
   ]
  },
  {
   "cell_type": "markdown",
   "metadata": {},
   "source": [
    "Aggregator coordinates the overall process, communicates with the parties and integrates the results of the training process. This integration of results is done using the _Fusion Algorithm_.\n",
    "\n",
    "A fusion algorithm queries the registered parties to carry out the federated learning process. The queries sent vary according to the model/algorithm type.  In return, parties send their reply as a model update object, and these model updates are then aggregated according to the specified Fusion Algorithm, specified via a `Fusion Handler` class. \n",
    "\n",
    "To take a look at the supported fusion algorithms, refer the IBM FL tutorial page [here](https://github.com/IBM/federated-learning-lib/blob/main/README.md#supported-functionality)."
   ]
  },
  {
   "cell_type": "markdown",
   "metadata": {},
   "source": [
    "### Aggregator Configuration\n",
    "\n",
    "We discuss the various configuration parameters for the Aggregator [here.](https://github.com/IBM/federated-learning-lib/blob/main/docs/tutorials/configure_fl.md#the-aggregators-configuration-file)\n",
    "\n",
    "Given below is an example of the aggregator's configuration file. In this example, the aggregator does not specify a data file or maintain a global model. Hence, during the federated learning process, it only keeps track of the current model parameters. \n",
    "\n",
    "However, it is possible that the aggregator also has data for testing purposes and maintains a global model. When this is the case, one needs to add `data` and `model` sections in the configuration file."
   ]
  },
  {
   "cell_type": "markdown",
   "metadata": {},
   "source": [
    "<img style=\"display=block; margin:auto\" src=\"../images/arch_aggregator.png\" width=\"680\"/>\n",
    "<p style=\"text-align: center\">Image Source: <a href=\"https://arxiv.org/pdf/2007.10987.pdf\">IBM Federated Learning: An Enterprise FrameworkWhite Paper V0.1</a></p>"
   ]
  },
  {
   "cell_type": "markdown",
   "metadata": {},
   "source": [
    "#### Important parameters in configuration file for this tutorial:\n",
    "\n",
    "- `max_timeout` maximum timeout (in seconds) aggregator should wait for parties to reply back. If `max_timeout` value is specified, aggregator will wait for specified amount of time to check if the required number of parties (calculated based in the quorum percentage provided earlier) have replied back or not. \n",
    "\n",
    "- `perc_quorum`: quorum percentage to provide flexibility to parties that have potential connectivity failure. Given a total number of parties registered at a particular round, the quorum percentage defines the minimum number of parties that should reply back. If for some round aggregator receives less number of replies from the parties, it will stop the federated learning process. \n",
    "\n",
    "For detailed documentation of the objects described below, refer the API docs [here](https://ibmfl.mybluemix.net/api-documentation)."
   ]
  },
  {
   "cell_type": "code",
   "execution_count": 3,
   "metadata": {
    "scrolled": true
   },
   "outputs": [],
   "source": [
    "agg_config = {\n",
    "    'connection': {\n",
    "        'info': {\n",
    "            'ip': '127.0.0.1',\n",
    "            'port': 5000,\n",
    "            'tls_config': {\n",
    "                'enable': 'false'\n",
    "            }\n",
    "        },\n",
    "        'name': 'FlaskConnection',\n",
    "        'path': 'ibmfl.connection.flask_connection',\n",
    "        'sync': 'False'\n",
    "    },\n",
    "    'data': {\n",
    "        'info': {\n",
    "            'npz_file': 'examples/datasets/mnist.npz'\n",
    "        },\n",
    "        'name': 'MnistKerasDataHandler',\n",
    "        'path': 'ibmfl.util.data_handlers.mnist_keras_data_handler'\n",
    "    },\n",
    "    'fusion': {\n",
    "        'name': 'IterAvgFusionHandler',\n",
    "        'path': 'ibmfl.aggregator.fusion.iter_avg_fusion_handler'\n",
    "    },\n",
    "    'hyperparams': {\n",
    "        'global': {\n",
    "            'max_timeout': 3,\n",
    "            'num_parties': num_parties,\n",
    "            'perc_quorum': 0.5,\n",
    "            'rounds': 1,\n",
    "            'termination_accuracy': 0.9\n",
    "        },\n",
    "        'local': {\n",
    "            'optimizer': {\n",
    "                'lr': 0.01\n",
    "            },\n",
    "            'training': {\n",
    "                'epochs': 1\n",
    "            }\n",
    "        }\n",
    "    },\n",
    "    'protocol_handler': {\n",
    "        'name': 'ProtoHandler',\n",
    "        'path': 'ibmfl.aggregator.protohandler.proto_handler'\n",
    "    }\n",
    "}"
   ]
  },
  {
   "cell_type": "markdown",
   "metadata": {},
   "source": [
    "### Running the Aggregator\n",
    "Next we pass the configuration parameters set in the previous cell to instantiate the `Aggregator` object. Finally, we `start()` the Aggregator process."
   ]
  },
  {
   "cell_type": "code",
   "execution_count": 4,
   "metadata": {
    "scrolled": true
   },
   "outputs": [
    {
     "name": "stdout",
     "output_type": "stream",
     "text": [
      "2022-03-11 18:37:13,794 | 1.0.6 | INFO | ibmfl.util.config                             | Getting Aggregator details from arguments.\n",
      "2022-03-11 18:37:15,196 | 1.0.6 | INFO | ibmfl.util.config                             | No metrics recorder config provided for this setup.\n",
      "2022-03-11 18:37:15,197 | 1.0.6 | INFO | ibmfl.util.config                             | No model config provided for this setup.\n",
      "2022-03-11 18:37:15,375 | 1.0.6 | INFO | ibmfl.util.config                             | No metrics config provided for this setup.\n",
      "2022-03-11 18:37:15,375 | 1.0.6 | INFO | ibmfl.util.config                             | No evidencia recordeer config provided for this setup.\n",
      "2022-03-11 18:37:15,376 | 1.0.6 | INFO | ibmfl.util.data_handlers.mnist_keras_data_handler | Loaded training data from examples/datasets/mnist.npz\n",
      "2022-03-11 18:37:15,822 | 1.0.6 | INFO | ibmfl.connection.flask_connection             | RestSender initialized\n",
      "2022-03-11 18:37:15,823 | 1.0.6 | INFO | ibmfl.aggregator.protohandler.proto_handler   | State: States.START\n",
      "2022-03-11 18:37:15,824 | 1.0.6 | INFO | ibmfl.connection.flask_connection             | Receiver Initialized\n",
      "2022-03-11 18:37:15,825 | 1.0.6 | INFO | ibmfl.connection.flask_connection             | Initializing Flask application\n",
      "2022-03-11 18:37:15,829 | 1.0.6 | INFO | ibmfl.aggregator.aggregator                   | Aggregator initialization successful\n",
      "2022-03-11 18:37:15,830 | 1.0.6 | INFO | ibmfl.aggregator.aggregator                   | Aggregator start successful\n",
      "2022-03-11 18:37:15,835 | 1.0.6 | INFO | werkzeug                                      |  * Running on http://127.0.0.1:5000/ (Press CTRL+C to quit)\n"
     ]
    }
   ],
   "source": [
    "from ibmfl.aggregator.aggregator import Aggregator\n",
    "aggregator = Aggregator(config_dict=agg_config)\n",
    "\n",
    "aggregator.start()"
   ]
  },
  {
   "cell_type": "markdown",
   "metadata": {},
   "source": [
    "## Parties\n",
    "\n",
    "Each party holds its own dataset that is kept to itself and used to answer queries received from the aggregator. Because each party may have stored data in different formats, FL offers an abstraction called Data Handler. This module allows for custom implementations to retrieve the data from each of the participating parties. A local training handler sits at each party to control the local training happening at the party side."
   ]
  },
  {
   "cell_type": "markdown",
   "metadata": {},
   "source": [
    "<img style=\"display=block; margin:auto\" src=\"../images/arch_party.png\" width=\"680\"/>\n",
    "<p style=\"text-align: center\">Image Source: <a href=\"https://arxiv.org/pdf/2007.10987.pdf\">IBM Federated Learning: An Enterprise FrameworkWhite Paper V0.1</a></p>"
   ]
  },
  {
   "cell_type": "markdown",
   "metadata": {},
   "source": [
    "## Parties Configuration\n",
    "\n",
    "Each party holds its own dataset that is kept to itself and used to answer queries received from the aggregator. Because each party may have stored data in different formats, FL offers an abstraction called Data Handler. This module allows for custom implementations to retrieve the data from each of the participating parties. A local training handler sits at each party to control the local training happening at the party side.\n",
    "\n",
    "In the following cell we configure the parties configuration:"
   ]
  },
  {
   "cell_type": "code",
   "execution_count": 5,
   "metadata": {},
   "outputs": [],
   "source": [
    "def get_party_config(party_id):\n",
    "    party_config = {\n",
    "        'local_training': {\n",
    "            'name': 'LocalTrainingHandler',\n",
    "            'path': 'ibmfl.party.training.local_training_handler'\n",
    "        },\n",
    "\n",
    "        # party protocol handler receives all the request from aggregator and route it to respective methods in local training handler\n",
    "        'protocol_handler': {\n",
    "            'name': 'PartyProtocolHandler',\n",
    "            'path': 'ibmfl.party.party_protocol_handler'\n",
    "\n",
    "        },\n",
    "\n",
    "        # port at which the aggregator is running so that the party can establish a connection\n",
    "        'aggregator': {\n",
    "\n",
    "            'ip': '127.0.0.1',\n",
    "            'port': 5000\n",
    "\n",
    "        },\n",
    "        'connection': {\n",
    "            'info': {\n",
    "                'ip': '127.0.0.1',\n",
    "                'port': 8085 + party_id,\n",
    "                'id': 'party' + str(party_id)\n",
    "            },\n",
    "            'name': 'FlaskConnection',\n",
    "            'path': 'ibmfl.connection.flask_connection',\n",
    "            'sync': False\n",
    "        },\n",
    "\n",
    "        # in cartpole case, the openai gym environment will act as the data for fl\n",
    "        'data': {\n",
    "            'info': {\n",
    "                    'npz_file: examples/data/mnist/random/data_party' + str(party_id) + '.npz'\n",
    "            },\n",
    "            'name': 'MnistTFDataHandler',\n",
    "            'path': 'ibmfl.util.data_handlers.mnist_keras_data_handler'\n",
    "        },\n",
    "\n",
    "        'model': {\n",
    "            'name': 'TensorFlowFLModel',\n",
    "            'path': 'ibmfl.model.tensorflow_fl_model',\n",
    "            'spec': {\n",
    "                'model_definition': 'examples/configs/iter_avg/tf',\n",
    "                'model_name': 'tf-cnn',\n",
    "            }\n",
    "        }\n",
    "    }\n",
    "    return party_config"
   ]
  },
  {
   "cell_type": "markdown",
   "metadata": {},
   "source": [
    "## Running the Parties\n",
    "\n",
    "Now, we invoke the get_party_config function to setup each of the parties and start() them up.\n",
    "\n",
    "Finally, we register the party with the Aggregator.\n",
    "\n",
    "Note that we maintain a partyList to allow for manual drop out and eventually a seamless shutdown in the end."
   ]
  },
  {
   "cell_type": "code",
   "execution_count": 6,
   "metadata": {},
   "outputs": [
    {
     "name": "stdout",
     "output_type": "stream",
     "text": [
      "2022-03-11 18:37:20,424 | 1.0.6 | INFO | ibmfl.util.config                             | Getting Aggregator details from arguments.\n",
      "2022-03-11 18:37:20,426 | 1.0.6 | INFO | ibmfl.util.config                             | No metrics recorder config provided for this setup.\n",
      "2022-03-11 18:37:20,656 | 1.0.6 | INFO | ibmfl.util.config                             | No metrics config provided for this setup.\n",
      "2022-03-11 18:37:20,657 | 1.0.6 | INFO | ibmfl.util.config                             | No evidencia recordeer config provided for this setup.\n",
      "2022-03-11 18:37:21,356 | 1.0.6 | INFO | ibmfl.connection.flask_connection             | RestSender initialized\n",
      "2022-03-11 18:37:21,374 | 1.0.6 | INFO | ibmfl.connection.flask_connection             | Receiver Initialized\n",
      "2022-03-11 18:37:21,377 | 1.0.6 | INFO | ibmfl.connection.flask_connection             | Initializing Flask application\n",
      "2022-03-11 18:37:21,384 | 1.0.6 | INFO | ibmfl.party.party                             | Party initialization successful\n",
      "2022-03-11 18:37:21,385 | 1.0.6 | INFO | ibmfl.party.party                             | Party start successful\n",
      "2022-03-11 18:37:21,387 | 1.0.6 | INFO | ibmfl.party.party                             | Registering party...\n",
      "2022-03-11 18:37:21,393 | 1.0.6 | INFO | werkzeug                                      |  * Running on http://127.0.0.1:8085/ (Press CTRL+C to quit)\n",
      "2022-03-11 18:37:21,423 | 1.0.6 | INFO | ibmfl.connection.flask_connection             | Request received for path :6\n",
      "2022-03-11 18:37:21,425 | 1.0.6 | INFO | ibmfl.aggregator.protohandler.proto_handler   | Adding party with id party0\n",
      "2022-03-11 18:37:21,426 | 1.0.6 | INFO | ibmfl.aggregator.protohandler.proto_handler   | Total number of registered parties:1\n",
      "2022-03-11 18:37:21,428 | 1.0.6 | INFO | werkzeug                                      | 127.0.0.1 - - [11/Mar/2022 18:37:21] \"POST /6 HTTP/1.1\" 200 -\n",
      "2022-03-11 18:37:21,432 | 1.0.6 | INFO | ibmfl.party.party                             | Registration Successful\n",
      "2022-03-11 18:37:21,448 | 1.0.6 | INFO | ibmfl.util.config                             | Getting Aggregator details from arguments.\n",
      "2022-03-11 18:37:21,450 | 1.0.6 | INFO | ibmfl.util.config                             | No metrics recorder config provided for this setup.\n",
      "2022-03-11 18:37:21,452 | 1.0.6 | INFO | ibmfl.util.config                             | No metrics config provided for this setup.\n",
      "2022-03-11 18:37:21,453 | 1.0.6 | INFO | ibmfl.util.config                             | No evidencia recordeer config provided for this setup.\n",
      "2022-03-11 18:37:21,967 | 1.0.6 | INFO | ibmfl.connection.flask_connection             | RestSender initialized\n",
      "2022-03-11 18:37:21,969 | 1.0.6 | INFO | ibmfl.connection.flask_connection             | Receiver Initialized\n",
      "2022-03-11 18:37:21,970 | 1.0.6 | INFO | ibmfl.connection.flask_connection             | Initializing Flask application\n",
      "2022-03-11 18:37:21,973 | 1.0.6 | INFO | ibmfl.party.party                             | Party initialization successful\n",
      "2022-03-11 18:37:21,974 | 1.0.6 | INFO | ibmfl.party.party                             | Party start successful\n",
      "2022-03-11 18:37:21,976 | 1.0.6 | INFO | ibmfl.party.party                             | Registering party...\n",
      "2022-03-11 18:37:21,994 | 1.0.6 | INFO | ibmfl.connection.flask_connection             | Request received for path :6\n",
      "2022-03-11 18:37:21,995 | 1.0.6 | INFO | werkzeug                                      |  * Running on http://127.0.0.1:8086/ (Press CTRL+C to quit)\n",
      "2022-03-11 18:37:21,996 | 1.0.6 | INFO | ibmfl.aggregator.protohandler.proto_handler   | Adding party with id party1\n",
      "2022-03-11 18:37:21,997 | 1.0.6 | INFO | ibmfl.aggregator.protohandler.proto_handler   | Total number of registered parties:2\n",
      "2022-03-11 18:37:21,998 | 1.0.6 | INFO | werkzeug                                      | 127.0.0.1 - - [11/Mar/2022 18:37:21] \"POST /6 HTTP/1.1\" 200 -\n",
      "2022-03-11 18:37:22,000 | 1.0.6 | INFO | ibmfl.party.party                             | Registration Successful\n",
      "2022-03-11 18:37:22,010 | 1.0.6 | INFO | ibmfl.util.config                             | Getting Aggregator details from arguments.\n",
      "2022-03-11 18:37:22,011 | 1.0.6 | INFO | ibmfl.util.config                             | No metrics recorder config provided for this setup.\n",
      "2022-03-11 18:37:22,012 | 1.0.6 | INFO | ibmfl.util.config                             | No metrics config provided for this setup.\n",
      "2022-03-11 18:37:22,013 | 1.0.6 | INFO | ibmfl.util.config                             | No evidencia recordeer config provided for this setup.\n",
      "2022-03-11 18:37:22,501 | 1.0.6 | INFO | ibmfl.connection.flask_connection             | RestSender initialized\n",
      "2022-03-11 18:37:22,503 | 1.0.6 | INFO | ibmfl.connection.flask_connection             | Receiver Initialized\n",
      "2022-03-11 18:37:22,504 | 1.0.6 | INFO | ibmfl.connection.flask_connection             | Initializing Flask application\n",
      "2022-03-11 18:37:22,507 | 1.0.6 | INFO | ibmfl.party.party                             | Party initialization successful\n",
      "2022-03-11 18:37:22,508 | 1.0.6 | INFO | ibmfl.party.party                             | Party start successful\n",
      "2022-03-11 18:37:22,510 | 1.0.6 | INFO | ibmfl.party.party                             | Registering party...\n",
      "2022-03-11 18:37:22,512 | 1.0.6 | INFO | werkzeug                                      |  * Running on http://127.0.0.1:8087/ (Press CTRL+C to quit)\n",
      "2022-03-11 18:37:22,530 | 1.0.6 | INFO | ibmfl.connection.flask_connection             | Request received for path :6\n",
      "2022-03-11 18:37:22,532 | 1.0.6 | INFO | ibmfl.aggregator.protohandler.proto_handler   | Adding party with id party2\n",
      "2022-03-11 18:37:22,533 | 1.0.6 | INFO | ibmfl.aggregator.protohandler.proto_handler   | Total number of registered parties:3\n",
      "2022-03-11 18:37:22,534 | 1.0.6 | INFO | werkzeug                                      | 127.0.0.1 - - [11/Mar/2022 18:37:22] \"POST /6 HTTP/1.1\" 200 -\n",
      "2022-03-11 18:37:22,537 | 1.0.6 | INFO | ibmfl.party.party                             | Registration Successful\n",
      "2022-03-11 18:37:22,549 | 1.0.6 | INFO | ibmfl.util.config                             | Getting Aggregator details from arguments.\n",
      "2022-03-11 18:37:22,551 | 1.0.6 | INFO | ibmfl.util.config                             | No metrics recorder config provided for this setup.\n",
      "2022-03-11 18:37:22,552 | 1.0.6 | INFO | ibmfl.util.config                             | No metrics config provided for this setup.\n",
      "2022-03-11 18:37:22,554 | 1.0.6 | INFO | ibmfl.util.config                             | No evidencia recordeer config provided for this setup.\n",
      "2022-03-11 18:37:23,025 | 1.0.6 | INFO | ibmfl.connection.flask_connection             | RestSender initialized\n",
      "2022-03-11 18:37:23,027 | 1.0.6 | INFO | ibmfl.connection.flask_connection             | Receiver Initialized\n",
      "2022-03-11 18:37:23,027 | 1.0.6 | INFO | ibmfl.connection.flask_connection             | Initializing Flask application\n",
      "2022-03-11 18:37:23,031 | 1.0.6 | INFO | ibmfl.party.party                             | Party initialization successful\n",
      "2022-03-11 18:37:23,032 | 1.0.6 | INFO | ibmfl.party.party                             | Party start successful\n",
      "2022-03-11 18:37:23,033 | 1.0.6 | INFO | ibmfl.party.party                             | Registering party...\n",
      "2022-03-11 18:37:23,037 | 1.0.6 | INFO | werkzeug                                      |  * Running on http://127.0.0.1:8088/ (Press CTRL+C to quit)\n",
      "2022-03-11 18:37:23,053 | 1.0.6 | INFO | ibmfl.connection.flask_connection             | Request received for path :6\n",
      "2022-03-11 18:37:23,054 | 1.0.6 | INFO | ibmfl.aggregator.protohandler.proto_handler   | Adding party with id party3\n",
      "2022-03-11 18:37:23,055 | 1.0.6 | INFO | ibmfl.aggregator.protohandler.proto_handler   | Total number of registered parties:4\n",
      "2022-03-11 18:37:23,056 | 1.0.6 | INFO | werkzeug                                      | 127.0.0.1 - - [11/Mar/2022 18:37:23] \"POST /6 HTTP/1.1\" 200 -\n",
      "2022-03-11 18:37:23,058 | 1.0.6 | INFO | ibmfl.party.party                             | Registration Successful\n"
     ]
    }
   ],
   "source": [
    "num_parties = agg_config['hyperparams']['global']['num_parties']\n",
    "from ibmfl.party.party import Party\n",
    "partyList = []\n",
    "for party_id in range(num_parties):\n",
    "  party_config = get_party_config(party_id)\n",
    "  party = Party(config_dict=party_config)\n",
    "  party.start()  \n",
    "  party.register_party()\n",
    "  partyList.append(party)"
   ]
  },
  {
   "cell_type": "markdown",
   "metadata": {},
   "source": [
    "## Training\n",
    "\n",
    "Now that our network has been set up, we begin training the model by invoking the Aggregator's `start_training()` method. "
   ]
  },
  {
   "cell_type": "code",
   "execution_count": 7,
   "metadata": {
    "scrolled": true
   },
   "outputs": [
    {
     "name": "stdout",
     "output_type": "stream",
     "text": [
      "2022-03-11 18:37:25,938 | 1.0.6 | INFO | ibmfl.aggregator.aggregator                   | Initiating Global Training.\n",
      "2022-03-11 18:37:25,940 | 1.0.6 | INFO | ibmfl.aggregator.fusion.fusion_handler        | Warm start disabled.\n",
      "2022-03-11 18:37:25,941 | 1.0.6 | INFO | ibmfl.aggregator.fusion.iter_avg_fusion_handler | Model updateNone\n",
      "2022-03-11 18:37:25,942 | 1.0.6 | INFO | ibmfl.aggregator.fusion.fusion_state_service  | Fusion state States.SND_MODEL\n",
      "2022-03-11 18:37:25,943 | 1.0.6 | INFO | ibmfl.aggregator.protohandler.proto_handler   | State: States.SND_REQ\n",
      "2022-03-11 18:37:26,022 | 1.0.6 | INFO | ibmfl.connection.flask_connection             | Request received for path :7\n",
      "2022-03-11 18:37:26,024 | 1.0.6 | INFO | ibmfl.connection.flask_connection             | Request received for path :7\n",
      "2022-03-11 18:37:26,025 | 1.0.6 | INFO | ibmfl.connection.flask_connection             | Request received for path :7\n",
      "2022-03-11 18:37:26,026 | 1.0.6 | INFO | ibmfl.connection.flask_connection             | Request received for path :7\n",
      "2022-03-11 18:37:26,028 | 1.0.6 | INFO | ibmfl.party.party_protocol_handler            | received a async request\n",
      "2022-03-11 18:37:26,029 | 1.0.6 | INFO | ibmfl.party.party_protocol_handler            | received a async request\n",
      "2022-03-11 18:37:26,032 | 1.0.6 | INFO | ibmfl.party.party_protocol_handler            | received a async request\n",
      "2022-03-11 18:37:26,033 | 1.0.6 | INFO | ibmfl.party.party_protocol_handler            | received a async request\n",
      "2022-03-11 18:37:26,035 | 1.0.6 | INFO | ibmfl.party.party_protocol_handler            | finished async request\n",
      "2022-03-11 18:37:26,035 | 1.0.6 | INFO | ibmfl.party.party_protocol_handler            | Handling async request in a separate thread\n",
      "2022-03-11 18:37:26,036 | 1.0.6 | INFO | ibmfl.party.party_protocol_handler            | finished async request\n",
      "2022-03-11 18:37:26,036 | 1.0.6 | INFO | ibmfl.party.party_protocol_handler            | Handling async request in a separate thread\n",
      "2022-03-11 18:37:26,037 | 1.0.6 | INFO | ibmfl.party.party_protocol_handler            | finished async request\n",
      "2022-03-11 18:37:26,038 | 1.0.6 | INFO | ibmfl.party.party_protocol_handler            | Handling async request in a separate thread\n",
      "2022-03-11 18:37:26,039 | 1.0.6 | INFO | ibmfl.party.party_protocol_handler            | finished async request\n",
      "2022-03-11 18:37:26,040 | 1.0.6 | INFO | ibmfl.party.party_protocol_handler            | Handling async request in a separate thread\n",
      "2022-03-11 18:37:26,042 | 1.0.6 | INFO | werkzeug                                      | 127.0.0.1 - - [11/Mar/2022 18:37:26] \"POST /7 HTTP/1.1\" 200 -\n",
      "2022-03-11 18:37:26,043 | 1.0.6 | INFO | ibmfl.party.party_protocol_handler            | Received request from aggregator\n",
      "2022-03-11 18:37:26,045 | 1.0.6 | INFO | werkzeug                                      | 127.0.0.1 - - [11/Mar/2022 18:37:26] \"POST /7 HTTP/1.1\" 200 -\n",
      "2022-03-11 18:37:26,047 | 1.0.6 | INFO | ibmfl.party.party_protocol_handler            | Received request from aggregator\n",
      "2022-03-11 18:37:26,048 | 1.0.6 | INFO | werkzeug                                      | 127.0.0.1 - - [11/Mar/2022 18:37:26] \"POST /7 HTTP/1.1\" 200 -\n",
      "2022-03-11 18:37:26,050 | 1.0.6 | INFO | ibmfl.party.party_protocol_handler            | Received request from aggregator\n",
      "2022-03-11 18:37:26,052 | 1.0.6 | INFO | werkzeug                                      | 127.0.0.1 - - [11/Mar/2022 18:37:26] \"POST /7 HTTP/1.1\" 200 -\n",
      "2022-03-11 18:37:26,054 | 1.0.6 | INFO | ibmfl.party.party_protocol_handler            | Received request from aggregator\n",
      "2022-03-11 18:37:26,059 | 1.0.6 | INFO | ibmfl.party.party_protocol_handler            | Received request in with message_type:  7\n",
      "2022-03-11 18:37:26,062 | 1.0.6 | INFO | ibmfl.party.party_protocol_handler            | Received request in with message_type:  7\n",
      "2022-03-11 18:37:26,066 | 1.0.6 | INFO | ibmfl.party.party_protocol_handler            | Received request in with message_type:  7\n",
      "2022-03-11 18:37:26,071 | 1.0.6 | INFO | ibmfl.party.party_protocol_handler            | Received request in with message_type:  7\n",
      "2022-03-11 18:37:26,071 | 1.0.6 | INFO | ibmfl.aggregator.protohandler.proto_handler   | Total number of success responses :4\n",
      "2022-03-11 18:37:26,072 | 1.0.6 | INFO | ibmfl.party.party_protocol_handler            | Received request in PH 7\n",
      "2022-03-11 18:37:26,074 | 1.0.6 | INFO | ibmfl.party.party_protocol_handler            | Received request in PH 7\n",
      "2022-03-11 18:37:26,076 | 1.0.6 | INFO | ibmfl.party.party_protocol_handler            | Received request in PH 7\n",
      "2022-03-11 18:37:26,085 | 1.0.6 | INFO | ibmfl.party.training.local_training_handler   | No model update was provided.\n",
      "2022-03-11 18:37:26,087 | 1.0.6 | INFO | ibmfl.party.training.local_training_handler   | Local training started...\n",
      "2022-03-11 18:37:26,080 | 1.0.6 | INFO | ibmfl.party.training.local_training_handler   | No model update was provided.\n",
      "2022-03-11 18:37:26,083 | 1.0.6 | INFO | ibmfl.party.training.local_training_handler   | No model update was provided.\n",
      "2022-03-11 18:37:26,077 | 1.0.6 | INFO | ibmfl.party.party_protocol_handler            | Received request in PH 7\n",
      "2022-03-11 18:37:26,079 | 1.0.6 | INFO | ibmfl.aggregator.protohandler.proto_handler   | Number of parties queried:4\n",
      "2022-03-11 18:37:26,095 | 1.0.6 | INFO | ibmfl.party.training.local_training_handler   | Local training started...\n",
      "2022-03-11 18:37:26,097 | 1.0.6 | INFO | ibmfl.model.tensorflow_fl_model               | Learning rate of optimizer is set as <tf.Variable 'learning_rate:0' shape=() dtype=float32, numpy=0.01>\n",
      "2022-03-11 18:37:26,099 | 1.0.6 | INFO | ibmfl.party.training.local_training_handler   | Local training started...\n",
      "2022-03-11 18:37:26,101 | 1.0.6 | INFO | ibmfl.party.training.local_training_handler   | No model update was provided.\n",
      "2022-03-11 18:37:26,102 | 1.0.6 | INFO | ibmfl.aggregator.protohandler.proto_handler   | Number of registered parties:4\n",
      "2022-03-11 18:37:26,108 | 1.0.6 | INFO | ibmfl.model.tensorflow_fl_model               | Training hps for this round => batch_size: 128, epochs 1, steps_per_epoch None\n",
      "2022-03-11 18:37:26,112 | 1.0.6 | INFO | ibmfl.party.training.local_training_handler   | Local training started...\n",
      "2022-03-11 18:37:26,114 | 1.0.6 | INFO | ibmfl.model.tensorflow_fl_model               | Learning rate of optimizer is set as <tf.Variable 'learning_rate:0' shape=() dtype=float32, numpy=0.01>\n",
      "2022-03-11 18:37:26,118 | 1.0.6 | INFO | ibmfl.aggregator.protohandler.proto_handler   | State: States.QUORUM_WAIT\n",
      "2022-03-11 18:37:26,124 | 1.0.6 | INFO | ibmfl.model.tensorflow_fl_model               | Learning rate of optimizer is set as <tf.Variable 'learning_rate:0' shape=() dtype=float32, numpy=0.01>\n",
      "2022-03-11 18:37:26,135 | 1.0.6 | INFO | ibmfl.model.tensorflow_fl_model               | Training hps for this round => batch_size: 128, epochs 1, steps_per_epoch None\n",
      "2022-03-11 18:37:26,140 | 1.0.6 | INFO | ibmfl.model.tensorflow_fl_model               | Learning rate of optimizer is set as <tf.Variable 'learning_rate:0' shape=() dtype=float32, numpy=0.01>\n",
      "2022-03-11 18:37:26,146 | 1.0.6 | INFO | ibmfl.model.tensorflow_fl_model               | Training hps for this round => batch_size: 128, epochs 1, steps_per_epoch None\n",
      "2022-03-11 18:37:26,164 | 1.0.6 | INFO | ibmfl.model.tensorflow_fl_model               | Training hps for this round => batch_size: 128, epochs 1, steps_per_epoch None\n",
      "4/4 [==============================] - 0s 81ms/step - loss: 2.4050 - accuracy: 0.4060\n",
      "2022-03-11 18:37:27,837 | 1.0.6 | INFO | ibmfl.party.training.local_training_handler   | Local training done, generating model update...\n",
      "4/4 [==============================] - ETA: 0s - loss: 2.2620 - accuracy: 0.39004/4 [==============================] - ETA: 0s - loss: 2.8014 - accuracy: 0.362022-03-11 18:37:27,840 | 1.0.6 | INFO | ibmfl.party.party_protocol_handler            | successfully finished async request\n",
      "4/4 [==============================] - 0s 77ms/step - loss: 2.2682 - accuracy: 0.4560\n",
      "4/4 [==============================] - 0s 90ms/step - loss: 2.8014 - accuracy: 0.3620\n",
      "4/4 [==============================] - 0s 85ms/step - loss: 2.2620 - accuracy: 0.3900\n",
      "2022-03-11 18:37:27,971 | 1.0.6 | INFO | ibmfl.party.training.local_training_handler   | Local training done, generating model update...\n"
     ]
    },
    {
     "name": "stdout",
     "output_type": "stream",
     "text": [
      "2022-03-11 18:37:27,985 | 1.0.6 | INFO | ibmfl.connection.flask_connection             | Request received for path :7\n",
      "2022-03-11 18:37:27,986 | 1.0.6 | INFO | ibmfl.party.training.local_training_handler   | Local training done, generating model update...\n",
      "2022-03-11 18:37:28,000 | 1.0.6 | INFO | ibmfl.party.training.local_training_handler   | Local training done, generating model update...\n",
      "2022-03-11 18:37:28,000 | 1.0.6 | INFO | ibmfl.party.party_protocol_handler            | successfully finished async request\n",
      "2022-03-11 18:37:28,003 | 1.0.6 | INFO | ibmfl.party.party_protocol_handler            | successfully finished async request\n",
      "2022-03-11 18:37:28,005 | 1.0.6 | INFO | ibmfl.party.party_protocol_handler            | successfully finished async request\n",
      "2022-03-11 18:37:28,260 | 1.0.6 | INFO | ibmfl.connection.flask_connection             | Request received for path :7\n",
      "2022-03-11 18:37:28,319 | 1.0.6 | INFO | werkzeug                                      | 127.0.0.1 - - [11/Mar/2022 18:37:28] \"POST /7 HTTP/1.1\" 200 -\n",
      "2022-03-11 18:37:28,408 | 1.0.6 | INFO | ibmfl.connection.flask_connection             | Request received for path :7\n",
      "2022-03-11 18:37:28,434 | 1.0.6 | INFO | ibmfl.connection.flask_connection             | Request received for path :7\n",
      "2022-03-11 18:37:28,595 | 1.0.6 | INFO | werkzeug                                      | 127.0.0.1 - - [11/Mar/2022 18:37:28] \"POST /7 HTTP/1.1\" 200 -\n",
      "2022-03-11 18:37:28,680 | 1.0.6 | INFO | werkzeug                                      | 127.0.0.1 - - [11/Mar/2022 18:37:28] \"POST /7 HTTP/1.1\" 200 -\n",
      "2022-03-11 18:37:28,738 | 1.0.6 | INFO | werkzeug                                      | 127.0.0.1 - - [11/Mar/2022 18:37:28] \"POST /7 HTTP/1.1\" 200 -\n",
      "2022-03-11 18:37:31,141 | 1.0.6 | INFO | ibmfl.aggregator.protohandler.proto_handler   | Timeout:3 Time spent:5\n",
      "2022-03-11 18:37:31,143 | 1.0.6 | INFO | ibmfl.aggregator.fusion.fusion_state_service  | Fusion state States.RCV_MODEL\n",
      "2022-03-11 18:37:31,144 | 1.0.6 | INFO | ibmfl.aggregator.fusion.fusion_state_service  | Fusion state States.AGGREGATING\n",
      "2022-03-11 18:37:31,177 | 1.0.6 | INFO | ibmfl.aggregator.fusion.iter_avg_fusion_handler | Reached maximum global rounds. Finish training :) \n",
      "2022-03-11 18:37:31,186 | 1.0.6 | INFO | ibmfl.aggregator.aggregator                   | Finished Global Training\n"
     ]
    },
    {
     "data": {
      "text/plain": [
       "True"
      ]
     },
     "execution_count": 7,
     "metadata": {},
     "output_type": "execute_result"
    }
   ],
   "source": [
    "aggregator.start_training()"
   ]
  },
  {
   "cell_type": "markdown",
   "metadata": {},
   "source": [
    "## Quorum\n",
    "\n",
    "Next, we manually stop the first party to verify if training still continues (Quorum: 3/4 >= 0.5). Please note that in this tutorial we are performing this step after the training has already finished as Jupyter notebook executes each cell at a time. However, in real time a party can drop out even when training is in progress. IBM FL will handle drop out during training similar to how it is handled in this tutorial."
   ]
  },
  {
   "cell_type": "code",
   "execution_count": 8,
   "metadata": {},
   "outputs": [
    {
     "name": "stdout",
     "output_type": "stream",
     "text": [
      "2022-03-11 18:37:36,372 | 1.0.6 | INFO | ibmfl.connection.flask_connection             | Stopping Receiver and Sender\n",
      "2022-03-11 18:37:36,399 | 1.0.6 | INFO | werkzeug                                      | 127.0.0.1 - - [11/Mar/2022 18:37:36] \"POST /shutdown HTTP/1.1\" 200 -\n",
      "2022-03-11 18:37:36,403 | 1.0.6 | INFO | ibmfl.party.party                             | Party stop successful\n"
     ]
    },
    {
     "name": "stderr",
     "output_type": "stream",
     "text": [
      "/Users/ali.anwar2@ibm.com/opt/anaconda3/envs/qrn/lib/python3.8/site-packages/ibmfl/connection/flask_connection.py:254: UserWarning: The 'environ['werkzeug.server.shutdown']' function is deprecated and will be removed in Werkzeug 2.1.\n",
      "  func()\n"
     ]
    }
   ],
   "source": [
    "# Stop first party\n",
    "party_to_stop = partyList[0]\n",
    "party_to_stop.stop()"
   ]
  },
  {
   "cell_type": "markdown",
   "metadata": {},
   "source": [
    "Once the party has dropped out we can restart the training process and verify if training continues as we have more than 50% of parties still running."
   ]
  },
  {
   "cell_type": "code",
   "execution_count": 9,
   "metadata": {},
   "outputs": [
    {
     "name": "stdout",
     "output_type": "stream",
     "text": [
      "2022-03-11 18:37:39,803 | 1.0.6 | INFO | ibmfl.aggregator.aggregator                   | Initiating Global Training.\n",
      "2022-03-11 18:37:39,804 | 1.0.6 | INFO | ibmfl.aggregator.fusion.fusion_handler        | Warm start disabled.\n",
      "2022-03-11 18:37:39,810 | 1.0.6 | INFO | ibmfl.aggregator.fusion.iter_avg_fusion_handler | Model update<ibmfl.model.model_update.ModelUpdate object at 0x7fa32cc06790>\n",
      "2022-03-11 18:37:39,811 | 1.0.6 | INFO | ibmfl.aggregator.fusion.fusion_state_service  | Fusion state States.SND_MODEL\n",
      "2022-03-11 18:37:39,812 | 1.0.6 | INFO | ibmfl.aggregator.protohandler.proto_handler   | State: States.SND_REQ\n",
      "2022-03-11 18:37:40,198 | 1.0.6 | WARNING | ibmfl.aggregator.protohandler.proto_handler   | Party dropped out: Error occurred while sending request to party: <ibmfl.aggregator.party_connection.PartyConnection object at 0x7fa35c154310> - HTTPConnectionPool(host='127.0.0.1', port=8085): Max retries exceeded with url: /7 (Caused by NewConnectionError('<urllib3.connection.HTTPConnection object at 0x7fa32ddb1640>: Failed to establish a new connection: [Errno 61] Connection refused'))\n",
      "2022-03-11 18:37:40,214 | 1.0.6 | INFO | ibmfl.connection.flask_connection             | Request received for path :7\n",
      "2022-03-11 18:37:40,235 | 1.0.6 | INFO | ibmfl.connection.flask_connection             | Request received for path :7\n",
      "2022-03-11 18:37:40,238 | 1.0.6 | INFO | ibmfl.connection.flask_connection             | Request received for path :7\n",
      "2022-03-11 18:37:40,359 | 1.0.6 | INFO | ibmfl.party.party_protocol_handler            | received a async request\n",
      "2022-03-11 18:37:40,361 | 1.0.6 | INFO | ibmfl.party.party_protocol_handler            | finished async request\n",
      "2022-03-11 18:37:40,361 | 1.0.6 | INFO | ibmfl.party.party_protocol_handler            | Handling async request in a separate thread\n",
      "2022-03-11 18:37:40,447 | 1.0.6 | INFO | werkzeug                                      | 127.0.0.1 - - [11/Mar/2022 18:37:40] \"POST /7 HTTP/1.1\" 200 -\n",
      "2022-03-11 18:37:40,480 | 1.0.6 | INFO | ibmfl.party.party_protocol_handler            | received a async request\n",
      "2022-03-11 18:37:40,537 | 1.0.6 | INFO | ibmfl.party.party_protocol_handler            | received a async request\n",
      "2022-03-11 18:37:40,537 | 1.0.6 | INFO | ibmfl.party.party_protocol_handler            | Received request from aggregator\n",
      "2022-03-11 18:37:40,541 | 1.0.6 | INFO | ibmfl.party.party_protocol_handler            | finished async request\n",
      "2022-03-11 18:37:40,542 | 1.0.6 | INFO | ibmfl.party.party_protocol_handler            | Handling async request in a separate thread\n",
      "2022-03-11 18:37:40,542 | 1.0.6 | INFO | ibmfl.party.party_protocol_handler            | finished async request\n",
      "2022-03-11 18:37:40,542 | 1.0.6 | INFO | ibmfl.party.party_protocol_handler            | Handling async request in a separate thread\n",
      "2022-03-11 18:37:40,543 | 1.0.6 | INFO | ibmfl.party.party_protocol_handler            | Received request in with message_type:  7\n",
      "2022-03-11 18:37:40,546 | 1.0.6 | INFO | werkzeug                                      | 127.0.0.1 - - [11/Mar/2022 18:37:40] \"POST /7 HTTP/1.1\" 200 -\n",
      "2022-03-11 18:37:40,547 | 1.0.6 | INFO | ibmfl.party.party_protocol_handler            | Received request from aggregator\n",
      "2022-03-11 18:37:40,549 | 1.0.6 | INFO | werkzeug                                      | 127.0.0.1 - - [11/Mar/2022 18:37:40] \"POST /7 HTTP/1.1\" 200 -\n",
      "2022-03-11 18:37:40,550 | 1.0.6 | INFO | ibmfl.party.party_protocol_handler            | Received request from aggregator\n",
      "2022-03-11 18:37:40,551 | 1.0.6 | INFO | ibmfl.party.party_protocol_handler            | Received request in PH 7\n",
      "2022-03-11 18:37:40,556 | 1.0.6 | INFO | ibmfl.party.party_protocol_handler            | Received request in with message_type:  7\n",
      "2022-03-11 18:37:40,561 | 1.0.6 | INFO | ibmfl.party.party_protocol_handler            | Received request in with message_type:  7\n",
      "2022-03-11 18:37:40,562 | 1.0.6 | INFO | ibmfl.aggregator.protohandler.proto_handler   | Total number of success responses :3\n",
      "2022-03-11 18:37:40,570 | 1.0.6 | INFO | ibmfl.party.training.local_training_handler   | Local model updated.\n",
      "2022-03-11 18:37:40,570 | 1.0.6 | INFO | ibmfl.party.party_protocol_handler            | Received request in PH 7\n",
      "2022-03-11 18:37:40,571 | 1.0.6 | INFO | ibmfl.party.party_protocol_handler            | Received request in PH 7\n",
      "2022-03-11 18:37:40,572 | 1.0.6 | INFO | ibmfl.aggregator.protohandler.proto_handler   | Number of parties queried:4\n",
      "2022-03-11 18:37:40,574 | 1.0.6 | INFO | ibmfl.party.training.local_training_handler   | Local training started...\n",
      "2022-03-11 18:37:40,583 | 1.0.6 | INFO | ibmfl.party.training.local_training_handler   | Local model updated.\n",
      "2022-03-11 18:37:40,591 | 1.0.6 | INFO | ibmfl.aggregator.protohandler.proto_handler   | Number of registered parties:4\n",
      "2022-03-11 18:37:40,593 | 1.0.6 | INFO | ibmfl.party.training.local_training_handler   | Local model updated.\n",
      "2022-03-11 18:37:40,595 | 1.0.6 | INFO | ibmfl.model.tensorflow_fl_model               | Learning rate of optimizer is set as <tf.Variable 'learning_rate:0' shape=() dtype=float32, numpy=0.01>\n",
      "2022-03-11 18:37:40,596 | 1.0.6 | INFO | ibmfl.party.training.local_training_handler   | Local training started...\n",
      "2022-03-11 18:37:40,599 | 1.0.6 | INFO | ibmfl.aggregator.protohandler.proto_handler   | State: States.QUORUM_WAIT\n",
      "2022-03-11 18:37:40,600 | 1.0.6 | INFO | ibmfl.party.training.local_training_handler   | Local training started...\n",
      "2022-03-11 18:37:40,601 | 1.0.6 | INFO | ibmfl.model.tensorflow_fl_model               | Training hps for this round => batch_size: 128, epochs 1, steps_per_epoch None\n",
      "2022-03-11 18:37:40,603 | 1.0.6 | INFO | ibmfl.model.tensorflow_fl_model               | Learning rate of optimizer is set as <tf.Variable 'learning_rate:0' shape=() dtype=float32, numpy=0.01>\n",
      "2022-03-11 18:37:40,606 | 1.0.6 | INFO | ibmfl.model.tensorflow_fl_model               | Learning rate of optimizer is set as <tf.Variable 'learning_rate:0' shape=() dtype=float32, numpy=0.01>\n",
      "2022-03-11 18:37:40,611 | 1.0.6 | INFO | ibmfl.model.tensorflow_fl_model               | Training hps for this round => batch_size: 128, epochs 1, steps_per_epoch None\n",
      "2022-03-11 18:37:40,616 | 1.0.6 | INFO | ibmfl.model.tensorflow_fl_model               | Training hps for this round => batch_size: 128, epochs 1, steps_per_epoch None\n",
      "4/4 [==============================] - 0s 53ms/step - loss: 1.1001 - accuracy: 0.7220A: 0s - loss: 1.2307 - \n",
      "2022-03-11 18:37:40,999 | 1.0.6 | INFO | ibmfl.party.training.local_training_handler   | Local training done, generating model update...\n",
      "4/4 [==============================] - ETA: 0s - loss: 0.9885 - accuracy: 0.74402022-03-11 18:37:41,002 | 1.0.6 | INFO | ibmfl.party.party_protocol_handler            | successfully finished async request\n",
      "4/4 [==============================] - 0s 63ms/step - loss: 0.9885 - accuracy: 0.7440\n",
      "4/4 [==============================] - 0s 95ms/step - loss: 1.1284 - accuracy: 0.7040\n",
      "2022-03-11 18:37:41,169 | 1.0.6 | INFO | ibmfl.party.training.local_training_handler   | Local training done, generating model update...\n",
      "2022-03-11 18:37:41,172 | 1.0.6 | INFO | ibmfl.connection.flask_connection             | Request received for path :7\n",
      "2022-03-11 18:37:41,173 | 1.0.6 | INFO | ibmfl.party.party_protocol_handler            | successfully finished async request\n",
      "2022-03-11 18:37:41,187 | 1.0.6 | INFO | ibmfl.party.training.local_training_handler   | Local training done, generating model update...\n",
      "2022-03-11 18:37:41,302 | 1.0.6 | INFO | ibmfl.party.party_protocol_handler            | successfully finished async request\n",
      "2022-03-11 18:37:41,400 | 1.0.6 | INFO | ibmfl.connection.flask_connection             | Request received for path :7\n",
      "2022-03-11 18:37:41,494 | 1.0.6 | INFO | werkzeug                                      | 127.0.0.1 - - [11/Mar/2022 18:37:41] \"POST /7 HTTP/1.1\" 200 -\n",
      "2022-03-11 18:37:41,509 | 1.0.6 | INFO | ibmfl.connection.flask_connection             | Request received for path :7\n",
      "2022-03-11 18:37:41,616 | 1.0.6 | INFO | werkzeug                                      | 127.0.0.1 - - [11/Mar/2022 18:37:41] \"POST /7 HTTP/1.1\" 200 -\n",
      "2022-03-11 18:37:41,699 | 1.0.6 | INFO | werkzeug                                      | 127.0.0.1 - - [11/Mar/2022 18:37:41] \"POST /7 HTTP/1.1\" 200 -\n"
     ]
    },
    {
     "name": "stdout",
     "output_type": "stream",
     "text": [
      "2022-03-11 18:37:45,605 | 1.0.6 | INFO | ibmfl.aggregator.protohandler.proto_handler   | Timeout:3 Time spent:5\n",
      "2022-03-11 18:37:45,606 | 1.0.6 | INFO | ibmfl.aggregator.fusion.fusion_state_service  | Fusion state States.RCV_MODEL\n",
      "2022-03-11 18:37:45,607 | 1.0.6 | INFO | ibmfl.aggregator.fusion.fusion_state_service  | Fusion state States.AGGREGATING\n",
      "2022-03-11 18:37:45,631 | 1.0.6 | INFO | ibmfl.aggregator.fusion.iter_avg_fusion_handler | Reached maximum global rounds. Finish training :) \n",
      "2022-03-11 18:37:45,639 | 1.0.6 | INFO | ibmfl.aggregator.aggregator                   | Finished Global Training\n"
     ]
    },
    {
     "data": {
      "text/plain": [
       "True"
      ]
     },
     "execution_count": 9,
     "metadata": {},
     "output_type": "execute_result"
    }
   ],
   "source": [
    "aggregator.start_training()"
   ]
  },
  {
   "cell_type": "markdown",
   "metadata": {},
   "source": [
    "Now, we will stop another party and restart training. As our quorum is 50% training should continue (Quorum: 2/4 >= 0.5)."
   ]
  },
  {
   "cell_type": "code",
   "execution_count": 10,
   "metadata": {},
   "outputs": [
    {
     "name": "stdout",
     "output_type": "stream",
     "text": [
      "2022-03-11 18:38:18,155 | 1.0.6 | INFO | ibmfl.connection.flask_connection             | Stopping Receiver and Sender\n",
      "2022-03-11 18:38:18,181 | 1.0.6 | INFO | werkzeug                                      | 127.0.0.1 - - [11/Mar/2022 18:38:18] \"POST /shutdown HTTP/1.1\" 200 -\n",
      "2022-03-11 18:38:18,183 | 1.0.6 | INFO | ibmfl.party.party                             | Party stop successful\n"
     ]
    }
   ],
   "source": [
    "# Stop second party\n",
    "party_to_stop = partyList[1]\n",
    "party_to_stop.stop()\n"
   ]
  },
  {
   "cell_type": "code",
   "execution_count": 11,
   "metadata": {},
   "outputs": [
    {
     "name": "stdout",
     "output_type": "stream",
     "text": [
      "2022-03-11 18:38:21,005 | 1.0.6 | INFO | ibmfl.aggregator.aggregator                   | Initiating Global Training.\n",
      "2022-03-11 18:38:21,007 | 1.0.6 | INFO | ibmfl.aggregator.fusion.fusion_handler        | Warm start disabled.\n",
      "2022-03-11 18:38:21,013 | 1.0.6 | INFO | ibmfl.aggregator.fusion.iter_avg_fusion_handler | Model update<ibmfl.model.model_update.ModelUpdate object at 0x7fa3372e50d0>\n",
      "2022-03-11 18:38:21,014 | 1.0.6 | INFO | ibmfl.aggregator.fusion.fusion_state_service  | Fusion state States.SND_MODEL\n",
      "2022-03-11 18:38:21,015 | 1.0.6 | INFO | ibmfl.aggregator.protohandler.proto_handler   | State: States.SND_REQ\n",
      "2022-03-11 18:38:21,340 | 1.0.6 | INFO | ibmfl.connection.flask_connection             | Request received for path :7\n",
      "2022-03-11 18:38:21,345 | 1.0.6 | INFO | ibmfl.connection.flask_connection             | Request received for path :7\n",
      "2022-03-11 18:38:21,354 | 1.0.6 | WARNING | ibmfl.aggregator.protohandler.proto_handler   | Party dropped out: Error occurred while sending request to party: <ibmfl.aggregator.party_connection.PartyConnection object at 0x7fa34cb1ca60> - HTTPConnectionPool(host='127.0.0.1', port=8086): Max retries exceeded with url: /7 (Caused by NewConnectionError('<urllib3.connection.HTTPConnection object at 0x7fa32c0c92e0>: Failed to establish a new connection: [Errno 61] Connection refused'))\n",
      "2022-03-11 18:38:21,464 | 1.0.6 | INFO | ibmfl.party.party_protocol_handler            | received a async request\n",
      "2022-03-11 18:38:21,465 | 1.0.6 | INFO | ibmfl.party.party_protocol_handler            | finished async request\n",
      "2022-03-11 18:38:21,465 | 1.0.6 | INFO | ibmfl.party.party_protocol_handler            | Handling async request in a separate thread\n",
      "2022-03-11 18:38:21,468 | 1.0.6 | INFO | werkzeug                                      | 127.0.0.1 - - [11/Mar/2022 18:38:21] \"POST /7 HTTP/1.1\" 200 -\n",
      "2022-03-11 18:38:21,553 | 1.0.6 | INFO | ibmfl.party.party_protocol_handler            | received a async request\n",
      "2022-03-11 18:38:21,553 | 1.0.6 | INFO | ibmfl.party.party_protocol_handler            | Received request from aggregator\n",
      "2022-03-11 18:38:21,555 | 1.0.6 | INFO | ibmfl.party.party_protocol_handler            | finished async request\n",
      "2022-03-11 18:38:21,557 | 1.0.6 | INFO | ibmfl.party.party_protocol_handler            | Handling async request in a separate thread\n",
      "2022-03-11 18:38:21,558 | 1.0.6 | INFO | ibmfl.party.party_protocol_handler            | Received request in with message_type:  7\n",
      "2022-03-11 18:38:21,560 | 1.0.6 | INFO | werkzeug                                      | 127.0.0.1 - - [11/Mar/2022 18:38:21] \"POST /7 HTTP/1.1\" 200 -\n",
      "2022-03-11 18:38:21,561 | 1.0.6 | INFO | ibmfl.party.party_protocol_handler            | Received request from aggregator\n",
      "2022-03-11 18:38:21,562 | 1.0.6 | INFO | ibmfl.party.party_protocol_handler            | Received request in PH 7\n",
      "2022-03-11 18:38:21,567 | 1.0.6 | INFO | ibmfl.party.party_protocol_handler            | Received request in with message_type:  7\n",
      "2022-03-11 18:38:21,567 | 1.0.6 | INFO | ibmfl.aggregator.protohandler.proto_handler   | Total number of success responses :2\n",
      "2022-03-11 18:38:21,575 | 1.0.6 | INFO | ibmfl.party.party_protocol_handler            | Received request in PH 7\n",
      "2022-03-11 18:38:21,578 | 1.0.6 | INFO | ibmfl.party.training.local_training_handler   | Local model updated.\n",
      "2022-03-11 18:38:21,578 | 1.0.6 | INFO | ibmfl.aggregator.protohandler.proto_handler   | Number of parties queried:3\n",
      "2022-03-11 18:38:21,587 | 1.0.6 | INFO | ibmfl.party.training.local_training_handler   | Local training started...\n",
      "2022-03-11 18:38:21,590 | 1.0.6 | INFO | ibmfl.party.training.local_training_handler   | Local model updated.\n",
      "2022-03-11 18:38:21,591 | 1.0.6 | INFO | ibmfl.aggregator.protohandler.proto_handler   | Number of registered parties:4\n",
      "2022-03-11 18:38:21,593 | 1.0.6 | INFO | ibmfl.model.tensorflow_fl_model               | Learning rate of optimizer is set as <tf.Variable 'learning_rate:0' shape=() dtype=float32, numpy=0.01>\n",
      "2022-03-11 18:38:21,594 | 1.0.6 | INFO | ibmfl.party.training.local_training_handler   | Local training started...\n",
      "2022-03-11 18:38:21,597 | 1.0.6 | INFO | ibmfl.aggregator.protohandler.proto_handler   | State: States.QUORUM_WAIT\n",
      "2022-03-11 18:38:21,597 | 1.0.6 | INFO | ibmfl.model.tensorflow_fl_model               | Training hps for this round => batch_size: 128, epochs 1, steps_per_epoch None\n",
      "2022-03-11 18:38:21,600 | 1.0.6 | INFO | ibmfl.model.tensorflow_fl_model               | Learning rate of optimizer is set as <tf.Variable 'learning_rate:0' shape=() dtype=float32, numpy=0.01>\n",
      "2022-03-11 18:38:21,609 | 1.0.6 | INFO | ibmfl.model.tensorflow_fl_model               | Training hps for this round => batch_size: 128, epochs 1, steps_per_epoch None\n",
      "4/4 [==============================] - 0s 47ms/step - loss: 0.3925 - accuracy: 0.8940\n",
      "2022-03-11 18:38:21,942 | 1.0.6 | INFO | ibmfl.party.training.local_training_handler   | Local training done, generating model update...\n",
      "4/4 [==============================] - ETA: 0s - loss: 0.3777 - accuracy: 0.89402022-03-11 18:38:21,943 | 1.0.6 | INFO | ibmfl.party.party_protocol_handler            | successfully finished async request\n",
      "4/4 [==============================] - 0s 51ms/step - loss: 0.3777 - accuracy: 0.8940\n",
      "2022-03-11 18:38:22,070 | 1.0.6 | INFO | ibmfl.party.training.local_training_handler   | Local training done, generating model update...\n",
      "2022-03-11 18:38:22,071 | 1.0.6 | INFO | ibmfl.party.party_protocol_handler            | successfully finished async request\n",
      "2022-03-11 18:38:22,176 | 1.0.6 | INFO | ibmfl.connection.flask_connection             | Request received for path :7\n",
      "2022-03-11 18:38:22,199 | 1.0.6 | INFO | ibmfl.connection.flask_connection             | Request received for path :7\n",
      "2022-03-11 18:38:22,323 | 1.0.6 | INFO | werkzeug                                      | 127.0.0.1 - - [11/Mar/2022 18:38:22] \"POST /7 HTTP/1.1\" 200 -\n",
      "2022-03-11 18:38:22,425 | 1.0.6 | INFO | werkzeug                                      | 127.0.0.1 - - [11/Mar/2022 18:38:22] \"POST /7 HTTP/1.1\" 200 -\n",
      "2022-03-11 18:38:26,606 | 1.0.6 | INFO | ibmfl.aggregator.protohandler.proto_handler   | Timeout:3 Time spent:5\n",
      "2022-03-11 18:38:26,608 | 1.0.6 | INFO | ibmfl.aggregator.fusion.fusion_state_service  | Fusion state States.RCV_MODEL\n",
      "2022-03-11 18:38:26,609 | 1.0.6 | INFO | ibmfl.aggregator.fusion.fusion_state_service  | Fusion state States.AGGREGATING\n",
      "2022-03-11 18:38:26,625 | 1.0.6 | INFO | ibmfl.aggregator.fusion.iter_avg_fusion_handler | Reached maximum global rounds. Finish training :) \n",
      "2022-03-11 18:38:26,628 | 1.0.6 | INFO | ibmfl.aggregator.aggregator                   | Finished Global Training\n"
     ]
    },
    {
     "data": {
      "text/plain": [
       "True"
      ]
     },
     "execution_count": 11,
     "metadata": {},
     "output_type": "execute_result"
    }
   ],
   "source": [
    "# Restart training\n",
    "aggregator.start_training()"
   ]
  },
  {
   "cell_type": "markdown",
   "metadata": {},
   "source": [
    "## Rejoin\n",
    "\n",
    "Next, we will make both dropped out parties rejoin the training process. IBM FL allows parties to rejoin even during the training process. Rejoining during the training is handled in same fashion as shown in this tutorial."
   ]
  },
  {
   "cell_type": "code",
   "execution_count": 12,
   "metadata": {},
   "outputs": [
    {
     "name": "stdout",
     "output_type": "stream",
     "text": [
      "2022-03-11 18:38:29,605 | 1.0.6 | INFO | ibmfl.party.party                             | Party start successful\n",
      "2022-03-11 18:38:29,607 | 1.0.6 | INFO | ibmfl.party.party                             | Registering party...\n",
      "2022-03-11 18:38:29,610 | 1.0.6 | INFO | werkzeug                                      |  * Running on http://127.0.0.1:8085/ (Press CTRL+C to quit)\n",
      "2022-03-11 18:38:29,629 | 1.0.6 | INFO | ibmfl.connection.flask_connection             | Request received for path :6\n",
      "2022-03-11 18:38:29,631 | 1.0.6 | INFO | ibmfl.aggregator.protohandler.proto_handler   | Cleaning dropped parties for addition of party0\n",
      "2022-03-11 18:38:29,632 | 1.0.6 | INFO | ibmfl.aggregator.protohandler.proto_handler   | Adding party with id party0\n",
      "2022-03-11 18:38:29,633 | 1.0.6 | INFO | ibmfl.aggregator.protohandler.proto_handler   | Total number of registered parties:4\n",
      "2022-03-11 18:38:29,635 | 1.0.6 | INFO | werkzeug                                      | 127.0.0.1 - - [11/Mar/2022 18:38:29] \"POST /6 HTTP/1.1\" 200 -\n",
      "2022-03-11 18:38:29,637 | 1.0.6 | INFO | ibmfl.party.party                             | Registration Successful\n",
      "2022-03-11 18:38:29,639 | 1.0.6 | INFO | ibmfl.party.party                             | Party start successful\n",
      "2022-03-11 18:38:29,641 | 1.0.6 | INFO | ibmfl.party.party                             | Registering party...\n",
      "2022-03-11 18:38:29,647 | 1.0.6 | INFO | werkzeug                                      |  * Running on http://127.0.0.1:8086/ (Press CTRL+C to quit)\n",
      "2022-03-11 18:38:29,665 | 1.0.6 | INFO | ibmfl.connection.flask_connection             | Request received for path :6\n",
      "2022-03-11 18:38:29,667 | 1.0.6 | INFO | ibmfl.aggregator.protohandler.proto_handler   | Cleaning dropped parties for addition of party1\n",
      "2022-03-11 18:38:29,669 | 1.0.6 | INFO | ibmfl.aggregator.protohandler.proto_handler   | Adding party with id party1\n",
      "2022-03-11 18:38:29,670 | 1.0.6 | INFO | ibmfl.aggregator.protohandler.proto_handler   | Total number of registered parties:4\n",
      "2022-03-11 18:38:29,672 | 1.0.6 | INFO | werkzeug                                      | 127.0.0.1 - - [11/Mar/2022 18:38:29] \"POST /6 HTTP/1.1\" 200 -\n",
      "2022-03-11 18:38:29,675 | 1.0.6 | INFO | ibmfl.party.party                             | Registration Successful\n"
     ]
    }
   ],
   "source": [
    "for party in [partyList[0], partyList[1]]:\n",
    "    party.start()  \n",
    "    party.register_party()"
   ]
  },
  {
   "cell_type": "markdown",
   "metadata": {},
   "source": [
    "Now, we start training and verify that we train with all four parties."
   ]
  },
  {
   "cell_type": "code",
   "execution_count": 13,
   "metadata": {},
   "outputs": [
    {
     "name": "stdout",
     "output_type": "stream",
     "text": [
      "2022-03-11 18:38:34,070 | 1.0.6 | INFO | ibmfl.aggregator.aggregator                   | Initiating Global Training.\n",
      "2022-03-11 18:38:34,071 | 1.0.6 | INFO | ibmfl.aggregator.fusion.fusion_handler        | Warm start disabled.\n",
      "2022-03-11 18:38:34,078 | 1.0.6 | INFO | ibmfl.aggregator.fusion.iter_avg_fusion_handler | Model update<ibmfl.model.model_update.ModelUpdate object at 0x7fa34cb16ee0>\n",
      "2022-03-11 18:38:34,079 | 1.0.6 | INFO | ibmfl.aggregator.fusion.fusion_state_service  | Fusion state States.SND_MODEL\n",
      "2022-03-11 18:38:34,080 | 1.0.6 | INFO | ibmfl.aggregator.protohandler.proto_handler   | State: States.SND_REQ\n",
      "2022-03-11 18:38:34,522 | 1.0.6 | INFO | ibmfl.connection.flask_connection             | Request received for path :7\n",
      "2022-03-11 18:38:34,523 | 1.0.6 | INFO | ibmfl.connection.flask_connection             | Request received for path :7\n",
      "2022-03-11 18:38:34,524 | 1.0.6 | INFO | ibmfl.connection.flask_connection             | Request received for path :7\n",
      "2022-03-11 18:38:34,525 | 1.0.6 | INFO | ibmfl.connection.flask_connection             | Request received for path :7\n",
      "2022-03-11 18:38:34,698 | 1.0.6 | INFO | ibmfl.party.party_protocol_handler            | received a async request\n",
      "2022-03-11 18:38:34,817 | 1.0.6 | INFO | ibmfl.party.party_protocol_handler            | received a async request\n",
      "2022-03-11 18:38:34,912 | 1.0.6 | INFO | ibmfl.party.party_protocol_handler            | received a async request\n",
      "2022-03-11 18:38:34,966 | 1.0.6 | INFO | ibmfl.party.party_protocol_handler            | finished async request\n",
      "2022-03-11 18:38:34,970 | 1.0.6 | INFO | ibmfl.party.party_protocol_handler            | received a async request\n",
      "2022-03-11 18:38:34,970 | 1.0.6 | INFO | ibmfl.party.party_protocol_handler            | Handling async request in a separate thread\n",
      "2022-03-11 18:38:34,972 | 1.0.6 | INFO | ibmfl.party.party_protocol_handler            | finished async request\n",
      "2022-03-11 18:38:34,972 | 1.0.6 | INFO | ibmfl.party.party_protocol_handler            | Handling async request in a separate thread\n",
      "2022-03-11 18:38:34,973 | 1.0.6 | INFO | ibmfl.party.party_protocol_handler            | finished async request\n",
      "2022-03-11 18:38:34,973 | 1.0.6 | INFO | ibmfl.party.party_protocol_handler            | Handling async request in a separate thread\n",
      "2022-03-11 18:38:34,976 | 1.0.6 | INFO | werkzeug                                      | 127.0.0.1 - - [11/Mar/2022 18:38:34] \"POST /7 HTTP/1.1\" 200 -\n",
      "2022-03-11 18:38:34,977 | 1.0.6 | INFO | ibmfl.party.party_protocol_handler            | finished async request\n",
      "2022-03-11 18:38:34,977 | 1.0.6 | INFO | ibmfl.party.party_protocol_handler            | Handling async request in a separate thread\n",
      "2022-03-11 18:38:34,978 | 1.0.6 | INFO | ibmfl.party.party_protocol_handler            | Received request from aggregator\n",
      "2022-03-11 18:38:34,980 | 1.0.6 | INFO | werkzeug                                      | 127.0.0.1 - - [11/Mar/2022 18:38:34] \"POST /7 HTTP/1.1\" 200 -\n",
      "2022-03-11 18:38:34,982 | 1.0.6 | INFO | ibmfl.party.party_protocol_handler            | Received request from aggregator\n",
      "2022-03-11 18:38:34,984 | 1.0.6 | INFO | werkzeug                                      | 127.0.0.1 - - [11/Mar/2022 18:38:34] \"POST /7 HTTP/1.1\" 200 -\n",
      "2022-03-11 18:38:34,985 | 1.0.6 | INFO | ibmfl.party.party_protocol_handler            | Received request from aggregator\n",
      "2022-03-11 18:38:34,992 | 1.0.6 | INFO | werkzeug                                      | 127.0.0.1 - - [11/Mar/2022 18:38:34] \"POST /7 HTTP/1.1\" 200 -\n",
      "2022-03-11 18:38:34,993 | 1.0.6 | INFO | ibmfl.party.party_protocol_handler            | Received request from aggregator\n",
      "2022-03-11 18:38:34,994 | 1.0.6 | INFO | ibmfl.party.party_protocol_handler            | Received request in with message_type:  7\n",
      "2022-03-11 18:38:35,001 | 1.0.6 | INFO | ibmfl.party.party_protocol_handler            | Received request in with message_type:  7\n",
      "2022-03-11 18:38:35,007 | 1.0.6 | INFO | ibmfl.party.party_protocol_handler            | Received request in with message_type:  7\n",
      "2022-03-11 18:38:35,012 | 1.0.6 | INFO | ibmfl.party.party_protocol_handler            | Received request in with message_type:  7\n",
      "2022-03-11 18:38:35,013 | 1.0.6 | INFO | ibmfl.aggregator.protohandler.proto_handler   | Total number of success responses :4\n",
      "2022-03-11 18:38:35,014 | 1.0.6 | INFO | ibmfl.party.party_protocol_handler            | Received request in PH 7\n",
      "2022-03-11 18:38:35,015 | 1.0.6 | INFO | ibmfl.party.party_protocol_handler            | Received request in PH 7\n",
      "2022-03-11 18:38:35,016 | 1.0.6 | INFO | ibmfl.party.party_protocol_handler            | Received request in PH 7\n",
      "2022-03-11 18:38:35,017 | 1.0.6 | INFO | ibmfl.party.party_protocol_handler            | Received request in PH 7\n",
      "2022-03-11 18:38:35,018 | 1.0.6 | INFO | ibmfl.aggregator.protohandler.proto_handler   | Number of parties queried:4\n",
      "2022-03-11 18:38:35,035 | 1.0.6 | INFO | ibmfl.party.training.local_training_handler   | Local model updated.\n",
      "2022-03-11 18:38:35,037 | 1.0.6 | INFO | ibmfl.party.training.local_training_handler   | Local model updated.\n",
      "2022-03-11 18:38:35,056 | 1.0.6 | INFO | ibmfl.party.training.local_training_handler   | Local model updated.\n",
      "2022-03-11 18:38:35,057 | 1.0.6 | INFO | ibmfl.party.training.local_training_handler   | Local model updated.\n",
      "2022-03-11 18:38:35,057 | 1.0.6 | INFO | ibmfl.aggregator.protohandler.proto_handler   | Number of registered parties:4\n",
      "2022-03-11 18:38:35,059 | 1.0.6 | INFO | ibmfl.party.training.local_training_handler   | Local training started...\n",
      "2022-03-11 18:38:35,060 | 1.0.6 | INFO | ibmfl.party.training.local_training_handler   | Local training started...\n",
      "2022-03-11 18:38:35,061 | 1.0.6 | INFO | ibmfl.party.training.local_training_handler   | Local training started...\n",
      "2022-03-11 18:38:35,062 | 1.0.6 | INFO | ibmfl.party.training.local_training_handler   | Local training started...\n",
      "2022-03-11 18:38:35,065 | 1.0.6 | INFO | ibmfl.aggregator.protohandler.proto_handler   | State: States.QUORUM_WAIT\n",
      "2022-03-11 18:38:35,067 | 1.0.6 | INFO | ibmfl.model.tensorflow_fl_model               | Learning rate of optimizer is set as <tf.Variable 'learning_rate:0' shape=() dtype=float32, numpy=0.01>\n",
      "2022-03-11 18:38:35,068 | 1.0.6 | INFO | ibmfl.model.tensorflow_fl_model               | Learning rate of optimizer is set as <tf.Variable 'learning_rate:0' shape=() dtype=float32, numpy=0.01>\n",
      "2022-03-11 18:38:35,072 | 1.0.6 | INFO | ibmfl.model.tensorflow_fl_model               | Learning rate of optimizer is set as <tf.Variable 'learning_rate:0' shape=() dtype=float32, numpy=0.01>\n",
      "2022-03-11 18:38:35,072 | 1.0.6 | INFO | ibmfl.model.tensorflow_fl_model               | Learning rate of optimizer is set as <tf.Variable 'learning_rate:0' shape=() dtype=float32, numpy=0.01>\n",
      "2022-03-11 18:38:35,074 | 1.0.6 | INFO | ibmfl.model.tensorflow_fl_model               | Training hps for this round => batch_size: 128, epochs 1, steps_per_epoch None\n",
      "2022-03-11 18:38:35,075 | 1.0.6 | INFO | ibmfl.model.tensorflow_fl_model               | Training hps for this round => batch_size: 128, epochs 1, steps_per_epoch None\n",
      "2022-03-11 18:38:35,076 | 1.0.6 | INFO | ibmfl.model.tensorflow_fl_model               | Training hps for this round => batch_size: 128, epochs 1, steps_per_epoch None\n",
      "2022-03-11 18:38:35,079 | 1.0.6 | INFO | ibmfl.model.tensorflow_fl_model               | Training hps for this round => batch_size: 128, epochs 1, steps_per_epoch None\n",
      "4/4 [==============================] - 0s 79ms/step - loss: 0.2003 - accuracy: 0.9400\n",
      "2022-03-11 18:38:35,596 | 1.0.6 | INFO | ibmfl.party.training.local_training_handler   | Local training done, generating model update...\n",
      "4/4 [==============================] - 0s 89ms/step - loss: 0.2337 - accuracy: 0.9300\n",
      "2022-03-11 18:38:35,603 | 1.0.6 | INFO | ibmfl.party.party_protocol_handler            | successfully finished async request\n",
      "4/4 [==============================] - 0s 76ms/step - loss: 0.2514 - accuracy: 0.9240\n",
      "4/4 [==============================] - ETA: 0s - loss: 0.2143 - accuracy: 0.93402022-03-11 18:38:35,627 | 1.0.6 | INFO | ibmfl.party.training.local_training_handler   | Local training done, generating model update...\n",
      "4/4 [==============================] - 0s 86ms/step - loss: 0.2143 - accuracy: 0.9340\n"
     ]
    },
    {
     "name": "stdout",
     "output_type": "stream",
     "text": [
      "2022-03-11 18:38:35,763 | 1.0.6 | INFO | ibmfl.party.training.local_training_handler   | Local training done, generating model update...\n",
      "2022-03-11 18:38:35,765 | 1.0.6 | INFO | ibmfl.party.party_protocol_handler            | successfully finished async request\n",
      "2022-03-11 18:38:35,767 | 1.0.6 | INFO | ibmfl.party.party_protocol_handler            | successfully finished async request\n",
      "2022-03-11 18:38:35,893 | 1.0.6 | INFO | ibmfl.party.training.local_training_handler   | Local training done, generating model update...\n",
      "2022-03-11 18:38:35,894 | 1.0.6 | INFO | ibmfl.connection.flask_connection             | Request received for path :7\n",
      "2022-03-11 18:38:35,996 | 1.0.6 | INFO | ibmfl.connection.flask_connection             | Request received for path :7\n",
      "2022-03-11 18:38:35,997 | 1.0.6 | INFO | ibmfl.party.party_protocol_handler            | successfully finished async request\n",
      "2022-03-11 18:38:36,118 | 1.0.6 | INFO | ibmfl.connection.flask_connection             | Request received for path :7\n",
      "2022-03-11 18:38:36,245 | 1.0.6 | INFO | werkzeug                                      | 127.0.0.1 - - [11/Mar/2022 18:38:36] \"POST /7 HTTP/1.1\" 200 -\n",
      "2022-03-11 18:38:36,372 | 1.0.6 | INFO | werkzeug                                      | 127.0.0.1 - - [11/Mar/2022 18:38:36] \"POST /7 HTTP/1.1\" 200 -\n",
      "2022-03-11 18:38:36,372 | 1.0.6 | INFO | ibmfl.connection.flask_connection             | Request received for path :7\n",
      "2022-03-11 18:38:36,431 | 1.0.6 | INFO | werkzeug                                      | 127.0.0.1 - - [11/Mar/2022 18:38:36] \"POST /7 HTTP/1.1\" 200 -\n",
      "2022-03-11 18:38:36,548 | 1.0.6 | INFO | werkzeug                                      | 127.0.0.1 - - [11/Mar/2022 18:38:36] \"POST /7 HTTP/1.1\" 200 -\n",
      "2022-03-11 18:38:40,077 | 1.0.6 | INFO | ibmfl.aggregator.protohandler.proto_handler   | Timeout:3 Time spent:5\n",
      "2022-03-11 18:38:40,078 | 1.0.6 | INFO | ibmfl.aggregator.fusion.fusion_state_service  | Fusion state States.RCV_MODEL\n",
      "2022-03-11 18:38:40,080 | 1.0.6 | INFO | ibmfl.aggregator.fusion.fusion_state_service  | Fusion state States.AGGREGATING\n",
      "2022-03-11 18:38:40,106 | 1.0.6 | INFO | ibmfl.aggregator.fusion.iter_avg_fusion_handler | Reached maximum global rounds. Finish training :) \n",
      "2022-03-11 18:38:40,120 | 1.0.6 | INFO | ibmfl.aggregator.aggregator                   | Finished Global Training\n"
     ]
    },
    {
     "data": {
      "text/plain": [
       "True"
      ]
     },
     "execution_count": 13,
     "metadata": {},
     "output_type": "execute_result"
    }
   ],
   "source": [
    "# Restart training\n",
    "aggregator.start_training()"
   ]
  },
  {
   "cell_type": "markdown",
   "metadata": {},
   "source": [
    "## Failed Quorum\n",
    "\n",
    "Next, we will make 3 parties drop out and verify that Federated Learning stops as we do not meet quorum in this case (1/4 <= 0.5)."
   ]
  },
  {
   "cell_type": "code",
   "execution_count": 14,
   "metadata": {},
   "outputs": [
    {
     "name": "stdout",
     "output_type": "stream",
     "text": [
      "2022-03-11 18:40:13,654 | 1.0.6 | INFO | ibmfl.connection.flask_connection             | Stopping Receiver and Sender\n",
      "2022-03-11 18:40:13,688 | 1.0.6 | INFO | werkzeug                                      | 127.0.0.1 - - [11/Mar/2022 18:40:13] \"POST /shutdown HTTP/1.1\" 200 -\n",
      "2022-03-11 18:40:13,692 | 1.0.6 | INFO | ibmfl.party.party                             | Party stop successful\n",
      "2022-03-11 18:40:13,693 | 1.0.6 | INFO | ibmfl.connection.flask_connection             | Stopping Receiver and Sender\n",
      "2022-03-11 18:40:13,716 | 1.0.6 | INFO | werkzeug                                      | 127.0.0.1 - - [11/Mar/2022 18:40:13] \"POST /shutdown HTTP/1.1\" 200 -\n",
      "2022-03-11 18:40:13,719 | 1.0.6 | INFO | ibmfl.party.party                             | Party stop successful\n",
      "2022-03-11 18:40:13,721 | 1.0.6 | INFO | ibmfl.connection.flask_connection             | Stopping Receiver and Sender\n",
      "2022-03-11 18:40:13,743 | 1.0.6 | INFO | werkzeug                                      | 127.0.0.1 - - [11/Mar/2022 18:40:13] \"POST /shutdown HTTP/1.1\" 200 -\n",
      "2022-03-11 18:40:13,746 | 1.0.6 | INFO | ibmfl.party.party                             | Party stop successful\n"
     ]
    }
   ],
   "source": [
    "for party in [partyList[0], partyList[1], partyList[2]]:\n",
    "    party.stop() "
   ]
  },
  {
   "cell_type": "code",
   "execution_count": 15,
   "metadata": {},
   "outputs": [
    {
     "name": "stdout",
     "output_type": "stream",
     "text": [
      "2022-03-11 18:40:18,123 | 1.0.6 | INFO | ibmfl.aggregator.aggregator                   | Initiating Global Training.\n",
      "2022-03-11 18:40:18,125 | 1.0.6 | INFO | ibmfl.aggregator.fusion.fusion_handler        | Warm start disabled.\n",
      "2022-03-11 18:40:18,134 | 1.0.6 | INFO | ibmfl.aggregator.fusion.iter_avg_fusion_handler | Model update<ibmfl.model.model_update.ModelUpdate object at 0x7fa32cbe06a0>\n",
      "2022-03-11 18:40:18,136 | 1.0.6 | INFO | ibmfl.aggregator.fusion.fusion_state_service  | Fusion state States.SND_MODEL\n",
      "2022-03-11 18:40:18,138 | 1.0.6 | INFO | ibmfl.aggregator.protohandler.proto_handler   | State: States.SND_REQ\n",
      "2022-03-11 18:40:18,583 | 1.0.6 | WARNING | ibmfl.aggregator.protohandler.proto_handler   | Party dropped out: Error occurred while sending request to party: <ibmfl.aggregator.party_connection.PartyConnection object at 0x7fa32c089940> - HTTPConnectionPool(host='127.0.0.1', port=8085): Max retries exceeded with url: /7 (Caused by NewConnectionError('<urllib3.connection.HTTPConnection object at 0x7fa32c11f790>: Failed to establish a new connection: [Errno 61] Connection refused'))\n",
      "2022-03-11 18:40:18,583 | 1.0.6 | WARNING | ibmfl.aggregator.protohandler.proto_handler   | Party dropped out: Error occurred while sending request to party: <ibmfl.aggregator.party_connection.PartyConnection object at 0x7fa32c089fa0> - HTTPConnectionPool(host='127.0.0.1', port=8086): Max retries exceeded with url: /7 (Caused by NewConnectionError('<urllib3.connection.HTTPConnection object at 0x7fa32c129190>: Failed to establish a new connection: [Errno 61] Connection refused'))\n",
      "2022-03-11 18:40:18,584 | 1.0.6 | WARNING | ibmfl.aggregator.protohandler.proto_handler   | Party dropped out: Error occurred while sending request to party: <ibmfl.aggregator.party_connection.PartyConnection object at 0x7fa33cb25bb0> - HTTPConnectionPool(host='127.0.0.1', port=8087): Max retries exceeded with url: /7 (Caused by NewConnectionError('<urllib3.connection.HTTPConnection object at 0x7fa32c089040>: Failed to establish a new connection: [Errno 61] Connection refused'))\n",
      "2022-03-11 18:40:18,585 | 1.0.6 | INFO | ibmfl.connection.flask_connection             | Request received for path :7\n",
      "2022-03-11 18:40:18,700 | 1.0.6 | INFO | ibmfl.party.party_protocol_handler            | received a async request\n",
      "2022-03-11 18:40:18,701 | 1.0.6 | INFO | ibmfl.party.party_protocol_handler            | finished async request\n",
      "2022-03-11 18:40:18,702 | 1.0.6 | INFO | ibmfl.party.party_protocol_handler            | Handling async request in a separate thread\n",
      "2022-03-11 18:40:18,704 | 1.0.6 | INFO | werkzeug                                      | 127.0.0.1 - - [11/Mar/2022 18:40:18] \"POST /7 HTTP/1.1\" 200 -\n",
      "2022-03-11 18:40:18,706 | 1.0.6 | INFO | ibmfl.party.party_protocol_handler            | Received request from aggregator\n",
      "2022-03-11 18:40:18,710 | 1.0.6 | INFO | ibmfl.party.party_protocol_handler            | Received request in with message_type:  7\n",
      "2022-03-11 18:40:18,710 | 1.0.6 | INFO | ibmfl.aggregator.protohandler.proto_handler   | Total number of success responses :1\n",
      "2022-03-11 18:40:18,711 | 1.0.6 | INFO | ibmfl.party.party_protocol_handler            | Received request in PH 7\n",
      "2022-03-11 18:40:18,713 | 1.0.6 | INFO | ibmfl.aggregator.protohandler.proto_handler   | Number of parties queried:4\n",
      "2022-03-11 18:40:18,721 | 1.0.6 | INFO | ibmfl.aggregator.protohandler.proto_handler   | Number of registered parties:4\n",
      "2022-03-11 18:40:18,724 | 1.0.6 | INFO | ibmfl.party.training.local_training_handler   | Local model updated.\n",
      "2022-03-11 18:40:18,725 | 1.0.6 | INFO | ibmfl.aggregator.protohandler.proto_handler   | State: States.QUORUM_WAIT\n",
      "2022-03-11 18:40:18,726 | 1.0.6 | INFO | ibmfl.party.training.local_training_handler   | Local training started...\n",
      "2022-03-11 18:40:18,728 | 1.0.6 | INFO | ibmfl.model.tensorflow_fl_model               | Learning rate of optimizer is set as <tf.Variable 'learning_rate:0' shape=() dtype=float32, numpy=0.01>\n",
      "2022-03-11 18:40:18,729 | 1.0.6 | INFO | ibmfl.model.tensorflow_fl_model               | Training hps for this round => batch_size: 128, epochs 1, steps_per_epoch None\n",
      "4/4 [==============================] - 0s 27ms/step - loss: 0.0553 - accuracy: 0.9880\n",
      "2022-03-11 18:40:19,070 | 1.0.6 | INFO | ibmfl.party.training.local_training_handler   | Local training done, generating model update...\n",
      "2022-03-11 18:40:19,071 | 1.0.6 | INFO | ibmfl.party.party_protocol_handler            | successfully finished async request\n",
      "2022-03-11 18:40:19,223 | 1.0.6 | INFO | ibmfl.connection.flask_connection             | Request received for path :7\n",
      "2022-03-11 18:40:19,332 | 1.0.6 | INFO | werkzeug                                      | 127.0.0.1 - - [11/Mar/2022 18:40:19] \"POST /7 HTTP/1.1\" 200 -\n",
      "2022-03-11 18:40:23,729 | 1.0.6 | INFO | ibmfl.aggregator.protohandler.proto_handler   | Timeout:3 Time spent:5\n",
      "2022-03-11 18:40:23,731 | 1.0.6 | ERROR | ibmfl.aggregator.protohandler.proto_handler   | One or more party did not reply in time.\n",
      "2022-03-11 18:40:23,735 | 1.0.6 | INFO | ibmfl.aggregator.protohandler.proto_handler   | Target Quorum was: 2\n",
      "2022-03-11 18:40:23,736 | 1.0.6 | ERROR | ibmfl.aggregator.aggregator                   | Exception occurred while training.\n",
      "Traceback (most recent call last):\n",
      "  File \"/Users/ali.anwar2@ibm.com/opt/anaconda3/envs/qrn/lib/python3.8/site-packages/ibmfl/aggregator/aggregator.py\", line 190, in start_training\n",
      "    self.fusion.start_global_training()\n",
      "  File \"/Users/ali.anwar2@ibm.com/opt/anaconda3/envs/qrn/lib/python3.8/site-packages/ibmfl/aggregator/fusion/iter_avg_fusion_handler.py\", line 111, in start_global_training\n",
      "    lst_replies = self.query_all_parties(payload)\n",
      "  File \"/Users/ali.anwar2@ibm.com/opt/anaconda3/envs/qrn/lib/python3.8/site-packages/ibmfl/aggregator/fusion/fusion_handler.py\", line 231, in query_all_parties\n",
      "    lst_model_updates = self.query_parties(payload, lst_parties)\n",
      "  File \"/Users/ali.anwar2@ibm.com/opt/anaconda3/envs/qrn/lib/python3.8/site-packages/ibmfl/aggregator/fusion/fusion_handler.py\", line 255, in query_parties\n",
      "    lst_response = self.ph.query_parties(payload,\n",
      "  File \"/Users/ali.anwar2@ibm.com/opt/anaconda3/envs/qrn/lib/python3.8/site-packages/ibmfl/aggregator/protohandler/proto_handler.py\", line 389, in query_parties\n",
      "    self.periodically_verify_quorum(parties_to_query,\n",
      "  File \"/Users/ali.anwar2@ibm.com/opt/anaconda3/envs/qrn/lib/python3.8/site-packages/ibmfl/aggregator/protohandler/proto_handler.py\", line 806, in periodically_verify_quorum\n",
      "    raise QuorumException(\n",
      "ibmfl.exceptions.QuorumException: Max-timeout: quorum not reached. Party did not reply in time.\n",
      "2022-03-11 18:40:23,743 | 1.0.6 | ERROR | ibmfl.aggregator.aggregator                   | Max-timeout: quorum not reached. Party did not reply in time.\n",
      "Traceback (most recent call last):\n",
      "  File \"/Users/ali.anwar2@ibm.com/opt/anaconda3/envs/qrn/lib/python3.8/site-packages/ibmfl/aggregator/aggregator.py\", line 190, in start_training\n",
      "    self.fusion.start_global_training()\n",
      "  File \"/Users/ali.anwar2@ibm.com/opt/anaconda3/envs/qrn/lib/python3.8/site-packages/ibmfl/aggregator/fusion/iter_avg_fusion_handler.py\", line 111, in start_global_training\n",
      "    lst_replies = self.query_all_parties(payload)\n",
      "  File \"/Users/ali.anwar2@ibm.com/opt/anaconda3/envs/qrn/lib/python3.8/site-packages/ibmfl/aggregator/fusion/fusion_handler.py\", line 231, in query_all_parties\n",
      "    lst_model_updates = self.query_parties(payload, lst_parties)\n",
      "  File \"/Users/ali.anwar2@ibm.com/opt/anaconda3/envs/qrn/lib/python3.8/site-packages/ibmfl/aggregator/fusion/fusion_handler.py\", line 255, in query_parties\n",
      "    lst_response = self.ph.query_parties(payload,\n",
      "  File \"/Users/ali.anwar2@ibm.com/opt/anaconda3/envs/qrn/lib/python3.8/site-packages/ibmfl/aggregator/protohandler/proto_handler.py\", line 389, in query_parties\n",
      "    self.periodically_verify_quorum(parties_to_query,\n",
      "  File \"/Users/ali.anwar2@ibm.com/opt/anaconda3/envs/qrn/lib/python3.8/site-packages/ibmfl/aggregator/protohandler/proto_handler.py\", line 806, in periodically_verify_quorum\n",
      "    raise QuorumException(\n",
      "ibmfl.exceptions.QuorumException: Max-timeout: quorum not reached. Party did not reply in time.\n"
     ]
    },
    {
     "data": {
      "text/plain": [
       "False"
      ]
     },
     "execution_count": 15,
     "metadata": {},
     "output_type": "execute_result"
    }
   ],
   "source": [
    "# Restart training\n",
    "aggregator.start_training()"
   ]
  },
  {
   "cell_type": "markdown",
   "metadata": {},
   "source": [
    "As shown above Aggregator reports that party did not reply in time and quorum is not reached."
   ]
  },
  {
   "cell_type": "markdown",
   "metadata": {},
   "source": [
    "## Shut Down\n",
    "\n",
    "Finally, we invoke the `stop()` method on last remaining party and Aggregator."
   ]
  },
  {
   "cell_type": "code",
   "execution_count": 16,
   "metadata": {},
   "outputs": [
    {
     "name": "stdout",
     "output_type": "stream",
     "text": [
      "2022-03-11 18:40:37,369 | 1.0.6 | INFO | ibmfl.aggregator.protohandler.proto_handler   | State: States.SND_REQ\n",
      "2022-03-11 18:40:37,391 | 1.0.6 | INFO | ibmfl.connection.flask_connection             | Request received for path :14\n",
      "2022-03-11 18:40:37,393 | 1.0.6 | INFO | ibmfl.party.party_protocol_handler            | Received request from aggregator\n",
      "2022-03-11 18:40:37,394 | 1.0.6 | INFO | ibmfl.party.party_protocol_handler            | Received request in with message_type:  14\n",
      "2022-03-11 18:40:37,395 | 1.0.6 | INFO | ibmfl.party.party_protocol_handler            | Received request in PH 14\n",
      "2022-03-11 18:40:37,397 | 1.0.6 | INFO | ibmfl.party.party_protocol_handler            | received a STOP request\n",
      "2022-03-11 18:40:37,400 | 1.0.6 | INFO | werkzeug                                      | 127.0.0.1 - - [11/Mar/2022 18:40:37] \"POST /14 HTTP/1.1\" 200 -\n",
      "2022-03-11 18:40:37,404 | 1.0.6 | INFO | ibmfl.aggregator.protohandler.proto_handler   | Total number of success responses :1\n",
      "2022-03-11 18:40:37,406 | 1.0.6 | INFO | ibmfl.aggregator.protohandler.proto_handler   | Number of parties queried:1\n",
      "2022-03-11 18:40:37,407 | 1.0.6 | INFO | ibmfl.aggregator.protohandler.proto_handler   | Number of registered parties:4\n",
      "2022-03-11 18:40:37,408 | 1.0.6 | INFO | ibmfl.connection.flask_connection             | Stopping Receiver and Sender\n",
      "2022-03-11 18:40:37,432 | 1.0.6 | INFO | werkzeug                                      | 127.0.0.1 - - [11/Mar/2022 18:40:37] \"POST /shutdown HTTP/1.1\" 200 -\n",
      "2022-03-11 18:40:37,435 | 1.0.6 | INFO | ibmfl.aggregator.aggregator                   | Aggregator stop successful\n"
     ]
    }
   ],
   "source": [
    "aggregator.stop()"
   ]
  },
  {
   "cell_type": "code",
   "execution_count": 17,
   "metadata": {},
   "outputs": [
    {
     "name": "stdout",
     "output_type": "stream",
     "text": [
      "2022-03-11 18:40:41,669 | 1.0.6 | INFO | ibmfl.connection.flask_connection             | Stopping Receiver and Sender\n",
      "2022-03-11 18:40:41,689 | 1.0.6 | INFO | werkzeug                                      | 127.0.0.1 - - [11/Mar/2022 18:40:41] \"POST /shutdown HTTP/1.1\" 200 -\n",
      "2022-03-11 18:40:41,692 | 1.0.6 | INFO | ibmfl.party.party                             | Party stop successful\n"
     ]
    }
   ],
   "source": [
    "partyList[3].stop()"
   ]
  }
 ],
 "metadata": {
  "kernelspec": {
   "display_name": "Python 3",
   "language": "python",
   "name": "python3"
  },
  "language_info": {
   "codemirror_mode": {
    "name": "ipython",
    "version": 3
   },
   "file_extension": ".py",
   "mimetype": "text/x-python",
   "name": "python",
   "nbconvert_exporter": "python",
   "pygments_lexer": "ipython3",
   "version": "3.6.13"
  }
 },
 "nbformat": 4,
 "nbformat_minor": 4
}
