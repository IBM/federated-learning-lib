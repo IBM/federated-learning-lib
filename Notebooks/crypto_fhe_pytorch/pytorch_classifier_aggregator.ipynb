{
 "cells": [
  {
   "cell_type": "markdown",
   "metadata": {},
   "source": [
    "# MNIST Classifier with HELayers (HE) - Secure Aggregation in IBM FL"
   ]
  },
  {
   "cell_type": "markdown",
   "metadata": {},
   "source": [
    "## Outline:\n",
    "- [Add conda environment to Jupyter Notebook](#setup)\n",
    "- [Federated Learning(FL)](#intro)\n",
    "- [Why secure aggregation techniques are necessary?](#threats)\n",
    "- [How does IBM FL Work with HE?](#HE-FL)\n",
    "- [Digit Recognition](#mnist)\n",
    "- [Aggregator](#Aggregator)\n",
    "    - [Aggregator Configuration](#Aggregator-Configuration)\n",
    "    - [Running the Aggregator](#Running-the-Aggregator)\n",
    "- [Starting Parties](#Starting-Parties)\n",
    "- [Training and Evaluation](#Training-and-Evaluation)\n",
    "- [Visualize Results](#Visualize-Results)\n",
    "- [Shut Down](#Shut-Down)"
   ]
  },
  {
   "cell_type": "markdown",
   "metadata": {},
   "source": [
    "## Add conda environment to Jupyter Notebook <a name=\"setup\"></a>\n",
    "\n",
    "Please ensure that you have activated the `conda` environment following the instructions in the project README.\n",
    "\n",
    "Once done, run the following commands in your terminal to install your conda environment into the Jupyter Notebook:\n",
    "\n",
    "1. Once you have activated the conda environment, install the `ipykernel` package: `conda install -c anaconda ipykernel`\n",
    "\n",
    "2. Next, install the `ipykernel` module within Jupyter Notebook: `python -m ipykernel install --user --name=<conda_env>`\n",
    "\n",
    "3. Please install the `matplotlib` package for your conda environment.\n",
    "\n",
    "4. Finally, restart the jupyter notebook once done. Ensure that you are running this Notebook from `<project_path>/Notebooks`, where project_path is the directory where the IBMFL repository was cloned.\n",
    "\n",
    "When the Notebook is up and running it may prompt you to choose the kernel. Use the drop down to choose the kernel name same as that chosen when running `conda activate <conda_env>`. If no prompt shows up, you can change the kernel by clicking _Kernel_ > _Change kernel_ > _`<conda_env>`_."
   ]
  },
  {
   "cell_type": "markdown",
   "metadata": {},
   "source": [
    "## Federated Learning (FL) <a name=\"intro\"></a>\n",
    "\n",
    "**Federated Learning (FL)** is a distributed machine learning process in which each participant node (or party) retains their data locally and interacts with  other participants via a learning protocol. \n",
    "One main driver behind FL is the need to not share data with others  due to privacy and confidentially concerns.\n",
    "Another driver is to improve the speed of training a machine learning model by leveraging other participants' training processes.\n",
    "\n",
    "Setting up such a federated learning system requires setting up a communication infrastructure, converting machine learning algorithms to federated settings and in some cases knowing about the intricacies of security and privacy enabling techniques such as differential privacy and multi-party computation. \n",
    "\n",
    "In this Notebook we use [IBM FL](https://github.com/IBM/federated-learning-lib) together with Homomorphic Encryption to have multiple parties train a classifier to recognise handwritten digits in the [MNIST dataset](http://yann.lecun.com/exdb/mnist/). \n",
    "\n",
    "For a more technical dive into IBM FL, refer the whitepaper [here](https://arxiv.org/pdf/2007.10987.pdf)."
   ]
  },
  {
   "cell_type": "markdown",
   "metadata": {},
   "source": [
    "In the following cells, we set up each of the components of a Federated Learning network (See Figure below) wherein all involved parties aid in training their respective local cartpoles to arrive at the upright pendulum state. In this notebook we default to 2 parties, but depending on your resources you may use more parties.\n",
    "\n",
    "<img style=\"display=block; margin:auto\" src=\"../images/FL_Network.png\" width=\"720\" />\n",
    "<p style=\"text-align: center\">\n",
    "    Modified from Image Source: <a href=\"https://arxiv.org/pdf/2007.10987.pdf\">IBM Federated Learning: An Enterprise FrameworkWhite Paper V0.1</a>\n",
    "</p>"
   ]
  },
  {
   "cell_type": "markdown",
   "metadata": {},
   "source": [
    "## Why secure aggregation techniques are necessary? <a name=\"threats\"></a>\n",
    "\n",
    "Federated Learning inherently provides some level of privacy because parties do not need to share their raw training data. However, some federations have stringent privacy requirements or are subject to regulation that may dictate that the system needs to add additional protection mechanisms to prevent inference of private information. <!--This raises risks for inference attacks on the training data from party updates. simply keeping the data at the party side is not sufficient for protecting privacy, since updates from a party may leak some information. In untrusted environments adversaries may try to infer information by analyzing other parties' replies.-->\n",
    "\n",
    "<img style=\"display=block; margin:auto\" src=\"../images/attack_surface.png\" width=\"520\" />\n",
    "<p style=\"text-align: center\">Inferences over replies</p>\n",
    "\n",
    "One inference attack to recover original training images from gradients exachanged between the aggregator and parties is shown below.\n",
    "\n",
    "<img style=\"display=block; margin:auto\" src=\"../images/inference.gif\" />\n",
    "<p style=\"text-align: center\">Taken from <a href=\"https://github.com/mit-han-lab/dlg\"> Deep Leakage From Gradients</a></p>\n",
    "\n",
    "Homomorphic Encryption can help us reduce the risk by hiding the final model from the aggregator and only revealing the aggregated version to the parties. Homomorphic Encryption is a crypto system that allows an entity to perform computations on encrypted data without decrypting it.  In other words, it enables the computation of a function over encrypted inputs and produces the result in encrypted form.  \n",
    "\n",
    "<img style=\"display=block; margin:auto\" src=\"../images/FHE_basics_2.png\" width=\"720\"/>\n",
    "<p style=\"text-align: center\">Homomorphic Encryption in Federated Learning</p>"
   ]
  },
  {
   "cell_type": "markdown",
   "metadata": {},
   "source": [
    "## How does IBM FL work with HE? <a name=\"HE-FL\"></a>\n",
    "\n",
    "IBM FL uses the *[Cheon-Kim-Kim-Song (CKKS) scheme](https://eprint.iacr.org/2016/421.pdf)* for Homomorphic Encryption. HE functionalities are implemented using *[IBM HElayers software development kit (SDK)](https://github.com/IBM/helayers)*, and in particular, its *[PyHElayers](https://github.com/IBM/helayers#pyhelayers-python-package)* Python package. You can install `pyhelayers` in your conda environment by running `pip install pyhelayers`. Note that `pyhelayers` is currently supported only on Linux (x86 and IBM Z).\n",
    "\n",
    "<img style=\"display=block; margin:auto\" src=\"../images/ibmfl_helayer.png\" width=\"512\"/>\n",
    "<p style=\"text-align: center\">IBM FL library integrated with HELayers</p>\n",
    "\n",
    "After enabling IBM FL with HE, the aggregator does not see model updates in plaintext. The aggregator sees encrypted model updates and performs aggregation under encryption, as shown in the figure below. \n",
    "\n",
    "<img style=\"display=block; margin:auto\" src=\"../images/FL_FHE_v3.gif\" />\n",
    "<p style=\"text-align: center\">FL Training with HE</a></p>"
   ]
  },
  {
   "cell_type": "markdown",
   "metadata": {},
   "source": [
    "## Digit Recognition <a name=\"mnist\"></a>\n",
    "\n"
   ]
  },
  {
   "cell_type": "markdown",
   "metadata": {},
   "source": [
    "<img style=\"display=block; margin:auto\" src=\"../images/MnistExamples.png\" width=\"512\"/>\n",
    "<p style=\"text-align: center\">Image Source: Josef Steppan / CC BY-SA <a href=\"https://creativecommons.org/licenses/by-sa/4.0\">Wikimedia Commons</a></p>"
   ]
  },
  {
   "cell_type": "markdown",
   "metadata": {},
   "source": [
    "The problem at hand is to recognize digits from these tens of thousands of handwritten images. In this notebook, we are going to assume that the parties and the aggregator are run in the same machine. For that purpose, we first randomly split the training data to each party. Then, we define the neural network definition. After that we start the aggregator and we need to register and run all parties by running two other notebooks."
   ]
  },
  {
   "cell_type": "markdown",
   "metadata": {},
   "source": [
    "### Getting things ready\n",
    "We begin by setting the number of parties that will participate in the federated learning run and splitting up the data among them."
   ]
  },
  {
   "cell_type": "code",
   "execution_count": 1,
   "metadata": {},
   "outputs": [],
   "source": [
    "import sys\n",
    "sys.path.append('../..')\n",
    "import os\n",
    "os.chdir(\"../..\")\n",
    "\n",
    "num_parties = 2  ## number of participating parties\n",
    "dataset = 'mnist'"
   ]
  },
  {
   "cell_type": "markdown",
   "metadata": {},
   "source": [
    "We use `examples/generate_data.py` to split the dataset into files for each party. \n",
    "\n",
    "The script allows specifying the number of parties as well as the dataset to use (from several supported datasets: _mnist_, _femnist_, _cifar10_ and many others). \n",
    "\n",
    "The `-pp` argument states how many data points to choose per party. If the option `--stratify` is given, the library stratifies the data proportionally according to the source distribution. If you want to run this notebook in different machines, you can assign samples for each party locally. Then, we define the neural network definition."
   ]
  },
  {
   "cell_type": "code",
   "execution_count": 2,
   "metadata": {},
   "outputs": [
    {
     "name": "stdout",
     "output_type": "stream",
     "text": [
      "Warning: test set and train set contain different labels\n",
      "Party_ 0\n",
      "nb_x_train:  (500, 28, 28) nb_x_test:  (5000, 28, 28)\n",
      "* Label  0  samples:  39\n",
      "* Label  1  samples:  66\n",
      "* Label  2  samples:  56\n",
      "* Label  3  samples:  50\n",
      "* Label  4  samples:  42\n",
      "* Label  5  samples:  42\n",
      "* Label  6  samples:  45\n",
      "* Label  7  samples:  47\n",
      "* Label  8  samples:  45\n",
      "* Label  9  samples:  68\n",
      "Finished! :) Data saved in  examples/data/mnist/random\n",
      "Party_ 1\n",
      "nb_x_train:  (500, 28, 28) nb_x_test:  (5000, 28, 28)\n",
      "* Label  0  samples:  50\n",
      "* Label  1  samples:  53\n",
      "* Label  2  samples:  37\n",
      "* Label  3  samples:  41\n",
      "* Label  4  samples:  53\n",
      "* Label  5  samples:  43\n",
      "* Label  6  samples:  51\n",
      "* Label  7  samples:  58\n",
      "* Label  8  samples:  58\n",
      "* Label  9  samples:  56\n",
      "Finished! :) Data saved in  examples/data/mnist/random\n"
     ]
    }
   ],
   "source": [
    "%run examples/generate_data.py -n $num_parties -d $dataset -pp 500 "
   ]
  },
  {
   "cell_type": "markdown",
   "metadata": {},
   "source": [
    "Generate a pytorch model definition file using the below function `save_model_config`. Please note that parties data and the model file needs to be copied to the parties if you launch parties on different nodes."
   ]
  },
  {
   "cell_type": "code",
   "execution_count": 3,
   "metadata": {},
   "outputs": [
    {
     "data": {
      "text/plain": [
       "{'name': 'PytorchFLModel',\n",
       " 'path': 'ibmfl.model.pytorch_fl_model',\n",
       " 'spec': {'model_name': 'pytorch-nn',\n",
       "  'model_definition': 'examples/configs/pytorch_classifier/pytorch_sequence.pt',\n",
       "  'optimizer': 'optim.Adam',\n",
       "  'loss_criterion': 'nn.NLLLoss'}}"
      ]
     },
     "execution_count": 3,
     "metadata": {},
     "output_type": "execute_result"
    }
   ],
   "source": [
    "import os\n",
    "import torch\n",
    "from torch import nn\n",
    "\n",
    "def save_model_config(folder_configs):\n",
    "    model = nn.Sequential(nn.Conv2d(1, 32, 3, 1),\n",
    "                          nn.ReLU(),\n",
    "                          nn.Conv2d(32, 64, 3, 1),\n",
    "                          nn.ReLU(),\n",
    "                          nn.MaxPool2d(2, 2),\n",
    "                          nn.Dropout2d(p=0.25),\n",
    "                          nn.Flatten(),\n",
    "                          nn.Linear(9216, 128),\n",
    "                          nn.ReLU(),\n",
    "                          nn.Dropout2d(p=0.5),\n",
    "                          nn.Linear(128, 10),\n",
    "                          nn.LogSoftmax(dim=1)\n",
    "                          )\n",
    "    if not os.path.exists(folder_configs):\n",
    "        os.makedirs(folder_configs)\n",
    "    fname = os.path.join(folder_configs, 'pytorch_sequence.pt')\n",
    "    torch.save(model, fname)\n",
    "    optimizer = 'optim.Adam'\n",
    "    criterion = 'nn.NLLLoss'\n",
    "    spec = {\n",
    "        'model_name': 'pytorch-nn',\n",
    "        'model_definition': fname,\n",
    "        'optimizer': optimizer,\n",
    "        'loss_criterion': criterion,\n",
    "    }\n",
    "    model = {\n",
    "        'name': 'PytorchFLModel',\n",
    "        'path': 'ibmfl.model.pytorch_fl_model',\n",
    "        'spec': spec,\n",
    "    }\n",
    "    return model\n",
    "\n",
    "save_model_config('examples/configs/pytorch_classifier/')"
   ]
  },
  {
   "cell_type": "markdown",
   "metadata": {},
   "source": [
    "#### Set up Homomorphic Encryption (HE) Keys\n",
    "\n",
    "The HE crypto system uses a public key and a secret key. As shown in the figure, secure aggregation using the HE crypto system requires the aggregator to obtain the public key and the parties to share the private key. In what follows, we will go into detail into how to generate the HE keys. "
   ]
  },
  {
   "cell_type": "markdown",
   "metadata": {},
   "source": [
    "<img style=\"display=block; margin:auto\" src=\"../images/FL_HE_keys.png\" width=\"512\"/>\n",
    "<p style=\"text-align: center\">Parties share an HE private key, and share with the aggregator an HE public key.</p>"
   ]
  },
  {
   "cell_type": "markdown",
   "metadata": {},
   "source": [
    "The easiest (and a recommended) way to generate HE keys is to run the `generate_store_HE_keys()` method that takes the following arguments:\n",
    "\n",
    "- `path_for_public_key`: Path at which the public key file of HELayers will be stored.\n",
    "- `path_for_secret_key`: Path at which the secret key file of HELayers will be stored.\n",
    "- `HE_parames` (optional): Dictionary specifying the parametes of Homomorphic Encryption (HE). When using the default parameters, this argument is not required.\n",
    "\n",
    "In HE-based aggregation in IBM-FL, all parties will have the access to the secret key. The aggregator will not have access to the secret key. It is worth noting that the secret key is used for decryption. Any entity that has an access to the secret key can decrypt the model updates from any party, and it is important that the parties protect the secret key.  \n",
    "\n",
    "The public key file, often called as the context file, has the public key (along with some other parameters) required to perform homomorphic operations. In HE-based aggregation, the aggregator will have only the public key context file. Since the aggregator does not have the secret key, it cannot learn anything from the ciphertexts it receives from the parties. The aggregator performs aggregation under encryption (using the public key context file).\n",
    "\n",
    "For details on HE parameters and how to set up custom parameters, see the tutorial on *Key Setup* (`Notebooks/crypto_fhe_key_setup.ipynb`)."
   ]
  },
  {
   "cell_type": "code",
   "execution_count": null,
   "metadata": {},
   "outputs": [],
   "source": [
    "from ibmfl.crypto.generate_store_HE_keys import generate_store_HE_keys\n",
    "\n",
    "# Path for public key context file\n",
    "ctx_file = os.path.join(os.getcwd(), 'Notebooks/fhe.context')\n",
    "# Path for secret key context file\n",
    "key_file = os.path.join(os.getcwd(), 'Notebooks/fhe.key')\n",
    "\n",
    "generate_store_HE_keys(path_for_public_key = ctx_file, path_for_secret_key = key_file)"
   ]
  },
  {
   "cell_type": "markdown",
   "metadata": {},
   "source": [
    "## Aggregator <a name=\"aggregator\"></a>\n",
    "\n",
    "Aggregator coordinates the overall process, communicates with the parties and integrates the results of the training process. This integration of results is done using the _Fusion Algorithm_.\n",
    "\n",
    "A fusion algorithm queries the registered parties to carry out the federated learning process. The queries sent vary according to the model/algorithm type.  In return, parties send their reply as a model update object, and these model updates are then aggregated according to the specified Fusion Algorithm, specified via a `Fusion Handler` class. \n",
    "\n",
    "To take a look at the supported fusion algorithms, refer the IBM FL tutorial page [here](https://github.com/IBM/federated-learning-lib/blob/main/README.md#supported-functionality)."
   ]
  },
  {
   "cell_type": "markdown",
   "metadata": {},
   "source": [
    "### Aggregator Configuration\n",
    "\n",
    "We discuss the various configuration parameters for the Aggregator [here.](https://github.com/IBM/federated-learning-lib/blob/main/docs/tutorials/configure_fl.md#the-aggregators-configuration-file)\n",
    "\n",
    "Given below is an example of the aggregator's configuration file. In this example, the aggregator does not specify a data file or maintain a global model. Hence, during the federated learning process, it only keeps track of the current model parameters. \n",
    "\n",
    "However, it is possible that the aggregator also has data for testing purposes and maintains a global model. When this is the case, one needs to add `data` and `model` sections in the configuration file."
   ]
  },
  {
   "cell_type": "markdown",
   "metadata": {},
   "source": [
    "<img style=\"display=block; margin:auto\" src=\"../images/FHE_stacks.png\" width=\"680\"/>\n",
    "<p style=\"text-align: center\">Aggregator and Party side configurations</a></p>"
   ]
  },
  {
   "cell_type": "markdown",
   "metadata": {},
   "source": [
    "#### Building blocks in the configuration file:\n",
    "\n",
    "- `connection` (also used in Party config): needed to initiate the connection; includes server information (`info`, optional, depends on the connection type), a connection class name, a connection file location, and a synchronization mode flag (`sync`) for training phase\n",
    "\n",
    "- `fusion`: needed to initiate a fusion algorithm at the aggregator side; includes a smc-based fusion handler class name, a smc-based fusion handler file location, and and specifies the crypto system and key manager in the info section.\n",
    "    1. 'name': 'CryptoIterAvgFusionHandler', -> This makes sure that the fusion handler which implements `iterative averaging` fusion handler with homomorphic encryption is invoked (currently, only the `iterative averaging` fusion handler is supported with HE)\n",
    "    2. 'path': 'ibmfl.aggregator.fusion.crypto_fedavg_fusion_handler', -> The path to the previous item \n",
    "    3. 'info': Inside this field, we specify the crypto options including:\n",
    "        - crypto\n",
    "            - name: specify the crypto system (Use `CryptoFHE` which implements Homomorphic Encryption. Other crypto systems may be added at a later stage.)\n",
    "            - path: the path to the previous item\n",
    "            - key_manager:\n",
    "                + name: specify the key manager type (This is fixed to `LocalDiskKeyManager` for now. More key management protocols may be added at a later stage.)\n",
    "                + path: the path to the previous item (This is fixed to `ibmfl.crypto.keys_mng.crypto_key_mng_dsk` for now.)\n",
    "                + key_mgr_info: specify the path for the public key context file\n",
    "\n",
    "\n",
    "- `protocol_handler`: needed to initiate a protocol; includes a crypto protocol handler class name and a protocol handler file location.\n",
    "    - 'name': 'ProtoHandler', -> This makes sure that the generic crypto module is invoke.\n",
    "    - 'path': 'ibmfl.aggregator.protohandler.proto_handler', -> The path to the previous item.\n",
    "\n",
    "- `hyperparams`: includes global training and local training hyperparameters, including `termination_accuracy`, learning rate (`lr`), `optimizer`, etc., depending on the model being used.\n",
    "\n",
    "For detailed documentation of the objects described below, refer the API docs [here](https://ibmfl.mybluemix.net/api-documentation)."
   ]
  },
  {
   "cell_type": "code",
   "execution_count": 5,
   "metadata": {},
   "outputs": [],
   "source": [
    "agg_config = {\n",
    "    'connection': {\n",
    "        'info': {\n",
    "            'ip': '127.0.0.1',\n",
    "            'port': 5000,\n",
    "            'tls_config': {\n",
    "                'enable': 'false'\n",
    "            }\n",
    "        },\n",
    "        'name': 'FlaskConnection',\n",
    "        'path': 'ibmfl.connection.flask_connection',\n",
    "        'sync': 'False'\n",
    "    },\n",
    "    'data': {\n",
    "        'info': {\n",
    "            'npz_file': 'examples/datasets/mnist.npz'\n",
    "        },\n",
    "        'name': 'MnistPytorchDataHandler',\n",
    "        'path': 'ibmfl.util.data_handlers.mnist_pytorch_data_handler'\n",
    "    },\n",
    "    'fusion': {\n",
    "        'name': 'CryptoIterAvgFusionHandler',\n",
    "        'path': 'ibmfl.aggregator.fusion.crypto_iter_avg_fusion_handler',\n",
    "        'info': {\n",
    "            'crypto': {\n",
    "                'name': 'CryptoFHE',\n",
    "                'path': 'ibmfl.crypto.helayer.fhe',\n",
    "                'key_manager': {\n",
    "                    'name': 'LocalDiskKeyManager',\n",
    "                    'path': 'ibmfl.crypto.keys_mng.crypto_key_mng_dsk',\n",
    "                    'key_mgr_info': {\n",
    "                       'files': {\n",
    "                            'context': ctx_file\n",
    "                        }\n",
    "                    }\n",
    "                }\n",
    "            }\n",
    "        }\n",
    "    },\n",
    "    'hyperparams': {\n",
    "        'global': {\n",
    "            'num_parties': num_parties,\n",
    "            'perc_quorum': 1,\n",
    "            'rounds': 3,\n",
    "            'termination_accuracy': 0.9\n",
    "        },\n",
    "        'local': {\n",
    "            'optimizer': {\n",
    "                'lr': 0.01\n",
    "            },\n",
    "            'training': {\n",
    "                'epochs': 5\n",
    "            }\n",
    "        }\n",
    "    },\n",
    "    'protocol_handler': {\n",
    "        'name': 'ProtoHandler',\n",
    "        'path': 'ibmfl.aggregator.protohandler.proto_handler'\n",
    "    }\n",
    "}"
   ]
  },
  {
   "cell_type": "markdown",
   "metadata": {},
   "source": [
    "### Running the Aggregator\n",
    "Next we pass the configuration parameters set in the previous cell to instantiate the `Aggregator` object. Finally, we `start()` the Aggregator process."
   ]
  },
  {
   "cell_type": "code",
   "execution_count": 6,
   "metadata": {},
   "outputs": [
    {
     "name": "stdout",
     "output_type": "stream",
     "text": [
      "2022-11-18 21:53:41,606 | 1.0.7 | INFO | ibmfl.util.config                             | Getting Aggregator details from arguments.\n",
      "2022-11-18 21:53:41,608 | 1.0.7 | INFO | ibmfl.util.config                             | No metrics recorder config provided for this setup.\n",
      "2022-11-18 21:53:41,609 | 1.0.7 | INFO | ibmfl.util.config                             | No model config provided for this setup.\n",
      "2022-11-18 21:53:41,794 | 1.0.7 | INFO | ibmfl.util.config                             | No metrics config provided for this setup.\n",
      "2022-11-18 21:53:41,795 | 1.0.7 | INFO | ibmfl.util.config                             | No evidencia recordeer config provided for this setup.\n",
      "2022-11-18 21:53:41,795 | 1.0.7 | INFO | ibmfl.util.data_handlers.mnist_pytorch_data_handler | Loaded training data from examples/datasets/mnist.npz\n",
      "2022-11-18 21:53:42,139 | 1.0.7 | INFO | ibmfl.connection.flask_connection             | RestSender initialized\n",
      "2022-11-18 21:53:42,140 | 1.0.7 | INFO | ibmfl.aggregator.protohandler.proto_handler   | State: States.START\n",
      "2022-11-18 21:53:42,141 | 1.0.7 | INFO | ibmfl.aggregator.fusion.fusion_handler        | Warm start flag set to False.\n",
      "2022-11-18 21:53:42,143 | 1.0.7 | INFO | ibmfl.crypto.crypto_library                   | Initializing a key manager\n",
      "2022-11-18 21:53:42,144 | 1.0.7 | INFO | ibmfl.crypto.helayer.fhe                      | Initializing keys\n",
      "2022-11-18 21:53:42,144 | 1.0.7 | INFO | ibmfl.crypto.helayer.fhe                      | Initializing a FHE Cipher\n",
      "2022-11-18 21:53:42,162 | 1.0.7 | INFO | ibmfl.crypto.helayer.fhe                      | No flag for privacy of fusion weights in config. Setting to default value of False.\n",
      "2022-11-18 21:53:42,163 | 1.0.7 | INFO | ibmfl.connection.flask_connection             | Receiver Initialized\n",
      "2022-11-18 21:53:42,163 | 1.0.7 | INFO | ibmfl.connection.flask_connection             | Initializing Flask application\n",
      "2022-11-18 21:53:42,167 | 1.0.7 | INFO | ibmfl.aggregator.aggregator                   | Aggregator initialization successful\n",
      "2022-11-18 21:53:42,168 | 1.0.7 | INFO | ibmfl.aggregator.aggregator                   | Aggregator start successful\n",
      "2022-11-18 21:53:42,170 | 1.0.7 | INFO | werkzeug                                      |  * Running on http://127.0.0.1:5000/ (Press CTRL+C to quit)\n",
      "2022-11-18 21:54:00,209 | 1.0.7 | INFO | ibmfl.connection.flask_connection             | Request received for path :6\n",
      "2022-11-18 21:54:00,211 | 1.0.7 | INFO | ibmfl.aggregator.protohandler.proto_handler   | Adding party with id cdc14bf1-4e12-4358-9586-bb0668dc65a9\n",
      "2022-11-18 21:54:00,212 | 1.0.7 | INFO | ibmfl.aggregator.protohandler.proto_handler   | Total number of registered parties:1\n",
      "2022-11-18 21:54:00,213 | 1.0.7 | INFO | werkzeug                                      | 127.0.0.1 - - [18/Nov/2022 21:54:00] \"POST /6 HTTP/1.1\" 200 -\n",
      "2022-11-18 21:54:20,106 | 1.0.7 | INFO | ibmfl.connection.flask_connection             | Request received for path :6\n",
      "2022-11-18 21:54:20,108 | 1.0.7 | INFO | ibmfl.aggregator.protohandler.proto_handler   | Adding party with id 3975183a-8692-4b08-b4c6-182c443a882a\n",
      "2022-11-18 21:54:20,108 | 1.0.7 | INFO | ibmfl.aggregator.protohandler.proto_handler   | Total number of registered parties:2\n",
      "2022-11-18 21:54:20,109 | 1.0.7 | INFO | werkzeug                                      | 127.0.0.1 - - [18/Nov/2022 21:54:20] \"POST /6 HTTP/1.1\" 200 -\n"
     ]
    }
   ],
   "source": [
    "from ibmfl.aggregator.aggregator import Aggregator\n",
    "aggregator = Aggregator(config_dict=agg_config)\n",
    "\n",
    "aggregator.start()"
   ]
  },
  {
   "cell_type": "markdown",
   "metadata": {},
   "source": [
    "## Starting Parties <a name=\"parties\"></a>\n",
    "\n",
    "Now that we have Aggregator running, next we go to Parties' notebooks (`pytorch_classifier_p0.ipynb` and `pytorch_classifier_p1.ipynb`) to start and register them with the Aggregator. Once all the parties are done with registration, we will move to next step to start training."
   ]
  },
  {
   "cell_type": "markdown",
   "metadata": {},
   "source": [
    "## Training and Evaluation <a name=\"Training-and-Evaluation\"></a>\n",
    "\n",
    "Now that our network has been set up, we begin training the model by invoking the Aggregator's `start_training()` method. \n",
    "\n",
    "This could take some time, depending on your system specifications. Feel free to get your dose of coffee meanwhile ☕"
   ]
  },
  {
   "cell_type": "code",
   "execution_count": 7,
   "metadata": {},
   "outputs": [
    {
     "name": "stdout",
     "output_type": "stream",
     "text": [
      "2022-11-18 21:54:27,712 | 1.0.7 | INFO | ibmfl.aggregator.aggregator                   | Initiating Global Training.\n",
      "2022-11-18 21:54:27,714 | 1.0.7 | INFO | ibmfl.aggregator.fusion.fusion_handler        | Warm start disabled.\n",
      "2022-11-18 21:54:27,714 | 1.0.7 | INFO | ibmfl.aggregator.fusion.crypto_iter_avg_fusion_handler | start_global_training: [round: 0] [model update: None]\n",
      "2022-11-18 21:54:27,716 | 1.0.7 | INFO | ibmfl.aggregator.fusion.fusion_state_service  | Fusion state States.SND_MODEL\n",
      "2022-11-18 21:54:27,716 | 1.0.7 | INFO | ibmfl.aggregator.protohandler.proto_handler   | State: States.SND_REQ\n",
      "2022-11-18 21:54:27,738 | 1.0.7 | INFO | ibmfl.aggregator.protohandler.proto_handler   | Total number of success responses :2\n",
      "2022-11-18 21:54:27,739 | 1.0.7 | INFO | ibmfl.aggregator.protohandler.proto_handler   | Number of parties queried:2\n",
      "2022-11-18 21:54:27,740 | 1.0.7 | INFO | ibmfl.aggregator.protohandler.proto_handler   | Number of registered parties:2\n",
      "2022-11-18 21:54:27,741 | 1.0.7 | INFO | ibmfl.aggregator.protohandler.proto_handler   | State: States.QUORUM_WAIT\n",
      "2022-11-18 21:54:32,745 | 1.0.7 | INFO | ibmfl.aggregator.protohandler.proto_handler   | Timeout:None Time spent:5\n",
      "2022-11-18 21:54:37,748 | 1.0.7 | INFO | ibmfl.aggregator.protohandler.proto_handler   | Timeout:None Time spent:10\n",
      "2022-11-18 21:54:42,752 | 1.0.7 | INFO | ibmfl.aggregator.protohandler.proto_handler   | Timeout:None Time spent:15\n",
      "2022-11-18 21:54:47,757 | 1.0.7 | INFO | ibmfl.aggregator.protohandler.proto_handler   | Timeout:None Time spent:20\n",
      "2022-11-18 21:54:52,761 | 1.0.7 | INFO | ibmfl.aggregator.protohandler.proto_handler   | Timeout:None Time spent:25\n",
      "2022-11-18 21:54:57,765 | 1.0.7 | INFO | ibmfl.aggregator.protohandler.proto_handler   | Timeout:None Time spent:30\n",
      "2022-11-18 21:55:02,768 | 1.0.7 | INFO | ibmfl.aggregator.protohandler.proto_handler   | Timeout:None Time spent:35\n",
      "2022-11-18 21:55:07,773 | 1.0.7 | INFO | ibmfl.aggregator.protohandler.proto_handler   | Timeout:None Time spent:40\n",
      "2022-11-18 21:55:12,777 | 1.0.7 | INFO | ibmfl.aggregator.protohandler.proto_handler   | Timeout:None Time spent:45\n",
      "2022-11-18 21:55:17,792 | 1.0.7 | INFO | ibmfl.aggregator.protohandler.proto_handler   | Timeout:None Time spent:50\n",
      "2022-11-18 21:55:22,803 | 1.0.7 | INFO | ibmfl.aggregator.protohandler.proto_handler   | Timeout:None Time spent:55\n",
      "2022-11-18 21:55:27,809 | 1.0.7 | INFO | ibmfl.aggregator.protohandler.proto_handler   | Timeout:None Time spent:60\n",
      "2022-11-18 21:55:32,813 | 1.0.7 | INFO | ibmfl.aggregator.protohandler.proto_handler   | Timeout:None Time spent:65\n",
      "2022-11-18 21:55:37,821 | 1.0.7 | INFO | ibmfl.aggregator.protohandler.proto_handler   | Timeout:None Time spent:70\n",
      "2022-11-18 21:55:42,824 | 1.0.7 | INFO | ibmfl.aggregator.protohandler.proto_handler   | Timeout:None Time spent:75\n",
      "2022-11-18 21:55:47,828 | 1.0.7 | INFO | ibmfl.aggregator.protohandler.proto_handler   | Timeout:None Time spent:80\n",
      "2022-11-18 21:55:52,832 | 1.0.7 | INFO | ibmfl.aggregator.protohandler.proto_handler   | Timeout:None Time spent:85\n",
      "2022-11-18 21:55:57,837 | 1.0.7 | INFO | ibmfl.aggregator.protohandler.proto_handler   | Timeout:None Time spent:90\n",
      "2022-11-18 21:56:02,840 | 1.0.7 | INFO | ibmfl.aggregator.protohandler.proto_handler   | Timeout:None Time spent:95\n",
      "2022-11-18 21:56:07,844 | 1.0.7 | INFO | ibmfl.aggregator.protohandler.proto_handler   | Timeout:None Time spent:100\n",
      "2022-11-18 21:56:12,848 | 1.0.7 | INFO | ibmfl.aggregator.protohandler.proto_handler   | Timeout:None Time spent:105\n",
      "2022-11-18 21:56:17,852 | 1.0.7 | INFO | ibmfl.aggregator.protohandler.proto_handler   | Timeout:None Time spent:110\n",
      "2022-11-18 21:56:22,856 | 1.0.7 | INFO | ibmfl.aggregator.protohandler.proto_handler   | Timeout:None Time spent:115\n",
      "2022-11-18 21:56:27,860 | 1.0.7 | INFO | ibmfl.aggregator.protohandler.proto_handler   | Timeout:None Time spent:120\n",
      "2022-11-18 21:56:32,864 | 1.0.7 | INFO | ibmfl.aggregator.protohandler.proto_handler   | Timeout:None Time spent:125\n",
      "2022-11-18 21:56:37,872 | 1.0.7 | INFO | ibmfl.aggregator.protohandler.proto_handler   | Timeout:None Time spent:130\n",
      "2022-11-18 21:56:42,880 | 1.0.7 | INFO | ibmfl.aggregator.protohandler.proto_handler   | Timeout:None Time spent:135\n",
      "2022-11-18 21:56:47,884 | 1.0.7 | INFO | ibmfl.aggregator.protohandler.proto_handler   | Timeout:None Time spent:140\n",
      "2022-11-18 21:56:52,892 | 1.0.7 | INFO | ibmfl.aggregator.protohandler.proto_handler   | Timeout:None Time spent:145\n",
      "2022-11-18 21:56:57,900 | 1.0.7 | INFO | ibmfl.aggregator.protohandler.proto_handler   | Timeout:None Time spent:150\n",
      "2022-11-18 21:57:02,909 | 1.0.7 | INFO | ibmfl.aggregator.protohandler.proto_handler   | Timeout:None Time spent:155\n",
      "2022-11-18 21:57:07,916 | 1.0.7 | INFO | ibmfl.aggregator.protohandler.proto_handler   | Timeout:None Time spent:160\n",
      "2022-11-18 21:57:12,924 | 1.0.7 | INFO | ibmfl.aggregator.protohandler.proto_handler   | Timeout:None Time spent:165\n",
      "2022-11-18 21:57:17,928 | 1.0.7 | INFO | ibmfl.aggregator.protohandler.proto_handler   | Timeout:None Time spent:170\n",
      "2022-11-18 21:57:22,932 | 1.0.7 | INFO | ibmfl.aggregator.protohandler.proto_handler   | Timeout:None Time spent:175\n",
      "2022-11-18 21:57:24,581 | 1.0.7 | INFO | ibmfl.connection.flask_connection             | Request received for path :7\n",
      "2022-11-18 21:57:25,593 | 1.0.7 | INFO | ibmfl.connection.flask_connection             | Request received for path :7\n",
      "2022-11-18 21:57:25,609 | 1.0.7 | INFO | werkzeug                                      | 127.0.0.1 - - [18/Nov/2022 21:57:25] \"POST /7 HTTP/1.1\" 200 -\n",
      "2022-11-18 21:57:26,630 | 1.0.7 | INFO | werkzeug                                      | 127.0.0.1 - - [18/Nov/2022 21:57:26] \"POST /7 HTTP/1.1\" 200 -\n",
      "2022-11-18 21:57:27,940 | 1.0.7 | INFO | ibmfl.aggregator.protohandler.proto_handler   | Timeout:None Time spent:180\n",
      "2022-11-18 21:57:27,942 | 1.0.7 | INFO | ibmfl.aggregator.protohandler.proto_handler   | State: States.PROC_RSP\n",
      "2022-11-18 21:57:27,942 | 1.0.7 | INFO | ibmfl.aggregator.fusion.fusion_state_service  | Fusion state States.RCV_MODEL\n",
      "2022-11-18 21:57:27,942 | 1.0.7 | INFO | ibmfl.aggregator.fusion.fusion_state_service  | Fusion state States.AGGREGATING\n",
      "2022-11-18 21:57:27,943 | 1.0.7 | INFO | ibmfl.crypto.helayer.fhe                      | Start ciphertext fusing\n",
      "2022-11-18 21:57:29,027 | 1.0.7 | INFO | ibmfl.crypto.helayer.fhe                      | Ciphertext fusion done\n",
      "2022-11-18 21:57:29,065 | 1.0.7 | INFO | ibmfl.aggregator.fusion.crypto_iter_avg_fusion_handler | start_global_training: [round: 1] [model update: <ibmfl.model.model_update.ModelUpdate object at 0x7fadcc2b4340>]\n",
      "2022-11-18 21:57:29,066 | 1.0.7 | INFO | ibmfl.aggregator.fusion.fusion_state_service  | Fusion state States.SND_MODEL\n",
      "2022-11-18 21:57:29,068 | 1.0.7 | INFO | ibmfl.aggregator.protohandler.proto_handler   | State: States.SND_REQ\n",
      "2022-11-18 21:57:30,631 | 1.0.7 | INFO | ibmfl.aggregator.protohandler.proto_handler   | Total number of success responses :2\n",
      "2022-11-18 21:57:30,631 | 1.0.7 | INFO | ibmfl.aggregator.protohandler.proto_handler   | Number of parties queried:2\n",
      "2022-11-18 21:57:30,632 | 1.0.7 | INFO | ibmfl.aggregator.protohandler.proto_handler   | Number of registered parties:2\n",
      "2022-11-18 21:57:30,633 | 1.0.7 | INFO | ibmfl.aggregator.protohandler.proto_handler   | State: States.QUORUM_WAIT\n",
      "2022-11-18 21:57:35,636 | 1.0.7 | INFO | ibmfl.aggregator.protohandler.proto_handler   | Timeout:None Time spent:5\n",
      "2022-11-18 21:57:40,641 | 1.0.7 | INFO | ibmfl.aggregator.protohandler.proto_handler   | Timeout:None Time spent:10\n",
      "2022-11-18 21:57:45,645 | 1.0.7 | INFO | ibmfl.aggregator.protohandler.proto_handler   | Timeout:None Time spent:15\n",
      "2022-11-18 21:57:50,648 | 1.0.7 | INFO | ibmfl.aggregator.protohandler.proto_handler   | Timeout:None Time spent:20\n",
      "2022-11-18 21:57:55,675 | 1.0.7 | INFO | ibmfl.aggregator.protohandler.proto_handler   | Timeout:None Time spent:25\n",
      "2022-11-18 21:58:00,681 | 1.0.7 | INFO | ibmfl.aggregator.protohandler.proto_handler   | Timeout:None Time spent:30\n",
      "2022-11-18 21:58:05,685 | 1.0.7 | INFO | ibmfl.aggregator.protohandler.proto_handler   | Timeout:None Time spent:35\n",
      "2022-11-18 21:58:10,688 | 1.0.7 | INFO | ibmfl.aggregator.protohandler.proto_handler   | Timeout:None Time spent:40\n"
     ]
    },
    {
     "name": "stdout",
     "output_type": "stream",
     "text": [
      "2022-11-18 21:58:15,693 | 1.0.7 | INFO | ibmfl.aggregator.protohandler.proto_handler   | Timeout:None Time spent:45\n",
      "2022-11-18 21:58:20,697 | 1.0.7 | INFO | ibmfl.aggregator.protohandler.proto_handler   | Timeout:None Time spent:50\n",
      "2022-11-18 21:58:25,700 | 1.0.7 | INFO | ibmfl.aggregator.protohandler.proto_handler   | Timeout:None Time spent:55\n",
      "2022-11-18 21:58:30,705 | 1.0.7 | INFO | ibmfl.aggregator.protohandler.proto_handler   | Timeout:None Time spent:60\n",
      "2022-11-18 21:58:35,708 | 1.0.7 | INFO | ibmfl.aggregator.protohandler.proto_handler   | Timeout:None Time spent:65\n",
      "2022-11-18 21:58:40,713 | 1.0.7 | INFO | ibmfl.aggregator.protohandler.proto_handler   | Timeout:None Time spent:70\n",
      "2022-11-18 21:58:45,717 | 1.0.7 | INFO | ibmfl.aggregator.protohandler.proto_handler   | Timeout:None Time spent:75\n",
      "2022-11-18 21:58:50,721 | 1.0.7 | INFO | ibmfl.aggregator.protohandler.proto_handler   | Timeout:None Time spent:80\n",
      "2022-11-18 21:58:55,725 | 1.0.7 | INFO | ibmfl.aggregator.protohandler.proto_handler   | Timeout:None Time spent:85\n",
      "2022-11-18 21:59:00,728 | 1.0.7 | INFO | ibmfl.aggregator.protohandler.proto_handler   | Timeout:None Time spent:90\n",
      "2022-11-18 21:59:05,733 | 1.0.7 | INFO | ibmfl.aggregator.protohandler.proto_handler   | Timeout:None Time spent:95\n",
      "2022-11-18 21:59:10,736 | 1.0.7 | INFO | ibmfl.aggregator.protohandler.proto_handler   | Timeout:None Time spent:100\n",
      "2022-11-18 21:59:15,741 | 1.0.7 | INFO | ibmfl.aggregator.protohandler.proto_handler   | Timeout:None Time spent:105\n",
      "2022-11-18 21:59:20,745 | 1.0.7 | INFO | ibmfl.aggregator.protohandler.proto_handler   | Timeout:None Time spent:110\n",
      "2022-11-18 21:59:25,749 | 1.0.7 | INFO | ibmfl.aggregator.protohandler.proto_handler   | Timeout:None Time spent:115\n",
      "2022-11-18 21:59:30,752 | 1.0.7 | INFO | ibmfl.aggregator.protohandler.proto_handler   | Timeout:None Time spent:120\n",
      "2022-11-18 21:59:35,756 | 1.0.7 | INFO | ibmfl.aggregator.protohandler.proto_handler   | Timeout:None Time spent:125\n",
      "2022-11-18 21:59:40,760 | 1.0.7 | INFO | ibmfl.aggregator.protohandler.proto_handler   | Timeout:None Time spent:130\n",
      "2022-11-18 21:59:45,764 | 1.0.7 | INFO | ibmfl.aggregator.protohandler.proto_handler   | Timeout:None Time spent:135\n",
      "2022-11-18 21:59:50,768 | 1.0.7 | INFO | ibmfl.aggregator.protohandler.proto_handler   | Timeout:None Time spent:140\n",
      "2022-11-18 21:59:55,772 | 1.0.7 | INFO | ibmfl.aggregator.protohandler.proto_handler   | Timeout:None Time spent:145\n",
      "2022-11-18 22:00:00,776 | 1.0.7 | INFO | ibmfl.aggregator.protohandler.proto_handler   | Timeout:None Time spent:150\n",
      "2022-11-18 22:00:05,780 | 1.0.7 | INFO | ibmfl.aggregator.protohandler.proto_handler   | Timeout:None Time spent:155\n",
      "2022-11-18 22:00:10,785 | 1.0.7 | INFO | ibmfl.aggregator.protohandler.proto_handler   | Timeout:None Time spent:160\n",
      "2022-11-18 22:00:15,796 | 1.0.7 | INFO | ibmfl.aggregator.protohandler.proto_handler   | Timeout:None Time spent:165\n",
      "2022-11-18 22:00:20,800 | 1.0.7 | INFO | ibmfl.aggregator.protohandler.proto_handler   | Timeout:None Time spent:170\n",
      "2022-11-18 22:00:25,804 | 1.0.7 | INFO | ibmfl.aggregator.protohandler.proto_handler   | Timeout:None Time spent:175\n",
      "2022-11-18 22:00:30,001 | 1.0.7 | INFO | ibmfl.connection.flask_connection             | Request received for path :7\n",
      "2022-11-18 22:00:30,972 | 1.0.7 | INFO | ibmfl.aggregator.protohandler.proto_handler   | Timeout:None Time spent:180\n",
      "2022-11-18 22:00:32,036 | 1.0.7 | INFO | werkzeug                                      | 127.0.0.1 - - [18/Nov/2022 22:00:32] \"POST /7 HTTP/1.1\" 200 -\n",
      "2022-11-18 22:00:33,608 | 1.0.7 | INFO | ibmfl.connection.flask_connection             | Request received for path :7\n",
      "2022-11-18 22:00:34,637 | 1.0.7 | INFO | werkzeug                                      | 127.0.0.1 - - [18/Nov/2022 22:00:34] \"POST /7 HTTP/1.1\" 200 -\n",
      "2022-11-18 22:00:36,204 | 1.0.7 | INFO | ibmfl.aggregator.protohandler.proto_handler   | Timeout:None Time spent:186\n",
      "2022-11-18 22:00:36,206 | 1.0.7 | INFO | ibmfl.aggregator.protohandler.proto_handler   | State: States.PROC_RSP\n",
      "2022-11-18 22:00:36,206 | 1.0.7 | INFO | ibmfl.aggregator.fusion.fusion_state_service  | Fusion state States.RCV_MODEL\n",
      "2022-11-18 22:00:36,207 | 1.0.7 | INFO | ibmfl.aggregator.fusion.fusion_state_service  | Fusion state States.AGGREGATING\n",
      "2022-11-18 22:00:36,212 | 1.0.7 | INFO | ibmfl.crypto.helayer.fhe                      | Start ciphertext fusing\n",
      "2022-11-18 22:00:37,212 | 1.0.7 | INFO | ibmfl.crypto.helayer.fhe                      | Ciphertext fusion done\n",
      "2022-11-18 22:00:37,249 | 1.0.7 | INFO | ibmfl.aggregator.fusion.crypto_iter_avg_fusion_handler | start_global_training: [round: 2] [model update: <ibmfl.model.model_update.ModelUpdate object at 0x7fad7d785f70>]\n",
      "2022-11-18 22:00:37,254 | 1.0.7 | INFO | ibmfl.aggregator.fusion.fusion_state_service  | Fusion state States.SND_MODEL\n",
      "2022-11-18 22:00:37,285 | 1.0.7 | INFO | ibmfl.aggregator.protohandler.proto_handler   | State: States.SND_REQ\n",
      "2022-11-18 22:00:38,840 | 1.0.7 | INFO | ibmfl.aggregator.protohandler.proto_handler   | Total number of success responses :2\n",
      "2022-11-18 22:00:38,841 | 1.0.7 | INFO | ibmfl.aggregator.protohandler.proto_handler   | Number of parties queried:2\n",
      "2022-11-18 22:00:38,842 | 1.0.7 | INFO | ibmfl.aggregator.protohandler.proto_handler   | Number of registered parties:2\n",
      "2022-11-18 22:00:38,843 | 1.0.7 | INFO | ibmfl.aggregator.protohandler.proto_handler   | State: States.QUORUM_WAIT\n",
      "2022-11-18 22:00:43,852 | 1.0.7 | INFO | ibmfl.aggregator.protohandler.proto_handler   | Timeout:None Time spent:5\n",
      "2022-11-18 22:00:48,857 | 1.0.7 | INFO | ibmfl.aggregator.protohandler.proto_handler   | Timeout:None Time spent:10\n",
      "2022-11-18 22:00:53,861 | 1.0.7 | INFO | ibmfl.aggregator.protohandler.proto_handler   | Timeout:None Time spent:15\n",
      "2022-11-18 22:00:58,864 | 1.0.7 | INFO | ibmfl.aggregator.protohandler.proto_handler   | Timeout:None Time spent:20\n",
      "2022-11-18 22:01:03,868 | 1.0.7 | INFO | ibmfl.aggregator.protohandler.proto_handler   | Timeout:None Time spent:25\n",
      "2022-11-18 22:01:08,872 | 1.0.7 | INFO | ibmfl.aggregator.protohandler.proto_handler   | Timeout:None Time spent:30\n",
      "2022-11-18 22:01:13,876 | 1.0.7 | INFO | ibmfl.aggregator.protohandler.proto_handler   | Timeout:None Time spent:35\n",
      "2022-11-18 22:01:18,881 | 1.0.7 | INFO | ibmfl.aggregator.protohandler.proto_handler   | Timeout:None Time spent:40\n",
      "2022-11-18 22:01:23,884 | 1.0.7 | INFO | ibmfl.aggregator.protohandler.proto_handler   | Timeout:None Time spent:45\n",
      "2022-11-18 22:01:28,889 | 1.0.7 | INFO | ibmfl.aggregator.protohandler.proto_handler   | Timeout:None Time spent:50\n",
      "2022-11-18 22:01:33,892 | 1.0.7 | INFO | ibmfl.aggregator.protohandler.proto_handler   | Timeout:None Time spent:55\n",
      "2022-11-18 22:01:38,897 | 1.0.7 | INFO | ibmfl.aggregator.protohandler.proto_handler   | Timeout:None Time spent:60\n",
      "2022-11-18 22:01:43,901 | 1.0.7 | INFO | ibmfl.aggregator.protohandler.proto_handler   | Timeout:None Time spent:65\n",
      "2022-11-18 22:01:48,904 | 1.0.7 | INFO | ibmfl.aggregator.protohandler.proto_handler   | Timeout:None Time spent:70\n",
      "2022-11-18 22:01:53,909 | 1.0.7 | INFO | ibmfl.aggregator.protohandler.proto_handler   | Timeout:None Time spent:75\n",
      "2022-11-18 22:01:58,916 | 1.0.7 | INFO | ibmfl.aggregator.protohandler.proto_handler   | Timeout:None Time spent:80\n",
      "2022-11-18 22:02:03,920 | 1.0.7 | INFO | ibmfl.aggregator.protohandler.proto_handler   | Timeout:None Time spent:85\n",
      "2022-11-18 22:02:08,924 | 1.0.7 | INFO | ibmfl.aggregator.protohandler.proto_handler   | Timeout:None Time spent:90\n",
      "2022-11-18 22:02:13,928 | 1.0.7 | INFO | ibmfl.aggregator.protohandler.proto_handler   | Timeout:None Time spent:95\n",
      "2022-11-18 22:02:18,932 | 1.0.7 | INFO | ibmfl.aggregator.protohandler.proto_handler   | Timeout:None Time spent:100\n",
      "2022-11-18 22:02:23,936 | 1.0.7 | INFO | ibmfl.aggregator.protohandler.proto_handler   | Timeout:None Time spent:105\n",
      "2022-11-18 22:02:28,940 | 1.0.7 | INFO | ibmfl.aggregator.protohandler.proto_handler   | Timeout:None Time spent:110\n",
      "2022-11-18 22:02:33,945 | 1.0.7 | INFO | ibmfl.aggregator.protohandler.proto_handler   | Timeout:None Time spent:115\n",
      "2022-11-18 22:02:38,949 | 1.0.7 | INFO | ibmfl.aggregator.protohandler.proto_handler   | Timeout:None Time spent:120\n"
     ]
    },
    {
     "name": "stdout",
     "output_type": "stream",
     "text": [
      "2022-11-18 22:02:43,952 | 1.0.7 | INFO | ibmfl.aggregator.protohandler.proto_handler   | Timeout:None Time spent:125\n",
      "2022-11-18 22:02:48,958 | 1.0.7 | INFO | ibmfl.aggregator.protohandler.proto_handler   | Timeout:None Time spent:130\n",
      "2022-11-18 22:02:53,964 | 1.0.7 | INFO | ibmfl.aggregator.protohandler.proto_handler   | Timeout:None Time spent:135\n",
      "2022-11-18 22:02:58,968 | 1.0.7 | INFO | ibmfl.aggregator.protohandler.proto_handler   | Timeout:None Time spent:140\n",
      "2022-11-18 22:03:03,972 | 1.0.7 | INFO | ibmfl.aggregator.protohandler.proto_handler   | Timeout:None Time spent:145\n",
      "2022-11-18 22:03:08,976 | 1.0.7 | INFO | ibmfl.aggregator.protohandler.proto_handler   | Timeout:None Time spent:150\n",
      "2022-11-18 22:03:13,980 | 1.0.7 | INFO | ibmfl.aggregator.protohandler.proto_handler   | Timeout:None Time spent:155\n",
      "2022-11-18 22:03:18,985 | 1.0.7 | INFO | ibmfl.aggregator.protohandler.proto_handler   | Timeout:None Time spent:160\n",
      "2022-11-18 22:03:23,992 | 1.0.7 | INFO | ibmfl.aggregator.protohandler.proto_handler   | Timeout:None Time spent:165\n",
      "2022-11-18 22:03:29,000 | 1.0.7 | INFO | ibmfl.aggregator.protohandler.proto_handler   | Timeout:None Time spent:170\n",
      "2022-11-18 22:03:34,004 | 1.0.7 | INFO | ibmfl.aggregator.protohandler.proto_handler   | Timeout:None Time spent:175\n",
      "2022-11-18 22:03:38,466 | 1.0.7 | INFO | ibmfl.connection.flask_connection             | Request received for path :7\n",
      "2022-11-18 22:03:39,316 | 1.0.7 | INFO | ibmfl.aggregator.protohandler.proto_handler   | Timeout:None Time spent:180\n",
      "2022-11-18 22:03:39,995 | 1.0.7 | INFO | werkzeug                                      | 127.0.0.1 - - [18/Nov/2022 22:03:39] \"POST /7 HTTP/1.1\" 200 -\n",
      "2022-11-18 22:03:40,517 | 1.0.7 | INFO | ibmfl.connection.flask_connection             | Request received for path :7\n",
      "2022-11-18 22:03:41,541 | 1.0.7 | INFO | werkzeug                                      | 127.0.0.1 - - [18/Nov/2022 22:03:41] \"POST /7 HTTP/1.1\" 200 -\n",
      "2022-11-18 22:03:44,422 | 1.0.7 | INFO | ibmfl.aggregator.protohandler.proto_handler   | Timeout:None Time spent:186\n",
      "2022-11-18 22:03:44,424 | 1.0.7 | INFO | ibmfl.aggregator.protohandler.proto_handler   | State: States.PROC_RSP\n",
      "2022-11-18 22:03:44,424 | 1.0.7 | INFO | ibmfl.aggregator.fusion.fusion_state_service  | Fusion state States.RCV_MODEL\n",
      "2022-11-18 22:03:44,425 | 1.0.7 | INFO | ibmfl.aggregator.fusion.fusion_state_service  | Fusion state States.AGGREGATING\n",
      "2022-11-18 22:03:44,430 | 1.0.7 | INFO | ibmfl.crypto.helayer.fhe                      | Start ciphertext fusing\n",
      "2022-11-18 22:03:45,365 | 1.0.7 | INFO | ibmfl.crypto.helayer.fhe                      | Ciphertext fusion done\n",
      "2022-11-18 22:03:45,374 | 1.0.7 | INFO | ibmfl.aggregator.fusion.iter_avg_fusion_handler | Reached maximum global rounds. Finish training :) \n",
      "2022-11-18 22:03:45,387 | 1.0.7 | INFO | ibmfl.aggregator.aggregator                   | Finished Global Training\n"
     ]
    },
    {
     "data": {
      "text/plain": [
       "True"
      ]
     },
     "execution_count": 7,
     "metadata": {},
     "output_type": "execute_result"
    }
   ],
   "source": [
    "\"\"\"\n",
    "#1 Initialize the metrics collector variables\n",
    "\"\"\"\n",
    "num_parties = agg_config['hyperparams']['global']['num_parties']\n",
    "eval_party_accuracy = [[] for _ in range(num_parties)]\n",
    "iterations = [[] for _ in range(num_parties)]\n",
    "\n",
    "\"\"\"\n",
    "#2 Register handler for metrics collector\n",
    "\"\"\"\n",
    "def get_metrics(metrics):\n",
    "    keys = list(metrics['party'].keys())\n",
    "    keys.sort()\n",
    "    for i in range(len(keys)):\n",
    "      eval_party_accuracy[i].append(metrics['party'][keys[i]]['accuracy_score'])\n",
    "      iterations[i].append(metrics['fusion']['curr_round']*agg_config['hyperparams']['local']['training']['epochs'])\n",
    "      \n",
    "mh = aggregator.fusion.metrics_manager\n",
    "mh.register(get_metrics)\n",
    "\n",
    "\n",
    "\"\"\"\n",
    "#3 start the training\n",
    "\"\"\"\n",
    "aggregator.start_training() "
   ]
  },
  {
   "cell_type": "markdown",
   "metadata": {},
   "source": [
    "## Visualize Results <a name=\"Visualize-Results\"></a>"
   ]
  },
  {
   "cell_type": "code",
   "execution_count": 8,
   "metadata": {},
   "outputs": [
    {
     "data": {
      "image/png": "[encoded data removed]",
      "text/plain": [
       "<Figure size 1440x720 with 1 Axes>"
      ]
     },
     "metadata": {
      "needs_background": "light"
     },
     "output_type": "display_data"
    }
   ],
   "source": [
    "\"\"\"\n",
    "#1 define a method to plot a smooth cure\n",
    "\"\"\"\n",
    "from matplotlib import pyplot as plt\n",
    "from scipy.interpolate import make_interp_spline, BSpline\n",
    "import numpy as np\n",
    "\n",
    "def smooth_curve(xaxis, yaxis):\n",
    "   xnew = np.linspace(min(xaxis), max(xaxis), len(xaxis)*50) \n",
    "\n",
    "   spl = make_interp_spline(xaxis, yaxis, k=1)  # type: BSpline\n",
    "   power_smooth = spl(xnew)\n",
    "   return xnew, power_smooth \n",
    "\n",
    "f = plt.figure(figsize=(20,10))\n",
    "plt.subplot(2, 2, 1)\n",
    "\n",
    "num_parties = agg_config['hyperparams']['global']['num_parties']\n",
    "\n",
    "\n",
    "\"\"\"\n",
    "#2 plot the evaluation curve\n",
    "\"\"\"\n",
    "for i in range(num_parties):\n",
    "    eval_party_xaxis, eval_party_yaxis = smooth_curve(iterations[i], eval_party_accuracy[i])\n",
    "    line1, = plt.plot(eval_party_xaxis, eval_party_yaxis)\n",
    "    line1.set_label('party'+str(i+1))\n",
    "plt.title('Evaluation Plot')\n",
    "plt.ylabel('Accuracy')\n",
    "plt.xlabel('Epochs')\n",
    "plt.legend()\n",
    "plt.show()"
   ]
  },
  {
   "cell_type": "markdown",
   "metadata": {},
   "source": [
    "## Visualize Parties' Training\n",
    "Please go to Parties' notebooks to visalize summary of Parties' training."
   ]
  },
  {
   "cell_type": "markdown",
   "metadata": {},
   "source": [
    "## Shut Down\n",
    "\n",
    "Invoke the `stop()` method on each of the network participants to terminate the service."
   ]
  },
  {
   "cell_type": "code",
   "execution_count": 9,
   "metadata": {},
   "outputs": [
    {
     "name": "stdout",
     "output_type": "stream",
     "text": [
      "2022-11-18 22:05:17,363 | 1.0.7 | INFO | ibmfl.aggregator.protohandler.proto_handler   | State: States.SND_REQ\n",
      "2022-11-18 22:05:17,372 | 1.0.7 | WARNING | ibmfl.aggregator.protohandler.proto_handler   | Party dropped out: Error occurred while sending request to party: <ibmfl.aggregator.party_connection.PartyConnection object at 0x7fad7e7e3190> - HTTPConnectionPool(host='127.0.0.1', port=8085): Max retries exceeded with url: /14 (Caused by NewConnectionError('<urllib3.connection.HTTPConnection object at 0x7fad8c7484c0>: Failed to establish a new connection: [Errno 111] Connection refused'))\n",
      "2022-11-18 22:05:17,373 | 1.0.7 | WARNING | ibmfl.aggregator.protohandler.proto_handler   | Party dropped out: Error occurred while sending request to party: <ibmfl.aggregator.party_connection.PartyConnection object at 0x7fad7e7e3f40> - HTTPConnectionPool(host='127.0.0.1', port=8086): Max retries exceeded with url: /14 (Caused by NewConnectionError('<urllib3.connection.HTTPConnection object at 0x7fad7c0ee670>: Failed to establish a new connection: [Errno 111] Connection refused'))\n",
      "2022-11-18 22:05:17,375 | 1.0.7 | INFO | ibmfl.aggregator.protohandler.proto_handler   | Total number of success responses :0\n",
      "2022-11-18 22:05:17,375 | 1.0.7 | INFO | ibmfl.aggregator.protohandler.proto_handler   | Number of parties queried:2\n",
      "2022-11-18 22:05:17,376 | 1.0.7 | INFO | ibmfl.aggregator.protohandler.proto_handler   | Number of registered parties:2\n",
      "2022-11-18 22:05:17,377 | 1.0.7 | INFO | ibmfl.connection.flask_connection             | Stopping Receiver and Sender\n",
      "2022-11-18 22:05:17,380 | 1.0.7 | INFO | werkzeug                                      | 127.0.0.1 - - [18/Nov/2022 22:05:17] \"POST /shutdown HTTP/1.1\" 200 -\n",
      "2022-11-18 22:05:17,382 | 1.0.7 | INFO | ibmfl.aggregator.aggregator                   | Aggregator stop successful\n"
     ]
    },
    {
     "name": "stderr",
     "output_type": "stream",
     "text": [
      "/home/swanand.kadhe/git-repos/FFL/ibmfl/connection/flask_connection.py:248: UserWarning: The 'environ['werkzeug.server.shutdown']' function is deprecated and will be removed in Werkzeug 2.1.\n",
      "  func()\n"
     ]
    }
   ],
   "source": [
    "aggregator.stop()"
   ]
  }
 ],
 "metadata": {
  "kernelspec": {
   "display_name": "Python 3.9.15 64-bit",
   "language": "python",
   "name": "python3"
  },
  "language_info": {
   "codemirror_mode": {
    "name": "ipython",
    "version": 3
   },
   "file_extension": ".py",
   "mimetype": "text/x-python",
   "name": "python",
   "nbconvert_exporter": "python",
   "pygments_lexer": "ipython3",
   "version": "3.9.15"
  },
  "vscode": {
   "interpreter": {
    "hash": "397704579725e15f5c7cb49fe5f0341eb7531c82d19f2c29d197e8b64ab5776b"
   }
  }
 },
 "nbformat": 4,
 "nbformat_minor": 2
}
