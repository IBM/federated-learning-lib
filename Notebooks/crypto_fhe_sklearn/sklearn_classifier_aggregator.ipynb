{
 "cells": [
  {
   "cell_type": "markdown",
   "metadata": {},
   "source": [
    "# Adult Classifier with HELayers (HE) - Secure Aggregation in IBM FL"
   ]
  },
  {
   "cell_type": "markdown",
   "metadata": {},
   "source": [
    "## Outline:\n",
    "- [Add conda environment to Jupyter Notebook](#setup)\n",
    "- [Federated Learning(FL)](#intro)\n",
    "- [Why secure aggregation techniques are necessary?](#threats)\n",
    "- [How does IBM FL Work with HE?](#HE-FL)\n",
    "- [Aggregator](#Aggregator)\n",
    "    - [Aggregator Configuration](#Aggregator-Configuration)\n",
    "    - [Running the Aggregator](#Running-the-Aggregator)\n",
    "- [Starting Parties](#Starting-Parties)\n",
    "- [Training and Evaluation](#Training-and-Evaluation)\n",
    "- [Visualize Results](#Visualize-Results)\n",
    "- [Shut Down](#Shut-Down)"
   ]
  },
  {
   "cell_type": "markdown",
   "metadata": {},
   "source": [
    "## Add conda environment to Jupyter Notebook <a name=\"setup\"></a>\n",
    "\n",
    "Please ensure that you have activated the `conda` environment following the instructions in the project README.\n",
    "\n",
    "Once done, run the following commands in your terminal to install your conda environment into the Jupyter Notebook:\n",
    "\n",
    "1. Once you have activated the conda environment, install the `ipykernel` package: `conda install -c anaconda ipykernel`\n",
    "\n",
    "2. Next, install the `ipykernel` module within Jupyter Notebook: `python -m ipykernel install --user --name=<conda_env>`\n",
    "\n",
    "3. Please install the `matplotlib` package for your conda environment.\n",
    "\n",
    "4. Finally, restart the jupyter notebook once done. Ensure that you are running this Notebook from `<project_path>/Notebooks`, where project_path is the directory where the IBMFL repository was cloned.\n",
    "\n",
    "When the Notebook is up and running it may prompt you to choose the kernel. Use the drop down to choose the kernel name same as that chosen when running `conda activate <conda_env>`. If no prompt shows up, you can change the kernel by clicking _Kernel_ > _Change kernel_ > _`<conda_env>`_."
   ]
  },
  {
   "cell_type": "markdown",
   "metadata": {},
   "source": [
    "## Federated Learning (FL) <a name=\"intro\"></a>\n",
    "\n",
    "**Federated Learning (FL)** is a distributed machine learning process in which each participant node (or party) retains their data locally and interacts with  other participants via a learning protocol. \n",
    "One main driver behind FL is the need to not share data with others  due to privacy and confidentially concerns.\n",
    "Another driver is to improve the speed of training a machine learning model by leveraging other participants' training processes.\n",
    "\n",
    "Setting up such a federated learning system requires setting up a communication infrastructure, converting machine learning algorithms to federated settings and in some cases knowing about the intricacies of security and privacy enabling techniques such as differential privacy and multi-party computation. \n",
    "\n",
    "In this Notebook we use [IBM FL](https://github.com/IBM/federated-learning-lib) together with Homomorphic Encryption to have multiple parties train a classifier to recognise handwritten digits in the [MNIST dataset](http://yann.lecun.com/exdb/mnist/). \n",
    "\n",
    "For a more technical dive into IBM FL, refer the whitepaper [here](https://arxiv.org/pdf/2007.10987.pdf)."
   ]
  },
  {
   "cell_type": "markdown",
   "metadata": {},
   "source": [
    "In the following cells, we set up each of the components of a Federated Learning network (See Figure below) wherein all involved parties aid in training their respective local cartpoles to arrive at the upright pendulum state. In this notebook we default to 2 parties, but depending on your resources you may use more parties.\n",
    "\n",
    "<img style=\"display=block; margin:auto\" src=\"../images/FL_Network.png\" width=\"720\"/>\n",
    "<p style=\"text-align: center\">Modified from Image Source: <a href=\"https://arxiv.org/pdf/2007.10987.pdf\">IBM Federated Learning: An Enterprise FrameworkWhite Paper V0.1</a></p>"
   ]
  },
  {
   "cell_type": "markdown",
   "metadata": {},
   "source": [
    "## Why secure aggregation techniques are necessary? <a name=\"threats\"></a>\n",
    "\n",
    "Federated Learning inherently provides some level of privacy because parties do not need to share their raw training data. However, some federations have stringent privacy requirements or are subject to regulation that may dictate that the system needs to add additional protection mechanisms to prevent inference of private information. <!--This raises risks for inference attacks on the training data from party updates. simply keeping the data at the party side is not sufficient for protecting privacy, since updates from a party may leak some information. In untrusted environments adversaries may try to infer information by analyzing other parties' replies.-->\n",
    "\n",
    "<img style=\"display=block; margin:auto\" src=\"../images/attack_surface.png\" width=\"520\"/>\n",
    "<p style=\"text-align: center\">Inferences over replies</p>\n",
    "\n",
    "One inference attack to recover original training images from gradients exachanged between the aggregator and parties is shown below.\n",
    "\n",
    "![SegmentLocal](../images/inference.gif \"segment\")\n",
    "<p style=\"text-align: center\">Taken from <a href=\"https://github.com/mit-han-lab/dlg\"> Deep Leakage From Gradients     \n",
    "</a></p>\n",
    "\n",
    "Homomorphic Encryption can help us reduce the risk by hiding the final model from the aggregator and only revealing the aggregated version to the parties. Homomorphic Encryption is a crypto system that allows an entity to perform computations on encrypted data without decrypting it.  In other words, it enables the computation of a function over encrypted inputs and produces the result in encrypted form.  \n",
    "\n",
    "<img style=\"display=block; margin:auto\" src=\"../images/FHE_basics_2.png\" width=\"720\"/>\n",
    "<p style=\"text-align: center\">Homomorphic Encryption in Federated Learning</p>"
   ]
  },
  {
   "cell_type": "markdown",
   "metadata": {},
   "source": [
    "## How does IBM FL work with HE? <a name=\"HE-FL\"></a>\n",
    "\n",
    "IBM FL uses the *[Cheon-Kim-Kim-Song (CKKS) scheme](https://eprint.iacr.org/2016/421.pdf)* for Homomorphic Encryption. HE functionalities are implemented using *[IBM HElayers software development kit (SDK)](https://github.com/IBM/helayers)*, and in particular, its *[PyHElayers](https://github.com/IBM/helayers#pyhelayers-python-package)* Python package. You can install `pyhelayers` in your conda environment by running `pip install pyhelayers`. Note that `pyhelayers` is currently supported only on Linux (x86 and IBM Z).\n",
    "\n",
    "<img style=\"display=block; margin:auto\" src=\"../images/ibmfl_helayer.png\" width=\"512\"/>\n",
    "<p style=\"text-align: center\">IBM FL library integrated with HELayers </p>\n",
    "\n",
    "After enabling IBM FL with HE, the aggregator does not see model updates in plaintext. The aggregator sees encrypted model updates and performs aggregation under encryption, as shown in the figure below. \n",
    "\n",
    "![SegmentLocal](../images/FL_FHE_v3.gif \"segment\")\n",
    "<p style=\"text-align: center\">FL Training with HE</a></p>"
   ]
  },
  {
   "cell_type": "markdown",
   "metadata": {},
   "source": [
    "### Getting things ready\n",
    "We begin by setting the number of parties that will participate in the federated learning run and splitting up the data among them."
   ]
  },
  {
   "cell_type": "code",
   "execution_count": 1,
   "metadata": {},
   "outputs": [],
   "source": [
    "import sys\n",
    "sys.path.append('../..')\n",
    "import os\n",
    "os.chdir(\"../..\")\n",
    "\n",
    "num_parties = 2  ## number of participating parties\n",
    "dataset = 'adult'"
   ]
  },
  {
   "cell_type": "markdown",
   "metadata": {},
   "source": [
    "We use `examples/generate_data.py` to split the dataset into files for each party. \n",
    "\n",
    "The script allows specifying the number of parties as well as the dataset to use (from several supported datasets: _mnist_, _femnist_, _cifar10_ and many others). \n",
    "\n",
    "The `-pp` argument states how many data points to choose per party. If the option `--stratify` is given, the library stratifies the data proportionally according to the source distribution. If you want to run this notebook in different machines, you can assign samples for each party locally. Then, we define the neural network definition."
   ]
  },
  {
   "cell_type": "code",
   "execution_count": 2,
   "metadata": {},
   "outputs": [
    {
     "name": "stdout",
     "output_type": "stream",
     "text": [
      "Finished! :) Data saved in examples/data/adult/random\n"
     ]
    }
   ],
   "source": [
    "%run examples/generate_data.py -n $num_parties -d $dataset -pp 200 "
   ]
  },
  {
   "cell_type": "markdown",
   "metadata": {},
   "source": [
    "Generate a pytorch model definition file using the below function `save_model_config`. Please note that parties data and the model file needs to be copied to the parties if you launch parties on different nodes."
   ]
  },
  {
   "cell_type": "code",
   "execution_count": 3,
   "metadata": {},
   "outputs": [
    {
     "name": "stdout",
     "output_type": "stream",
     "text": [
      "Model file is generated successfully\n"
     ]
    }
   ],
   "source": [
    "import os\n",
    "import joblib\n",
    "from sklearn.linear_model import SGDClassifier\n",
    "\n",
    "model_path = 'examples/configs/sklearn_logclassification'\n",
    "\n",
    "model = SGDClassifier(loss='log', penalty='l2')\n",
    "if not os.path.exists(model_path):\n",
    "    os.makedirs(model_path)\n",
    "fname = os.path.join(model_path, 'model_architecture.pickle')\n",
    "with open(fname, 'wb') as f:\n",
    "    joblib.dump(model, f)\n",
    "print(\"Model file is generated successfully\")"
   ]
  },
  {
   "cell_type": "markdown",
   "metadata": {},
   "source": [
    "#### Set up Homomorphic Encryption (HE) Keys\n",
    "\n",
    "The HE crypto system uses a public key and a secret key. As shown in the figure, secure aggregation using the HE crypto system requires the aggregator to obtain the public key and the parties to share the private key. In what follows, we will go into detail into how to generate the HE keys. "
   ]
  },
  {
   "cell_type": "markdown",
   "metadata": {},
   "source": [
    "<img style=\"display=block; margin:auto\" src=\"../images/FL_HE_keys.png\" width=\"512\"/>\n",
    "<p style=\"text-align: center\">Parties share an HE private key, and share with the aggregator an HE public key.</p>"
   ]
  },
  {
   "cell_type": "markdown",
   "metadata": {},
   "source": [
    "The easiest (and a recommended) way to generate HE keys is to run the `generate_store_HE_keys()` method that takes the following arguments:\n",
    "\n",
    "- `path_for_public_key`: Path at which the public key file of HELayers will be stored.\n",
    "- `path_for_secret_key`: Path at which the secret key file of HELayers will be stored.\n",
    "- `HE_parames` (optional): Dictionary specifying the parametes of Homomorphic Encryption (HE). When using the default parameters, this argument is not required.\n",
    "\n",
    "In HE-based aggregation in IBM-FL, all parties will have the access to the secret key. The aggregator will not have access to the secret key. It is worth noting that the secret key is used for decryption. Any entity that has an access to the secret key can decrypt the model updates from any party, and it is important that the parties protect the secret key.  \n",
    "\n",
    "The public key file, often called as the context file, has the public key (along with some other parameters) required to perform homomorphic operations. In HE-based aggregation, the aggregator will have only the public key context file. Since the aggregator does not have the secret key, it cannot learn anything from the ciphertexts it receives from the parties. The aggregator performs aggregation under encryption (using the public key context file).\n",
    "\n",
    "For details on HE parameters and how to set up custom parameters, see the tutorial on *Key Setup* (`Notebooks/cryto_fhe_key_setup.ipynb`)."
   ]
  },
  {
   "cell_type": "code",
   "execution_count": null,
   "metadata": {},
   "outputs": [],
   "source": [
    "from ibmfl.crypto.generate_store_HE_keys import generate_store_HE_keys\n",
    "\n",
    "# Path for public key context file\n",
    "ctx_file = os.path.join(os.getcwd(), 'Notebooks/fhe.context')\n",
    "# Path for secret key context file\n",
    "key_file = os.path.join(os.getcwd(), 'Notebooks/fhe.key')\n",
    "\n",
    "generate_store_HE_keys(path_for_public_key = ctx_file, path_for_secret_key = key_file)"
   ]
  },
  {
   "cell_type": "markdown",
   "metadata": {},
   "source": [
    "## Aggregator <a name=\"aggregator\"></a>\n",
    "\n",
    "Aggregator coordinates the overall process, communicates with the parties and integrates the results of the training process. This integration of results is done using the _Fusion Algorithm_.\n",
    "\n",
    "A fusion algorithm queries the registered parties to carry out the federated learning process. The queries sent vary according to the model/algorithm type.  In return, parties send their reply as a model update object, and these model updates are then aggregated according to the specified Fusion Algorithm, specified via a `Fusion Handler` class. \n",
    "\n",
    "To take a look at the supported fusion algorithms, refer the IBM FL tutorial page [here](https://github.com/IBM/federated-learning-lib/blob/main/README.md#supported-functionality)."
   ]
  },
  {
   "cell_type": "markdown",
   "metadata": {},
   "source": [
    "### Aggregator Configuration\n",
    "\n",
    "We discuss the various configuration parameters for the Aggregator [here.](https://github.com/IBM/federated-learning-lib/blob/main/docs/tutorials/configure_fl.md#the-aggregators-configuration-file)\n",
    "\n",
    "Given below is an example of the aggregator's configuration file. In this example, the aggregator does not specify a data file or maintain a global model. Hence, during the federated learning process, it only keeps track of the current model parameters. \n",
    "\n",
    "However, it is possible that the aggregator also has data for testing purposes and maintains a global model. When this is the case, one needs to add `data` and `model` sections in the configuration file."
   ]
  },
  {
   "cell_type": "markdown",
   "metadata": {},
   "source": [
    "<img style=\"display=block; margin:auto\" src=\"../images/FHE_stacks.png\" width=\"680\"/>\n",
    "<p style=\"text-align: center\">Aggregator and Party side configurations</a></p>"
   ]
  },
  {
   "cell_type": "code",
   "execution_count": 5,
   "metadata": {},
   "outputs": [],
   "source": [
    "agg_config = {\n",
    "    'connection': {\n",
    "        'info': {\n",
    "            'ip': '127.0.0.1',\n",
    "            'port': 5000,\n",
    "            'tls_config': {\n",
    "                'enable': 'false'\n",
    "            }\n",
    "        },\n",
    "        'name': 'FlaskConnection',\n",
    "        'path': 'ibmfl.connection.flask_connection',\n",
    "        'sync': 'False'\n",
    "    },\n",
    "    'data': {\n",
    "        'info': {\n",
    "            'txt_file': 'examples/datasets/adult.data'\n",
    "        },\n",
    "        'name': 'AdultSklearnDataHandler',\n",
    "        'path': 'ibmfl.util.data_handlers.adult_sklearn_data_handler'\n",
    "    },\n",
    "    'fusion': {\n",
    "        'name': 'CryptoIterAvgFusionHandler',\n",
    "        'path': 'ibmfl.aggregator.fusion.crypto_iter_avg_fusion_handler',\n",
    "        'info': {\n",
    "            'crypto': {\n",
    "                'name': 'CryptoFHE',\n",
    "                'path': 'ibmfl.crypto.helayer.fhe',\n",
    "                'key_manager': {\n",
    "                    'name': 'LocalDiskKeyManager',\n",
    "                    'path': 'ibmfl.crypto.keys_mng.crypto_key_mng_dsk',\n",
    "                    'key_mgr_info': {\n",
    "                       'files': {\n",
    "                            'context': ctx_file\n",
    "                        }\n",
    "                    }\n",
    "                }\n",
    "            }\n",
    "        }\n",
    "    },\n",
    "    'hyperparams': {\n",
    "        'global': {\n",
    "            'num_parties': num_parties,\n",
    "            'perc_quorum': 1,\n",
    "            'rounds': 5,\n",
    "            'termination_accuracy': 0.9\n",
    "        },\n",
    "        'local': {\n",
    "            'training': {\n",
    "                'max_iter': 2\n",
    "            }\n",
    "        }\n",
    "    },\n",
    "    'protocol_handler': {\n",
    "        'name': 'ProtoHandler',\n",
    "        'path': 'ibmfl.aggregator.protohandler.proto_handler'\n",
    "    }\n",
    "}"
   ]
  },
  {
   "cell_type": "markdown",
   "metadata": {},
   "source": [
    "### Running the Aggregator\n",
    "Next we pass the configuration parameters set in the previous cell to instantiate the `Aggregator` object. Finally, we `start()` the Aggregator process."
   ]
  },
  {
   "cell_type": "code",
   "execution_count": 6,
   "metadata": {},
   "outputs": [
    {
     "name": "stdout",
     "output_type": "stream",
     "text": [
      "2022-11-18 22:28:20,383 | 1.0.7 | INFO | ibmfl.util.config                             | Getting Aggregator details from arguments.\n",
      "2022-11-18 22:28:20,386 | 1.0.7 | INFO | ibmfl.util.config                             | No metrics recorder config provided for this setup.\n",
      "2022-11-18 22:28:20,387 | 1.0.7 | INFO | ibmfl.util.config                             | No model config provided for this setup.\n",
      "2022-11-18 22:28:20,480 | 1.0.7 | INFO | ibmfl.util.config                             | No metrics config provided for this setup.\n",
      "2022-11-18 22:28:20,481 | 1.0.7 | INFO | ibmfl.util.config                             | No evidencia recordeer config provided for this setup.\n",
      "2022-11-18 22:28:20,482 | 1.0.7 | INFO | ibmfl.util.data_handlers.adult_sklearn_data_handler | Loaded training data from examples/datasets/adult.data\n"
     ]
    },
    {
     "name": "stderr",
     "output_type": "stream",
     "text": [
      "/home/swanand.kadhe/git-repos/FFL/ibmfl/util/data_handlers/adult_sklearn_data_handler.py:156: SettingWithCopyWarning: \n",
      "A value is trying to be set on a copy of a slice from a DataFrame.\n",
      "Try using .loc[row_indexer,col_indexer] = value instead\n",
      "\n",
      "See the caveats in the documentation: https://pandas.pydata.org/pandas-docs/stable/user_guide/indexing.html#returning-a-view-versus-a-copy\n",
      "  training_dataset['sex'] = training_dataset['sex'].map({' Female': 0, ' Male': 1})\n",
      "/home/swanand.kadhe/git-repos/FFL/ibmfl/util/data_handlers/adult_sklearn_data_handler.py:157: SettingWithCopyWarning: \n",
      "A value is trying to be set on a copy of a slice from a DataFrame.\n",
      "Try using .loc[row_indexer,col_indexer] = value instead\n",
      "\n",
      "See the caveats in the documentation: https://pandas.pydata.org/pandas-docs/stable/user_guide/indexing.html#returning-a-view-versus-a-copy\n",
      "  training_dataset['race'] = training_dataset['race'].map(\n",
      "/home/swanand.kadhe/git-repos/FFL/ibmfl/util/data_handlers/adult_sklearn_data_handler.py:161: SettingWithCopyWarning: \n",
      "A value is trying to be set on a copy of a slice from a DataFrame.\n",
      "Try using .loc[row_indexer,col_indexer] = value instead\n",
      "\n",
      "See the caveats in the documentation: https://pandas.pydata.org/pandas-docs/stable/user_guide/indexing.html#returning-a-view-versus-a-copy\n",
      "  training_dataset['class'] = training_dataset['class'].map({' <=50K': 0, ' >50K': 1})\n",
      "/home/swanand.kadhe/git-repos/FFL/ibmfl/util/data_handlers/adult_sklearn_data_handler.py:163: SettingWithCopyWarning: \n",
      "A value is trying to be set on a copy of a slice from a DataFrame.\n",
      "Try using .loc[row_indexer,col_indexer] = value instead\n",
      "\n",
      "See the caveats in the documentation: https://pandas.pydata.org/pandas-docs/stable/user_guide/indexing.html#returning-a-view-versus-a-copy\n",
      "  training_dataset['age'] = training_dataset['age'].astype(int)\n",
      "/home/swanand.kadhe/git-repos/FFL/ibmfl/util/data_handlers/adult_sklearn_data_handler.py:164: SettingWithCopyWarning: \n",
      "A value is trying to be set on a copy of a slice from a DataFrame.\n",
      "Try using .loc[row_indexer,col_indexer] = value instead\n",
      "\n",
      "See the caveats in the documentation: https://pandas.pydata.org/pandas-docs/stable/user_guide/indexing.html#returning-a-view-versus-a-copy\n",
      "  training_dataset['education-num'] = training_dataset['education-num'].astype(int)\n",
      "/home/swanand.kadhe/git-repos/FFL/ibmfl/util/data_handlers/adult_sklearn_data_handler.py:169: SettingWithCopyWarning: \n",
      "A value is trying to be set on a copy of a slice from a DataFrame.\n",
      "Try using .loc[row_indexer,col_indexer] = value instead\n",
      "\n",
      "See the caveats in the documentation: https://pandas.pydata.org/pandas-docs/stable/user_guide/indexing.html#returning-a-view-versus-a-copy\n",
      "  training_dataset['age' + str(i)] = 0\n",
      "/home/swanand.kadhe/git-repos/FFL/ibmfl/util/data_handlers/adult_sklearn_data_handler.py:169: SettingWithCopyWarning: \n",
      "A value is trying to be set on a copy of a slice from a DataFrame.\n",
      "Try using .loc[row_indexer,col_indexer] = value instead\n",
      "\n",
      "See the caveats in the documentation: https://pandas.pydata.org/pandas-docs/stable/user_guide/indexing.html#returning-a-view-versus-a-copy\n",
      "  training_dataset['age' + str(i)] = 0\n",
      "/home/swanand.kadhe/git-repos/FFL/ibmfl/util/data_handlers/adult_sklearn_data_handler.py:169: SettingWithCopyWarning: \n",
      "A value is trying to be set on a copy of a slice from a DataFrame.\n",
      "Try using .loc[row_indexer,col_indexer] = value instead\n",
      "\n",
      "See the caveats in the documentation: https://pandas.pydata.org/pandas-docs/stable/user_guide/indexing.html#returning-a-view-versus-a-copy\n",
      "  training_dataset['age' + str(i)] = 0\n",
      "/home/swanand.kadhe/git-repos/FFL/ibmfl/util/data_handlers/adult_sklearn_data_handler.py:169: SettingWithCopyWarning: \n",
      "A value is trying to be set on a copy of a slice from a DataFrame.\n",
      "Try using .loc[row_indexer,col_indexer] = value instead\n",
      "\n",
      "See the caveats in the documentation: https://pandas.pydata.org/pandas-docs/stable/user_guide/indexing.html#returning-a-view-versus-a-copy\n",
      "  training_dataset['age' + str(i)] = 0\n",
      "/home/swanand.kadhe/git-repos/FFL/ibmfl/util/data_handlers/adult_sklearn_data_handler.py:169: SettingWithCopyWarning: \n",
      "A value is trying to be set on a copy of a slice from a DataFrame.\n",
      "Try using .loc[row_indexer,col_indexer] = value instead\n",
      "\n",
      "See the caveats in the documentation: https://pandas.pydata.org/pandas-docs/stable/user_guide/indexing.html#returning-a-view-versus-a-copy\n",
      "  training_dataset['age' + str(i)] = 0\n",
      "/home/swanand.kadhe/git-repos/FFL/ibmfl/util/data_handlers/adult_sklearn_data_handler.py:169: SettingWithCopyWarning: \n",
      "A value is trying to be set on a copy of a slice from a DataFrame.\n",
      "Try using .loc[row_indexer,col_indexer] = value instead\n",
      "\n",
      "See the caveats in the documentation: https://pandas.pydata.org/pandas-docs/stable/user_guide/indexing.html#returning-a-view-versus-a-copy\n",
      "  training_dataset['age' + str(i)] = 0\n",
      "/home/swanand.kadhe/git-repos/FFL/ibmfl/util/data_handlers/adult_sklearn_data_handler.py:169: SettingWithCopyWarning: \n",
      "A value is trying to be set on a copy of a slice from a DataFrame.\n",
      "Try using .loc[row_indexer,col_indexer] = value instead\n",
      "\n",
      "See the caveats in the documentation: https://pandas.pydata.org/pandas-docs/stable/user_guide/indexing.html#returning-a-view-versus-a-copy\n",
      "  training_dataset['age' + str(i)] = 0\n",
      "/home/swanand.kadhe/git-repos/FFL/ibmfl/util/data_handlers/adult_sklearn_data_handler.py:188: SettingWithCopyWarning: \n",
      "A value is trying to be set on a copy of a slice from a DataFrame.\n",
      "Try using .loc[row_indexer,col_indexer] = value instead\n",
      "\n",
      "See the caveats in the documentation: https://pandas.pydata.org/pandas-docs/stable/user_guide/indexing.html#returning-a-view-versus-a-copy\n",
      "  training_dataset['ed6less'] = 0\n"
     ]
    },
    {
     "name": "stdout",
     "output_type": "stream",
     "text": [
      "2022-11-18 22:28:28,273 | 1.0.7 | INFO | ibmfl.connection.flask_connection             | RestSender initialized\n",
      "2022-11-18 22:28:28,275 | 1.0.7 | INFO | ibmfl.aggregator.protohandler.proto_handler   | State: States.START\n",
      "2022-11-18 22:28:28,275 | 1.0.7 | INFO | ibmfl.aggregator.fusion.fusion_handler        | Warm start flag set to False.\n",
      "2022-11-18 22:28:28,278 | 1.0.7 | INFO | ibmfl.crypto.crypto_library                   | Initializing a key manager\n",
      "2022-11-18 22:28:28,280 | 1.0.7 | INFO | ibmfl.crypto.helayer.fhe                      | Initializing keys\n",
      "2022-11-18 22:28:28,280 | 1.0.7 | INFO | ibmfl.crypto.helayer.fhe                      | Initializing a FHE Cipher\n",
      "2022-11-18 22:28:28,302 | 1.0.7 | INFO | ibmfl.crypto.helayer.fhe                      | No flag for privacy of fusion weights in config. Setting to default value of False.\n",
      "2022-11-18 22:28:28,302 | 1.0.7 | INFO | ibmfl.connection.flask_connection             | Receiver Initialized\n",
      "2022-11-18 22:28:28,303 | 1.0.7 | INFO | ibmfl.connection.flask_connection             | Initializing Flask application\n",
      "2022-11-18 22:28:28,307 | 1.0.7 | INFO | ibmfl.aggregator.aggregator                   | Aggregator initialization successful\n",
      "2022-11-18 22:28:28,309 | 1.0.7 | INFO | ibmfl.aggregator.aggregator                   | Aggregator start successful\n",
      "2022-11-18 22:28:28,312 | 1.0.7 | INFO | werkzeug                                      |  * Running on http://127.0.0.1:5000/ (Press CTRL+C to quit)\n",
      "2022-11-18 22:28:54,351 | 1.0.7 | INFO | ibmfl.connection.flask_connection             | Request received for path :6\n",
      "2022-11-18 22:28:54,353 | 1.0.7 | INFO | ibmfl.aggregator.protohandler.proto_handler   | Adding party with id cdc14bf1-4e12-4358-9586-bb0668dc65a9\n",
      "2022-11-18 22:28:54,353 | 1.0.7 | INFO | ibmfl.aggregator.protohandler.proto_handler   | Total number of registered parties:1\n",
      "2022-11-18 22:28:54,355 | 1.0.7 | INFO | werkzeug                                      | 127.0.0.1 - - [18/Nov/2022 22:28:54] \"POST /6 HTTP/1.1\" 200 -\n",
      "2022-11-18 22:29:18,847 | 1.0.7 | INFO | ibmfl.connection.flask_connection             | Request received for path :6\n",
      "2022-11-18 22:29:18,849 | 1.0.7 | INFO | ibmfl.aggregator.protohandler.proto_handler   | Adding party with id 3975183a-8692-4b08-b4c6-182c443a882a\n",
      "2022-11-18 22:29:18,850 | 1.0.7 | INFO | ibmfl.aggregator.protohandler.proto_handler   | Total number of registered parties:2\n",
      "2022-11-18 22:29:18,851 | 1.0.7 | INFO | werkzeug                                      | 127.0.0.1 - - [18/Nov/2022 22:29:18] \"POST /6 HTTP/1.1\" 200 -\n"
     ]
    }
   ],
   "source": [
    "from ibmfl.aggregator.aggregator import Aggregator\n",
    "aggregator = Aggregator(config_dict=agg_config)\n",
    "\n",
    "aggregator.start()"
   ]
  },
  {
   "cell_type": "markdown",
   "metadata": {},
   "source": [
    "## Starting Parties <a name=\"parties\"></a>\n",
    "\n",
    "Now that we have Aggregator running, next we go to Parties' notebooks (`sklearn_classifier_p0.ipynb` and `sklearn_classifier_p1.ipynb`) to start and register them with the Aggregator. Once all the parties are done with registration, we will move to next step to start training."
   ]
  },
  {
   "cell_type": "markdown",
   "metadata": {},
   "source": [
    "## Training and Evaluation <a name=\"Training-and-Evaluation\"></a>\n",
    "\n",
    "Now that our network has been set up, we begin training the model by invoking the Aggregator's `start_training()` method. \n",
    "\n",
    "This could take some time, depending on your system specifications. Feel free to get your dose of coffee meanwhile ☕"
   ]
  },
  {
   "cell_type": "code",
   "execution_count": 7,
   "metadata": {},
   "outputs": [
    {
     "name": "stdout",
     "output_type": "stream",
     "text": [
      "2022-11-18 22:31:30,272 | 1.0.7 | INFO | ibmfl.aggregator.aggregator                   | Initiating Global Training.\n",
      "2022-11-18 22:31:30,274 | 1.0.7 | INFO | ibmfl.aggregator.fusion.fusion_handler        | Warm start disabled.\n",
      "2022-11-18 22:31:30,275 | 1.0.7 | INFO | ibmfl.aggregator.fusion.crypto_iter_avg_fusion_handler | start_global_training: [round: 0] [model update: None]\n",
      "2022-11-18 22:31:30,275 | 1.0.7 | INFO | ibmfl.aggregator.fusion.fusion_state_service  | Fusion state States.SND_MODEL\n",
      "2022-11-18 22:31:30,276 | 1.0.7 | INFO | ibmfl.aggregator.protohandler.proto_handler   | State: States.SND_REQ\n",
      "2022-11-18 22:31:30,298 | 1.0.7 | INFO | ibmfl.aggregator.protohandler.proto_handler   | Total number of success responses :2\n",
      "2022-11-18 22:31:30,300 | 1.0.7 | INFO | ibmfl.aggregator.protohandler.proto_handler   | Number of parties queried:2\n",
      "2022-11-18 22:31:30,301 | 1.0.7 | INFO | ibmfl.aggregator.protohandler.proto_handler   | Number of registered parties:2\n",
      "2022-11-18 22:31:30,303 | 1.0.7 | INFO | ibmfl.aggregator.protohandler.proto_handler   | State: States.QUORUM_WAIT\n",
      "2022-11-18 22:31:30,384 | 1.0.7 | INFO | ibmfl.connection.flask_connection             | Request received for path :7\n",
      "2022-11-18 22:31:30,385 | 1.0.7 | INFO | ibmfl.connection.flask_connection             | Request received for path :7\n",
      "2022-11-18 22:31:30,391 | 1.0.7 | INFO | werkzeug                                      | 127.0.0.1 - - [18/Nov/2022 22:31:30] \"POST /7 HTTP/1.1\" 200 -\n",
      "2022-11-18 22:31:30,460 | 1.0.7 | INFO | werkzeug                                      | 127.0.0.1 - - [18/Nov/2022 22:31:30] \"POST /7 HTTP/1.1\" 200 -\n",
      "2022-11-18 22:31:35,310 | 1.0.7 | INFO | ibmfl.aggregator.protohandler.proto_handler   | Timeout:None Time spent:5\n",
      "2022-11-18 22:31:35,312 | 1.0.7 | INFO | ibmfl.aggregator.protohandler.proto_handler   | State: States.PROC_RSP\n",
      "2022-11-18 22:31:35,313 | 1.0.7 | INFO | ibmfl.aggregator.fusion.fusion_state_service  | Fusion state States.RCV_MODEL\n",
      "2022-11-18 22:31:35,315 | 1.0.7 | INFO | ibmfl.aggregator.fusion.fusion_state_service  | Fusion state States.AGGREGATING\n",
      "2022-11-18 22:31:35,316 | 1.0.7 | INFO | ibmfl.crypto.helayer.fhe                      | Start ciphertext fusing\n",
      "2022-11-18 22:31:35,358 | 1.0.7 | INFO | ibmfl.crypto.helayer.fhe                      | Ciphertext fusion done\n",
      "2022-11-18 22:31:35,397 | 1.0.7 | INFO | ibmfl.aggregator.fusion.crypto_iter_avg_fusion_handler | start_global_training: [round: 1] [model update: <ibmfl.model.model_update.ModelUpdate object at 0x7f7b93672580>]\n",
      "2022-11-18 22:31:35,428 | 1.0.7 | INFO | ibmfl.aggregator.fusion.fusion_state_service  | Fusion state States.SND_MODEL\n",
      "2022-11-18 22:31:35,429 | 1.0.7 | INFO | ibmfl.aggregator.protohandler.proto_handler   | State: States.SND_REQ\n",
      "2022-11-18 22:31:35,544 | 1.0.7 | INFO | ibmfl.aggregator.protohandler.proto_handler   | Total number of success responses :2\n",
      "2022-11-18 22:31:35,545 | 1.0.7 | INFO | ibmfl.aggregator.protohandler.proto_handler   | Number of parties queried:2\n",
      "2022-11-18 22:31:35,545 | 1.0.7 | INFO | ibmfl.aggregator.protohandler.proto_handler   | Number of registered parties:2\n",
      "2022-11-18 22:31:35,546 | 1.0.7 | INFO | ibmfl.aggregator.protohandler.proto_handler   | State: States.QUORUM_WAIT\n",
      "2022-11-18 22:31:35,571 | 1.0.7 | INFO | ibmfl.connection.flask_connection             | Request received for path :7\n",
      "2022-11-18 22:31:35,581 | 1.0.7 | INFO | werkzeug                                      | 127.0.0.1 - - [18/Nov/2022 22:31:35] \"POST /7 HTTP/1.1\" 200 -\n",
      "2022-11-18 22:31:35,585 | 1.0.7 | INFO | ibmfl.connection.flask_connection             | Request received for path :7\n",
      "2022-11-18 22:31:35,591 | 1.0.7 | INFO | werkzeug                                      | 127.0.0.1 - - [18/Nov/2022 22:31:35] \"POST /7 HTTP/1.1\" 200 -\n",
      "2022-11-18 22:31:40,552 | 1.0.7 | INFO | ibmfl.aggregator.protohandler.proto_handler   | Timeout:None Time spent:5\n",
      "2022-11-18 22:31:40,553 | 1.0.7 | INFO | ibmfl.aggregator.protohandler.proto_handler   | State: States.PROC_RSP\n",
      "2022-11-18 22:31:40,554 | 1.0.7 | INFO | ibmfl.aggregator.fusion.fusion_state_service  | Fusion state States.RCV_MODEL\n",
      "2022-11-18 22:31:40,555 | 1.0.7 | INFO | ibmfl.aggregator.fusion.fusion_state_service  | Fusion state States.AGGREGATING\n",
      "2022-11-18 22:31:40,555 | 1.0.7 | INFO | ibmfl.crypto.helayer.fhe                      | Start ciphertext fusing\n",
      "2022-11-18 22:31:40,562 | 1.0.7 | INFO | ibmfl.crypto.helayer.fhe                      | Ciphertext fusion done\n",
      "2022-11-18 22:31:40,563 | 1.0.7 | INFO | ibmfl.aggregator.fusion.crypto_iter_avg_fusion_handler | start_global_training: [round: 2] [model update: <ibmfl.model.model_update.ModelUpdate object at 0x7f7bd9579040>]\n",
      "2022-11-18 22:31:40,564 | 1.0.7 | INFO | ibmfl.aggregator.fusion.fusion_state_service  | Fusion state States.SND_MODEL\n",
      "2022-11-18 22:31:40,565 | 1.0.7 | INFO | ibmfl.aggregator.protohandler.proto_handler   | State: States.SND_REQ\n",
      "2022-11-18 22:31:40,675 | 1.0.7 | INFO | ibmfl.aggregator.protohandler.proto_handler   | Total number of success responses :2\n",
      "2022-11-18 22:31:40,676 | 1.0.7 | INFO | ibmfl.aggregator.protohandler.proto_handler   | Number of parties queried:2\n",
      "2022-11-18 22:31:40,677 | 1.0.7 | INFO | ibmfl.aggregator.protohandler.proto_handler   | Number of registered parties:2\n",
      "2022-11-18 22:31:40,678 | 1.0.7 | INFO | ibmfl.aggregator.protohandler.proto_handler   | State: States.QUORUM_WAIT\n",
      "2022-11-18 22:31:40,697 | 1.0.7 | INFO | ibmfl.connection.flask_connection             | Request received for path :7\n",
      "2022-11-18 22:31:40,705 | 1.0.7 | INFO | werkzeug                                      | 127.0.0.1 - - [18/Nov/2022 22:31:40] \"POST /7 HTTP/1.1\" 200 -\n",
      "2022-11-18 22:31:40,713 | 1.0.7 | INFO | ibmfl.connection.flask_connection             | Request received for path :7\n",
      "2022-11-18 22:31:40,720 | 1.0.7 | INFO | werkzeug                                      | 127.0.0.1 - - [18/Nov/2022 22:31:40] \"POST /7 HTTP/1.1\" 200 -\n",
      "2022-11-18 22:31:45,684 | 1.0.7 | INFO | ibmfl.aggregator.protohandler.proto_handler   | Timeout:None Time spent:5\n",
      "2022-11-18 22:31:45,685 | 1.0.7 | INFO | ibmfl.aggregator.protohandler.proto_handler   | State: States.PROC_RSP\n",
      "2022-11-18 22:31:45,686 | 1.0.7 | INFO | ibmfl.aggregator.fusion.fusion_state_service  | Fusion state States.RCV_MODEL\n",
      "2022-11-18 22:31:45,687 | 1.0.7 | INFO | ibmfl.aggregator.fusion.fusion_state_service  | Fusion state States.AGGREGATING\n",
      "2022-11-18 22:31:45,687 | 1.0.7 | INFO | ibmfl.crypto.helayer.fhe                      | Start ciphertext fusing\n",
      "2022-11-18 22:31:45,692 | 1.0.7 | INFO | ibmfl.crypto.helayer.fhe                      | Ciphertext fusion done\n",
      "2022-11-18 22:31:45,693 | 1.0.7 | INFO | ibmfl.aggregator.fusion.crypto_iter_avg_fusion_handler | start_global_training: [round: 3] [model update: <ibmfl.model.model_update.ModelUpdate object at 0x7f7b936679a0>]\n",
      "2022-11-18 22:31:45,695 | 1.0.7 | INFO | ibmfl.aggregator.fusion.fusion_state_service  | Fusion state States.SND_MODEL\n",
      "2022-11-18 22:31:45,695 | 1.0.7 | INFO | ibmfl.aggregator.protohandler.proto_handler   | State: States.SND_REQ\n",
      "2022-11-18 22:31:45,783 | 1.0.7 | INFO | ibmfl.aggregator.protohandler.proto_handler   | Total number of success responses :2\n",
      "2022-11-18 22:31:45,786 | 1.0.7 | INFO | ibmfl.aggregator.protohandler.proto_handler   | Number of parties queried:2\n",
      "2022-11-18 22:31:45,787 | 1.0.7 | INFO | ibmfl.aggregator.protohandler.proto_handler   | Number of registered parties:2\n",
      "2022-11-18 22:31:45,788 | 1.0.7 | INFO | ibmfl.aggregator.protohandler.proto_handler   | State: States.QUORUM_WAIT\n",
      "2022-11-18 22:31:45,823 | 1.0.7 | INFO | ibmfl.connection.flask_connection             | Request received for path :7\n",
      "2022-11-18 22:31:45,830 | 1.0.7 | INFO | werkzeug                                      | 127.0.0.1 - - [18/Nov/2022 22:31:45] \"POST /7 HTTP/1.1\" 200 -\n",
      "2022-11-18 22:31:45,839 | 1.0.7 | INFO | ibmfl.connection.flask_connection             | Request received for path :7\n",
      "2022-11-18 22:31:45,844 | 1.0.7 | INFO | werkzeug                                      | 127.0.0.1 - - [18/Nov/2022 22:31:45] \"POST /7 HTTP/1.1\" 200 -\n",
      "2022-11-18 22:31:50,794 | 1.0.7 | INFO | ibmfl.aggregator.protohandler.proto_handler   | Timeout:None Time spent:5\n",
      "2022-11-18 22:31:50,795 | 1.0.7 | INFO | ibmfl.aggregator.protohandler.proto_handler   | State: States.PROC_RSP\n"
     ]
    },
    {
     "name": "stdout",
     "output_type": "stream",
     "text": [
      "2022-11-18 22:31:50,795 | 1.0.7 | INFO | ibmfl.aggregator.fusion.fusion_state_service  | Fusion state States.RCV_MODEL\n",
      "2022-11-18 22:31:50,796 | 1.0.7 | INFO | ibmfl.aggregator.fusion.fusion_state_service  | Fusion state States.AGGREGATING\n",
      "2022-11-18 22:31:50,796 | 1.0.7 | INFO | ibmfl.crypto.helayer.fhe                      | Start ciphertext fusing\n",
      "2022-11-18 22:31:50,801 | 1.0.7 | INFO | ibmfl.crypto.helayer.fhe                      | Ciphertext fusion done\n",
      "2022-11-18 22:31:50,802 | 1.0.7 | INFO | ibmfl.aggregator.fusion.crypto_iter_avg_fusion_handler | start_global_training: [round: 4] [model update: <ibmfl.model.model_update.ModelUpdate object at 0x7f7bd95e5f40>]\n",
      "2022-11-18 22:31:50,803 | 1.0.7 | INFO | ibmfl.aggregator.fusion.fusion_state_service  | Fusion state States.SND_MODEL\n",
      "2022-11-18 22:31:50,804 | 1.0.7 | INFO | ibmfl.aggregator.protohandler.proto_handler   | State: States.SND_REQ\n",
      "2022-11-18 22:31:50,873 | 1.0.7 | INFO | ibmfl.aggregator.protohandler.proto_handler   | Total number of success responses :2\n",
      "2022-11-18 22:31:50,874 | 1.0.7 | INFO | ibmfl.aggregator.protohandler.proto_handler   | Number of parties queried:2\n",
      "2022-11-18 22:31:50,875 | 1.0.7 | INFO | ibmfl.aggregator.protohandler.proto_handler   | Number of registered parties:2\n",
      "2022-11-18 22:31:50,877 | 1.0.7 | INFO | ibmfl.aggregator.protohandler.proto_handler   | State: States.QUORUM_WAIT\n",
      "2022-11-18 22:31:50,919 | 1.0.7 | INFO | ibmfl.connection.flask_connection             | Request received for path :7\n",
      "2022-11-18 22:31:50,932 | 1.0.7 | INFO | werkzeug                                      | 127.0.0.1 - - [18/Nov/2022 22:31:50] \"POST /7 HTTP/1.1\" 200 -\n",
      "2022-11-18 22:31:50,937 | 1.0.7 | INFO | ibmfl.connection.flask_connection             | Request received for path :7\n",
      "2022-11-18 22:31:50,944 | 1.0.7 | INFO | werkzeug                                      | 127.0.0.1 - - [18/Nov/2022 22:31:50] \"POST /7 HTTP/1.1\" 200 -\n",
      "2022-11-18 22:31:55,883 | 1.0.7 | INFO | ibmfl.aggregator.protohandler.proto_handler   | Timeout:None Time spent:5\n",
      "2022-11-18 22:31:55,884 | 1.0.7 | INFO | ibmfl.aggregator.protohandler.proto_handler   | State: States.PROC_RSP\n",
      "2022-11-18 22:31:55,884 | 1.0.7 | INFO | ibmfl.aggregator.fusion.fusion_state_service  | Fusion state States.RCV_MODEL\n",
      "2022-11-18 22:31:55,885 | 1.0.7 | INFO | ibmfl.aggregator.fusion.fusion_state_service  | Fusion state States.AGGREGATING\n",
      "2022-11-18 22:31:55,886 | 1.0.7 | INFO | ibmfl.crypto.helayer.fhe                      | Start ciphertext fusing\n",
      "2022-11-18 22:31:55,890 | 1.0.7 | INFO | ibmfl.crypto.helayer.fhe                      | Ciphertext fusion done\n",
      "2022-11-18 22:31:55,891 | 1.0.7 | INFO | ibmfl.aggregator.fusion.iter_avg_fusion_handler | Reached maximum global rounds. Finish training :) \n",
      "2022-11-18 22:31:55,892 | 1.0.7 | INFO | ibmfl.aggregator.aggregator                   | Finished Global Training\n"
     ]
    },
    {
     "data": {
      "text/plain": [
       "True"
      ]
     },
     "execution_count": 7,
     "metadata": {},
     "output_type": "execute_result"
    }
   ],
   "source": [
    "\"\"\"\n",
    "#1 Initialize the metrics collector variables\n",
    "\"\"\"\n",
    "num_parties = 2\n",
    "eval_party_accuracy = [[] for _ in range(2)]\n",
    "iterations = [[] for _ in range(2)]\n",
    "\n",
    "\"\"\"\n",
    "#2 Register handler for metrics collector\n",
    "\"\"\"\n",
    "def get_metrics(metrics):\n",
    "    keys = list(metrics['party'].keys())\n",
    "    keys.sort()\n",
    "    for i in range(len(keys)):\n",
    "      eval_party_accuracy[i].append(metrics['party'][keys[i]]['acc'])\n",
    "      iterations[i].append(metrics['fusion']['curr_round']*3)\n",
    "      \n",
    "mh = aggregator.fusion.metrics_manager\n",
    "mh.register(get_metrics)\n",
    "\n",
    "\n",
    "\"\"\"\n",
    "#3 start the training\n",
    "\"\"\"\n",
    "aggregator.start_training()"
   ]
  },
  {
   "cell_type": "markdown",
   "metadata": {},
   "source": [
    "## Visualize Results <a name=\"Visualize-Results\"></a>"
   ]
  },
  {
   "cell_type": "code",
   "execution_count": 8,
   "metadata": {},
   "outputs": [
    {
     "data": {
      "image/png": "[encoded data removed]",
      "text/plain": [
       "<Figure size 1440x720 with 1 Axes>"
      ]
     },
     "metadata": {
      "needs_background": "light"
     },
     "output_type": "display_data"
    }
   ],
   "source": [
    "\"\"\"\n",
    "#1 define a method to plot a smooth cure\n",
    "\"\"\"\n",
    "from matplotlib import pyplot as plt\n",
    "from scipy.interpolate import make_interp_spline, BSpline\n",
    "import numpy as np\n",
    "\n",
    "def smooth_curve(xaxis, yaxis):\n",
    "   xnew = np.linspace(min(xaxis), max(xaxis), len(xaxis)*50) \n",
    "\n",
    "   spl = make_interp_spline(xaxis, yaxis, k=1)  # type: BSpline\n",
    "   power_smooth = spl(xnew)\n",
    "   return xnew, power_smooth \n",
    "\n",
    "f = plt.figure(figsize=(20,10))\n",
    "plt.subplot(2, 2, 1)\n",
    "\n",
    "num_parties = agg_config['hyperparams']['global']['num_parties']\n",
    "\n",
    "\n",
    "\"\"\"\n",
    "#2 plot the evaluation curve\n",
    "\"\"\"\n",
    "for i in range(num_parties):\n",
    "    eval_party_xaxis, eval_party_yaxis = smooth_curve(iterations[i], eval_party_accuracy[i])\n",
    "    line1, = plt.plot(eval_party_xaxis, eval_party_yaxis)\n",
    "    line1.set_label('party'+str(i+1))\n",
    "plt.title('Evaluation Plot')\n",
    "plt.ylabel('Accuracy')\n",
    "plt.xlabel('Epochs')\n",
    "plt.legend()\n",
    "plt.show()"
   ]
  },
  {
   "cell_type": "markdown",
   "metadata": {},
   "source": [
    "## Shut Down\n",
    "\n",
    "Invoke the `stop()` method on each of the network participants to terminate the service."
   ]
  },
  {
   "cell_type": "code",
   "execution_count": null,
   "metadata": {},
   "outputs": [],
   "source": [
    "aggregator.stop()"
   ]
  }
 ],
 "metadata": {
  "kernelspec": {
   "display_name": "Python 3.6.8 64-bit",
   "language": "python",
   "name": "python3"
  },
  "language_info": {
   "codemirror_mode": {
    "name": "ipython",
    "version": 3
   },
   "file_extension": ".py",
   "mimetype": "text/x-python",
   "name": "python",
   "nbconvert_exporter": "python",
   "pygments_lexer": "ipython3",
   "version": "3.6.8"
  },
  "vscode": {
   "interpreter": {
    "hash": "31f2aee4e71d21fbe5cf8b01ff0e069b9275f58929596ceb00d14d90e3e16cd6"
   }
  }
 },
 "nbformat": 4,
 "nbformat_minor": 2
}
