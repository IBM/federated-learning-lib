{
 "cells": [
  {
   "cell_type": "markdown",
   "metadata": {},
   "source": [
    "# Adult Classifier with HELayers (HE) - Secure Aggregation in IBM FL"
   ]
  },
  {
   "cell_type": "markdown",
   "metadata": {},
   "source": [
    "## Outline:\n",
    "- [Add conda environment to Jupyter Notebook](#setup)\n",
    "- [Federated Learning(FL)](#intro)\n",
    "- [How deos IBM FL work with HE?](#HE-FL)\n",
    "- [Digit Recognition](#mnist)\n",
    "- [Parties](#Parties)\n",
    "    - [Party Configuration](#Party-Configuration)\n",
    "    - [Party Setup](#Party-Setup)\n",
    "- [Register All Parties Before Starting Training](#Register-All-Parties-Before-Starting-Training)\n",
    "- [Visualize Results](#Visualize-Results)\n",
    "- [Shut Down](#Shut-Down)"
   ]
  },
  {
   "cell_type": "markdown",
   "metadata": {},
   "source": [
    "## Add conda environment to Jupyter Notebook <a name=\"setup\"></a>\n",
    "\n",
    "Please ensure that you have activated the `conda` environment following the instructions in the project README.\n",
    "\n",
    "Once done, run the following commands in your terminal to install your conda environment into the Jupyter Notebook:\n",
    "\n",
    "1. Once you have activated the conda environment, install the `ipykernel` package: `conda install -c anaconda ipykernel`\n",
    "\n",
    "2. Next, install the `ipykernel` module within Jupyter Notebook: `python -m ipykernel install --user --name=<conda_env>`\n",
    "\n",
    "3. Please install the `matplotlib` package for your conda environment. \n",
    "\n",
    "4. Finally, restart the jupyter notebook once done. Ensure that you are running this Notebook from `<project_path>/Notebooks/`, where project_path is the directory where the IBMFL repository was cloned.\n",
    "\n",
    "When the Notebook is up and running it may prompt you to choose the kernel. Use the drop down to choose the kernel name same as that chosen when running `conda activate <conda_env>`. If no prompt shows up, you can change the kernel by clicking _Kernel_ > _Change kernel_ > _`<conda_env>`_."
   ]
  },
  {
   "cell_type": "markdown",
   "metadata": {},
   "source": [
    "## Federated Learning (FL) <a name=\"intro\"></a>\n",
    "\n",
    "**Federated Learning (FL)** is a distributed machine learning process in which each participant node (or party) retains their data locally and interacts with  other participants via a learning protocol. \n",
    "One main driver behind FL is the need to not share data with others  due to privacy and confidentially concerns.\n",
    "Another driver is to improve the speed of training a machine learning model by leveraging other participants' training processes.\n",
    "\n",
    "Setting up such a federated learning system requires setting up a communication infrastructure, converting machine learning algorithms to federated settings and in some cases knowing about the intricacies of security and privacy enabling techniques such as differential privacy and multi-party computation. \n",
    "\n",
    "In this Notebook we use [IBM FL](https://github.com/IBM/federated-learning-lib) together with Homomorphic Encryption  to have multiple parties train a classifier to recognise handwritten digits in the [MNIST dataset](http://yann.lecun.com/exdb/mnist/). \n",
    "\n",
    "For a more technical dive into IBM FL, refer the whitepaper [here](https://arxiv.org/pdf/2007.10987.pdf)."
   ]
  },
  {
   "cell_type": "markdown",
   "metadata": {},
   "source": [
    "In the following cells, we set up each of the components of a Federated Learning network (See Figure below) wherein all involved parties aid in training their respective local cartpoles to arrive at the upright pendulum state. In this notebook we default to 2 parties, but depending on your resources you may use more parties.\n",
    "\n",
    "<img style=\"display=block; margin:auto\" src=\"../images/FL_Network.png\" width=\"720\"/>\n",
    "<p style=\"text-align: center\">Modified from Image Source: <a href=\"https://arxiv.org/pdf/2007.10987.pdf\">IBM Federated Learning: An Enterprise FrameworkWhite Paper V0.1</a></p>"
   ]
  },
  {
   "cell_type": "markdown",
   "metadata": {},
   "source": [
    "## How does IBM FL work with HE? <a name=\"HE-FL\"></a>\n",
    "\n",
    "IBM FL uses the *[Cheon-Kim-Kim-Song (CKKS) scheme](https://eprint.iacr.org/2016/421.pdf)* for Homomorphic Encryption.  HE functionalities are implemented using *[IBM HElayers software development kit (SDK)](https://github.com/IBM/helayers)*, and in particular, its *[PyHElayers](https://github.com/IBM/helayers#pyhelayers-python-package)* Python package. You can install `pyhelayers` in your conda environment by running `pip install pyhelayers`. Note that `pyhelayers` is currently supported only on Linux (x86 and IBM Z).\n",
    "\n",
    "<img style=\"display=block; margin:auto\" src=\"../images/ibmfl_helayer.png\" width=\"512\"/>\n",
    "<p style=\"text-align: center\">IBM FL library integrated with HELayers </p>\n",
    "\n",
    "After enabling IBM FL with HE, parties do not send their model updates in plaintext. Each party sends an encrypted model update and the aggregation is performed under encryption. (See the figure below.) \n",
    "\n",
    "\n",
    "![SegmentLocal](../images/FL_FHE_v3.gif \"segment\")\n",
    "<p style=\"text-align: center\">FL Training with HE</a></p>"
   ]
  },
  {
   "cell_type": "markdown",
   "metadata": {},
   "source": [
    "### Getting things ready\n",
    "We begin by setting the number of parties that will participate in the federated learning run and splitting up the data among them."
   ]
  },
  {
   "cell_type": "code",
   "execution_count": 1,
   "metadata": {},
   "outputs": [],
   "source": [
    "import sys\n",
    "party_id = 0\n",
    "\n",
    "sys.path.append('../..')\n",
    "import os\n",
    "os.chdir(\"../..\")\n",
    "\n",
    "dataset = 'adult'"
   ]
  },
  {
   "cell_type": "markdown",
   "metadata": {},
   "source": [
    "## Parties\n",
    "\n",
    "Each party holds its own dataset that is kept to itself and used to answer queries received from the aggregator. Because each party may have stored data in different formats, FL offers an abstraction called Data Handler. This module allows for custom implementations to retrieve the data from each of the participating parties. A local training handler sits at each party to control the local training happening at the party side. \n",
    "\n",
    "<img style=\"display=block; margin:auto\" src=\"../images/FHE_stacks.png\" width=\"680\"/>\n",
    "<p style=\"text-align: center\">Aggregator and Party side configurations</a></p>"
   ]
  },
  {
   "cell_type": "markdown",
   "metadata": {},
   "source": [
    "### Party Configuration\n",
    "\n",
    "**Note**: in a typical FL setting, the parties may have very different configurations from each other. However, in this simplified example, the config does not differ much across parties. So, we first setup the configuration common to both parties, in the next cell. We discuss the parameters that are specific to each, in subsequent cells."
   ]
  },
  {
   "cell_type": "markdown",
   "metadata": {},
   "source": [
    "### Party Setup\n",
    "In the following cell, we setup configurations for parties, including network-level details, hyperparameters as well as the model specifications. Please note that if you are running this notebook in distributed environment on separate nodes then you need to split the data locally and obtain the model generated by the Aggregator."
   ]
  },
  {
   "cell_type": "code",
   "execution_count": 2,
   "metadata": {
    "scrolled": false
   },
   "outputs": [],
   "source": [
    "ctx_file = os.path.join(os.getcwd(), 'Notebooks/fhe.context')\n",
    "key_file = os.path.join(os.getcwd(), 'Notebooks/fhe.key')\n",
    "def get_party_config(party_id):\n",
    "    party_config = {\n",
    "        'aggregator': {\n",
    "            'ip': '127.0.0.1',\n",
    "            'port': 5000\n",
    "        },\n",
    "        'connection': {\n",
    "            'info': {\n",
    "                'ip': '127.0.0.1',\n",
    "                'port': 8085 + party_id\n",
    "            },\n",
    "            'name': 'FlaskConnection',\n",
    "            'path': 'ibmfl.connection.flask_connection',\n",
    "            'sync': False\n",
    "        },\n",
    "        'data': {\n",
    "            'info': {\n",
    "                'txt_file': 'examples/data/adult/random/data_party'+str(party_id)+'.csv'\n",
    "            },\n",
    "            'name': 'AdultSklearnDataHandler',\n",
    "            'path': 'ibmfl.util.data_handlers.adult_sklearn_data_handler'\n",
    "        },\n",
    "        'local_training': {\n",
    "            'name': 'CryptoLocalTrainingHandler',\n",
    "            'path': 'ibmfl.party.training.crypto_local_training_handler',\n",
    "            'info': {\n",
    "                'crypto': {\n",
    "                    'name': 'CryptoFHE',\n",
    "                    'path': 'ibmfl.crypto.helayer.fhe',\n",
    "                    'key_manager': {\n",
    "                        'name': 'LocalDiskKeyManager',\n",
    "                        'path': 'ibmfl.crypto.keys_mng.crypto_key_mng_dsk',\n",
    "                        'key_mgr_info': {\n",
    "                            'files': {\n",
    "                                'context': ctx_file,\n",
    "                                'key': key_file\n",
    "                            }\n",
    "                        }\n",
    "                    }\n",
    "                }\n",
    "            }\n",
    "        },\n",
    "         'model': {\n",
    "            'name': 'SklearnSGDFLModel',\n",
    "            'path': 'ibmfl.model.sklearn_SGD_linear_fl_model',\n",
    "            'spec': {\n",
    "                'model_definition': 'examples/configs/sklearn_logclassification/model_architecture.pickle'\n",
    "            }\n",
    "        },\n",
    "        'protocol_handler': {\n",
    "            'name': 'PartyProtocolHandler',\n",
    "            'path': 'ibmfl.party.party_protocol_handler'\n",
    "        }\n",
    "    }\n",
    "    return party_config"
   ]
  },
  {
   "cell_type": "markdown",
   "metadata": {},
   "source": [
    "### Running the Party\n",
    "\n",
    "Now, we invoke the `get_party_config` function to setup party and `start()` it.\n",
    "\n",
    "Finally, we register the party with the Aggregator."
   ]
  },
  {
   "cell_type": "code",
   "execution_count": 3,
   "metadata": {},
   "outputs": [
    {
     "name": "stderr",
     "output_type": "stream",
     "text": [
      "2022-11-18 22:28:52.704 INFO   numexpr.utils :: Note: NumExpr detected 30 cores but \"NUMEXPR_MAX_THREADS\" not set, so enforcing safe limit of 8.\n",
      "2022-11-18 22:28:52.705 INFO   numexpr.utils :: NumExpr defaulting to 8 threads.\n"
     ]
    },
    {
     "name": "stdout",
     "output_type": "stream",
     "text": [
      "2022-11-18 22:28:53,444 | 1.0.7 | INFO | ibmfl.util.config                             | Getting Aggregator details from arguments.\n",
      "2022-11-18 22:28:53,686 | 1.0.7 | INFO | ibmfl.util.config                             | No metrics recorder config provided for this setup.\n",
      "2022-11-18 22:28:53,836 | 1.0.7 | INFO | ibmfl.util.config                             | No metrics config provided for this setup.\n",
      "2022-11-18 22:28:53,837 | 1.0.7 | INFO | ibmfl.util.config                             | No evidencia recordeer config provided for this setup.\n",
      "2022-11-18 22:28:53,838 | 1.0.7 | INFO | ibmfl.util.data_handlers.adult_sklearn_data_handler | Loaded training data from examples/data/adult/random/data_party0.csv\n",
      "2022-11-18 22:28:54,301 | 1.0.7 | INFO | ibmfl.connection.flask_connection             | RestSender initialized\n",
      "2022-11-18 22:28:54,303 | 1.0.7 | INFO | ibmfl.crypto.crypto_library                   | Initializing a key manager\n",
      "2022-11-18 22:28:54,305 | 1.0.7 | INFO | ibmfl.crypto.helayer.fhe                      | Initializing keys\n",
      "2022-11-18 22:28:54,305 | 1.0.7 | INFO | ibmfl.crypto.helayer.fhe                      | Initializing a FHE Cipher\n"
     ]
    },
    {
     "name": "stderr",
     "output_type": "stream",
     "text": [
      "/home/swanand.kadhe/git-repos/FFL/ibmfl/util/data_handlers/adult_sklearn_data_handler.py:156: SettingWithCopyWarning: \n",
      "A value is trying to be set on a copy of a slice from a DataFrame.\n",
      "Try using .loc[row_indexer,col_indexer] = value instead\n",
      "\n",
      "See the caveats in the documentation: https://pandas.pydata.org/pandas-docs/stable/user_guide/indexing.html#returning-a-view-versus-a-copy\n",
      "  training_dataset['sex'] = training_dataset['sex'].map({' Female': 0, ' Male': 1})\n",
      "/home/swanand.kadhe/git-repos/FFL/ibmfl/util/data_handlers/adult_sklearn_data_handler.py:157: SettingWithCopyWarning: \n",
      "A value is trying to be set on a copy of a slice from a DataFrame.\n",
      "Try using .loc[row_indexer,col_indexer] = value instead\n",
      "\n",
      "See the caveats in the documentation: https://pandas.pydata.org/pandas-docs/stable/user_guide/indexing.html#returning-a-view-versus-a-copy\n",
      "  training_dataset['race'] = training_dataset['race'].map(\n",
      "/home/swanand.kadhe/git-repos/FFL/ibmfl/util/data_handlers/adult_sklearn_data_handler.py:161: SettingWithCopyWarning: \n",
      "A value is trying to be set on a copy of a slice from a DataFrame.\n",
      "Try using .loc[row_indexer,col_indexer] = value instead\n",
      "\n",
      "See the caveats in the documentation: https://pandas.pydata.org/pandas-docs/stable/user_guide/indexing.html#returning-a-view-versus-a-copy\n",
      "  training_dataset['class'] = training_dataset['class'].map({' <=50K': 0, ' >50K': 1})\n",
      "/home/swanand.kadhe/git-repos/FFL/ibmfl/util/data_handlers/adult_sklearn_data_handler.py:163: SettingWithCopyWarning: \n",
      "A value is trying to be set on a copy of a slice from a DataFrame.\n",
      "Try using .loc[row_indexer,col_indexer] = value instead\n",
      "\n",
      "See the caveats in the documentation: https://pandas.pydata.org/pandas-docs/stable/user_guide/indexing.html#returning-a-view-versus-a-copy\n",
      "  training_dataset['age'] = training_dataset['age'].astype(int)\n",
      "/home/swanand.kadhe/git-repos/FFL/ibmfl/util/data_handlers/adult_sklearn_data_handler.py:164: SettingWithCopyWarning: \n",
      "A value is trying to be set on a copy of a slice from a DataFrame.\n",
      "Try using .loc[row_indexer,col_indexer] = value instead\n",
      "\n",
      "See the caveats in the documentation: https://pandas.pydata.org/pandas-docs/stable/user_guide/indexing.html#returning-a-view-versus-a-copy\n",
      "  training_dataset['education-num'] = training_dataset['education-num'].astype(int)\n",
      "/home/swanand.kadhe/git-repos/FFL/ibmfl/util/data_handlers/adult_sklearn_data_handler.py:169: SettingWithCopyWarning: \n",
      "A value is trying to be set on a copy of a slice from a DataFrame.\n",
      "Try using .loc[row_indexer,col_indexer] = value instead\n",
      "\n",
      "See the caveats in the documentation: https://pandas.pydata.org/pandas-docs/stable/user_guide/indexing.html#returning-a-view-versus-a-copy\n",
      "  training_dataset['age' + str(i)] = 0\n",
      "/home/swanand.kadhe/git-repos/FFL/ibmfl/util/data_handlers/adult_sklearn_data_handler.py:169: SettingWithCopyWarning: \n",
      "A value is trying to be set on a copy of a slice from a DataFrame.\n",
      "Try using .loc[row_indexer,col_indexer] = value instead\n",
      "\n",
      "See the caveats in the documentation: https://pandas.pydata.org/pandas-docs/stable/user_guide/indexing.html#returning-a-view-versus-a-copy\n",
      "  training_dataset['age' + str(i)] = 0\n",
      "/home/swanand.kadhe/git-repos/FFL/ibmfl/util/data_handlers/adult_sklearn_data_handler.py:169: SettingWithCopyWarning: \n",
      "A value is trying to be set on a copy of a slice from a DataFrame.\n",
      "Try using .loc[row_indexer,col_indexer] = value instead\n",
      "\n",
      "See the caveats in the documentation: https://pandas.pydata.org/pandas-docs/stable/user_guide/indexing.html#returning-a-view-versus-a-copy\n",
      "  training_dataset['age' + str(i)] = 0\n",
      "/home/swanand.kadhe/git-repos/FFL/ibmfl/util/data_handlers/adult_sklearn_data_handler.py:169: SettingWithCopyWarning: \n",
      "A value is trying to be set on a copy of a slice from a DataFrame.\n",
      "Try using .loc[row_indexer,col_indexer] = value instead\n",
      "\n",
      "See the caveats in the documentation: https://pandas.pydata.org/pandas-docs/stable/user_guide/indexing.html#returning-a-view-versus-a-copy\n",
      "  training_dataset['age' + str(i)] = 0\n",
      "/home/swanand.kadhe/git-repos/FFL/ibmfl/util/data_handlers/adult_sklearn_data_handler.py:169: SettingWithCopyWarning: \n",
      "A value is trying to be set on a copy of a slice from a DataFrame.\n",
      "Try using .loc[row_indexer,col_indexer] = value instead\n",
      "\n",
      "See the caveats in the documentation: https://pandas.pydata.org/pandas-docs/stable/user_guide/indexing.html#returning-a-view-versus-a-copy\n",
      "  training_dataset['age' + str(i)] = 0\n",
      "/home/swanand.kadhe/git-repos/FFL/ibmfl/util/data_handlers/adult_sklearn_data_handler.py:169: SettingWithCopyWarning: \n",
      "A value is trying to be set on a copy of a slice from a DataFrame.\n",
      "Try using .loc[row_indexer,col_indexer] = value instead\n",
      "\n",
      "See the caveats in the documentation: https://pandas.pydata.org/pandas-docs/stable/user_guide/indexing.html#returning-a-view-versus-a-copy\n",
      "  training_dataset['age' + str(i)] = 0\n",
      "/home/swanand.kadhe/git-repos/FFL/ibmfl/util/data_handlers/adult_sklearn_data_handler.py:169: SettingWithCopyWarning: \n",
      "A value is trying to be set on a copy of a slice from a DataFrame.\n",
      "Try using .loc[row_indexer,col_indexer] = value instead\n",
      "\n",
      "See the caveats in the documentation: https://pandas.pydata.org/pandas-docs/stable/user_guide/indexing.html#returning-a-view-versus-a-copy\n",
      "  training_dataset['age' + str(i)] = 0\n",
      "/home/swanand.kadhe/git-repos/FFL/ibmfl/util/data_handlers/adult_sklearn_data_handler.py:188: SettingWithCopyWarning: \n",
      "A value is trying to be set on a copy of a slice from a DataFrame.\n",
      "Try using .loc[row_indexer,col_indexer] = value instead\n",
      "\n",
      "See the caveats in the documentation: https://pandas.pydata.org/pandas-docs/stable/user_guide/indexing.html#returning-a-view-versus-a-copy\n",
      "  training_dataset['ed6less'] = 0\n"
     ]
    },
    {
     "name": "stdout",
     "output_type": "stream",
     "text": [
      "2022-11-18 22:28:54,334 | 1.0.7 | INFO | ibmfl.crypto.helayer.fhe                      | No flag for privacy of fusion weights in config. Setting to default value of False.\n",
      "2022-11-18 22:28:54,337 | 1.0.7 | INFO | ibmfl.connection.flask_connection             | Receiver Initialized\n",
      "2022-11-18 22:28:54,338 | 1.0.7 | INFO | ibmfl.connection.flask_connection             | Initializing Flask application\n",
      "2022-11-18 22:28:54,341 | 1.0.7 | INFO | ibmfl.party.party                             | Party initialization successful\n",
      "2022-11-18 22:28:54,342 | 1.0.7 | INFO | ibmfl.party.party                             | Party start successful\n",
      "2022-11-18 22:28:54,344 | 1.0.7 | INFO | ibmfl.party.party                             | Registering party...\n",
      "2022-11-18 22:28:54,345 | 1.0.7 | INFO | werkzeug                                      |  * Running on http://127.0.0.1:8085/ (Press CTRL+C to quit)\n",
      "2022-11-18 22:28:54,356 | 1.0.7 | INFO | ibmfl.party.party                             | Registration Successful\n",
      "2022-11-18 22:31:30,286 | 1.0.7 | INFO | ibmfl.connection.flask_connection             | Request received for path :7\n",
      "2022-11-18 22:31:30,289 | 1.0.7 | INFO | ibmfl.party.party_protocol_handler            | received a async request\n",
      "2022-11-18 22:31:30,289 | 1.0.7 | INFO | ibmfl.party.party_protocol_handler            | finished async request\n",
      "2022-11-18 22:31:30,290 | 1.0.7 | INFO | ibmfl.party.party_protocol_handler            | Handling async request in a separate thread\n",
      "2022-11-18 22:31:30,291 | 1.0.7 | INFO | werkzeug                                      | 127.0.0.1 - - [18/Nov/2022 22:31:30] \"POST /7 HTTP/1.1\" 200 -\n",
      "2022-11-18 22:31:30,292 | 1.0.7 | INFO | ibmfl.party.party_protocol_handler            | Received request from aggregator\n",
      "2022-11-18 22:31:30,294 | 1.0.7 | INFO | ibmfl.party.party_protocol_handler            | Received request in with message_type:  7\n",
      "2022-11-18 22:31:30,295 | 1.0.7 | INFO | ibmfl.party.party_protocol_handler            | Received request in PH 7\n",
      "2022-11-18 22:31:30,296 | 1.0.7 | INFO | ibmfl.party.training.local_training_handler   | No model update was provided.\n",
      "2022-11-18 22:31:30,296 | 1.0.7 | INFO | ibmfl.party.training.crypto_local_training_handler | Local training started...\n",
      "2022-11-18 22:31:30,297 | 1.0.7 | INFO | ibmfl.model.sklearn_SGD_linear_fl_model       | Set warm_start as True\n",
      "2022-11-18 22:31:30,298 | 1.0.7 | WARNING | ibmfl.model.sklearn_SGD_linear_fl_model       | Obtaining class labels based on local dataset. This may cause failures during aggregation when parties have distinctive class labels. \n",
      "2022-11-18 22:31:30,299 | 1.0.7 | INFO | ibmfl.model.sklearn_SGD_linear_fl_model       | Local training epoch 1:\n",
      "2022-11-18 22:31:30,301 | 1.0.7 | INFO | ibmfl.model.sklearn_SGD_linear_fl_model       | Local training epoch 2:\n",
      "2022-11-18 22:31:30,302 | 1.0.7 | INFO | ibmfl.party.training.crypto_local_training_handler | Local training done, start to encrypt model update...\n",
      "2022-11-18 22:31:30,303 | 1.0.7 | INFO | ibmfl.party.training.crypto_local_training_handler | Encrypting - <class 'ibmfl.crypto.helayer.fhe.CryptoFHE'>\n",
      "2022-11-18 22:31:30,322 | 1.0.7 | INFO | ibmfl.party.training.crypto_local_training_handler | Encryption done.\n",
      "2022-11-18 22:31:30,340 | 1.0.7 | INFO | ibmfl.party.training.local_training_handler   | {'score': 0.8, 'acc': 0.8, 'f1': 0.0, 'precision': 0.0, 'recall': 0.0, 'average precision': 0.2, 'roc auc': 0.5, 'negative log loss': 6.91}\n",
      "2022-11-18 22:31:30,344 | 1.0.7 | INFO | ibmfl.party.party_protocol_handler            | successfully finished async request\n",
      "2022-11-18 22:31:35,475 | 1.0.7 | INFO | ibmfl.connection.flask_connection             | Request received for path :7\n",
      "2022-11-18 22:31:35,478 | 1.0.7 | INFO | ibmfl.party.party_protocol_handler            | received a async request\n",
      "2022-11-18 22:31:35,479 | 1.0.7 | INFO | ibmfl.party.party_protocol_handler            | finished async request\n",
      "2022-11-18 22:31:35,479 | 1.0.7 | INFO | ibmfl.party.party_protocol_handler            | Handling async request in a separate thread\n",
      "2022-11-18 22:31:35,481 | 1.0.7 | INFO | werkzeug                                      | 127.0.0.1 - - [18/Nov/2022 22:31:35] \"POST /7 HTTP/1.1\" 200 -\n",
      "2022-11-18 22:31:35,482 | 1.0.7 | INFO | ibmfl.party.party_protocol_handler            | Received request from aggregator\n",
      "2022-11-18 22:31:35,485 | 1.0.7 | INFO | ibmfl.party.party_protocol_handler            | Received request in with message_type:  7\n",
      "2022-11-18 22:31:35,516 | 1.0.7 | INFO | ibmfl.party.party_protocol_handler            | Received request in PH 7\n",
      "2022-11-18 22:31:35,516 | 1.0.7 | INFO | ibmfl.party.training.crypto_local_training_handler | Received encrypted model update.\n",
      "2022-11-18 22:31:35,517 | 1.0.7 | INFO | ibmfl.party.training.crypto_local_training_handler | Decrypting - <class 'ibmfl.crypto.helayer.fhe.CryptoFHE'>\n",
      "2022-11-18 22:31:35,519 | 1.0.7 | INFO | ibmfl.party.training.crypto_local_training_handler | Decryption done.\n",
      "2022-11-18 22:31:35,522 | 1.0.7 | INFO | ibmfl.party.training.local_training_handler   | Local model updated.\n",
      "2022-11-18 22:31:35,523 | 1.0.7 | INFO | ibmfl.party.training.crypto_local_training_handler | Local training started...\n",
      "2022-11-18 22:31:35,523 | 1.0.7 | INFO | ibmfl.model.sklearn_SGD_linear_fl_model       | Set warm_start as True\n",
      "2022-11-18 22:31:35,524 | 1.0.7 | INFO | ibmfl.model.sklearn_SGD_linear_fl_model       | Local training epoch 1:\n",
      "2022-11-18 22:31:35,526 | 1.0.7 | INFO | ibmfl.model.sklearn_SGD_linear_fl_model       | Local training epoch 2:\n",
      "2022-11-18 22:31:35,528 | 1.0.7 | INFO | ibmfl.party.training.crypto_local_training_handler | Local training done, start to encrypt model update...\n",
      "2022-11-18 22:31:35,529 | 1.0.7 | INFO | ibmfl.party.training.crypto_local_training_handler | Encrypting - <class 'ibmfl.crypto.helayer.fhe.CryptoFHE'>\n",
      "2022-11-18 22:31:35,535 | 1.0.7 | INFO | ibmfl.party.training.crypto_local_training_handler | Encryption done.\n",
      "2022-11-18 22:31:35,555 | 1.0.7 | INFO | ibmfl.party.training.local_training_handler   | {'score': 0.625, 'acc': 0.625, 'f1': 0.44, 'precision': 0.32, 'recall': 0.75, 'average precision': 0.29, 'roc auc': 0.67, 'negative log loss': 12.95}\n",
      "2022-11-18 22:31:35,560 | 1.0.7 | INFO | ibmfl.party.party_protocol_handler            | successfully finished async request\n",
      "2022-11-18 22:31:40,603 | 1.0.7 | INFO | ibmfl.connection.flask_connection             | Request received for path :7\n",
      "2022-11-18 22:31:40,606 | 1.0.7 | INFO | ibmfl.party.party_protocol_handler            | received a async request\n",
      "2022-11-18 22:31:40,607 | 1.0.7 | INFO | ibmfl.party.party_protocol_handler            | finished async request\n",
      "2022-11-18 22:31:40,608 | 1.0.7 | INFO | werkzeug                                      | 127.0.0.1 - - [18/Nov/2022 22:31:40] \"POST /7 HTTP/1.1\" 200 -\n",
      "2022-11-18 22:31:40,609 | 1.0.7 | INFO | ibmfl.party.party_protocol_handler            | Handling async request in a separate thread\n",
      "2022-11-18 22:31:40,611 | 1.0.7 | INFO | ibmfl.party.party_protocol_handler            | Received request from aggregator\n",
      "2022-11-18 22:31:40,643 | 1.0.7 | INFO | ibmfl.party.party_protocol_handler            | Received request in with message_type:  7\n",
      "2022-11-18 22:31:40,644 | 1.0.7 | INFO | ibmfl.party.party_protocol_handler            | Received request in PH 7\n",
      "2022-11-18 22:31:40,645 | 1.0.7 | INFO | ibmfl.party.training.crypto_local_training_handler | Received encrypted model update.\n",
      "2022-11-18 22:31:40,646 | 1.0.7 | INFO | ibmfl.party.training.crypto_local_training_handler | Decrypting - <class 'ibmfl.crypto.helayer.fhe.CryptoFHE'>\n",
      "2022-11-18 22:31:40,648 | 1.0.7 | INFO | ibmfl.party.training.crypto_local_training_handler | Decryption done.\n",
      "2022-11-18 22:31:40,649 | 1.0.7 | INFO | ibmfl.party.training.local_training_handler   | Local model updated.\n",
      "2022-11-18 22:31:40,650 | 1.0.7 | INFO | ibmfl.party.training.crypto_local_training_handler | Local training started...\n",
      "2022-11-18 22:31:40,651 | 1.0.7 | INFO | ibmfl.model.sklearn_SGD_linear_fl_model       | Set warm_start as True\n",
      "2022-11-18 22:31:40,653 | 1.0.7 | INFO | ibmfl.model.sklearn_SGD_linear_fl_model       | Local training epoch 1:\n",
      "2022-11-18 22:31:40,654 | 1.0.7 | INFO | ibmfl.model.sklearn_SGD_linear_fl_model       | Local training epoch 2:\n"
     ]
    },
    {
     "name": "stdout",
     "output_type": "stream",
     "text": [
      "2022-11-18 22:31:40,656 | 1.0.7 | INFO | ibmfl.party.training.crypto_local_training_handler | Local training done, start to encrypt model update...\n",
      "2022-11-18 22:31:40,657 | 1.0.7 | INFO | ibmfl.party.training.crypto_local_training_handler | Encrypting - <class 'ibmfl.crypto.helayer.fhe.CryptoFHE'>\n",
      "2022-11-18 22:31:40,662 | 1.0.7 | INFO | ibmfl.party.training.crypto_local_training_handler | Encryption done.\n",
      "2022-11-18 22:31:40,669 | 1.0.7 | INFO | ibmfl.party.training.local_training_handler   | {'score': 0.725, 'acc': 0.725, 'f1': 0.35, 'precision': 0.33, 'recall': 0.38, 'average precision': 0.25, 'roc auc': 0.59, 'negative log loss': 9.5}\n",
      "2022-11-18 22:31:40,670 | 1.0.7 | INFO | ibmfl.party.party_protocol_handler            | successfully finished async request\n",
      "2022-11-18 22:31:45,771 | 1.0.7 | INFO | ibmfl.connection.flask_connection             | Request received for path :7\n",
      "2022-11-18 22:31:45,775 | 1.0.7 | INFO | ibmfl.party.party_protocol_handler            | received a async request\n",
      "2022-11-18 22:31:45,777 | 1.0.7 | INFO | ibmfl.party.party_protocol_handler            | finished async request\n",
      "2022-11-18 22:31:45,777 | 1.0.7 | INFO | ibmfl.party.party_protocol_handler            | Handling async request in a separate thread\n",
      "2022-11-18 22:31:45,778 | 1.0.7 | INFO | werkzeug                                      | 127.0.0.1 - - [18/Nov/2022 22:31:45] \"POST /7 HTTP/1.1\" 200 -\n",
      "2022-11-18 22:31:45,779 | 1.0.7 | INFO | ibmfl.party.party_protocol_handler            | Received request from aggregator\n",
      "2022-11-18 22:31:45,781 | 1.0.7 | INFO | ibmfl.party.party_protocol_handler            | Received request in with message_type:  7\n",
      "2022-11-18 22:31:45,782 | 1.0.7 | INFO | ibmfl.party.party_protocol_handler            | Received request in PH 7\n",
      "2022-11-18 22:31:45,783 | 1.0.7 | INFO | ibmfl.party.training.crypto_local_training_handler | Received encrypted model update.\n",
      "2022-11-18 22:31:45,784 | 1.0.7 | INFO | ibmfl.party.training.crypto_local_training_handler | Decrypting - <class 'ibmfl.crypto.helayer.fhe.CryptoFHE'>\n",
      "2022-11-18 22:31:45,786 | 1.0.7 | INFO | ibmfl.party.training.crypto_local_training_handler | Decryption done.\n",
      "2022-11-18 22:31:45,787 | 1.0.7 | INFO | ibmfl.party.training.local_training_handler   | Local model updated.\n",
      "2022-11-18 22:31:45,788 | 1.0.7 | INFO | ibmfl.party.training.crypto_local_training_handler | Local training started...\n",
      "2022-11-18 22:31:45,789 | 1.0.7 | INFO | ibmfl.model.sklearn_SGD_linear_fl_model       | Set warm_start as True\n",
      "2022-11-18 22:31:45,790 | 1.0.7 | INFO | ibmfl.model.sklearn_SGD_linear_fl_model       | Local training epoch 1:\n",
      "2022-11-18 22:31:45,792 | 1.0.7 | INFO | ibmfl.model.sklearn_SGD_linear_fl_model       | Local training epoch 2:\n",
      "2022-11-18 22:31:45,793 | 1.0.7 | INFO | ibmfl.party.training.crypto_local_training_handler | Local training done, start to encrypt model update...\n",
      "2022-11-18 22:31:45,794 | 1.0.7 | INFO | ibmfl.party.training.crypto_local_training_handler | Encrypting - <class 'ibmfl.crypto.helayer.fhe.CryptoFHE'>\n",
      "2022-11-18 22:31:45,799 | 1.0.7 | INFO | ibmfl.party.training.crypto_local_training_handler | Encryption done.\n",
      "2022-11-18 22:31:45,808 | 1.0.7 | INFO | ibmfl.party.training.local_training_handler   | {'score': 0.6, 'acc': 0.6, 'f1': 0.33, 'precision': 0.25, 'recall': 0.5, 'average precision': 0.22, 'roc auc': 0.56, 'negative log loss': 13.82}\n",
      "2022-11-18 22:31:45,809 | 1.0.7 | INFO | ibmfl.party.party_protocol_handler            | successfully finished async request\n",
      "2022-11-18 22:31:50,845 | 1.0.7 | INFO | ibmfl.connection.flask_connection             | Request received for path :7\n",
      "2022-11-18 22:31:50,857 | 1.0.7 | INFO | ibmfl.party.party_protocol_handler            | received a async request\n",
      "2022-11-18 22:31:50,858 | 1.0.7 | INFO | ibmfl.party.party_protocol_handler            | finished async request\n",
      "2022-11-18 22:31:50,859 | 1.0.7 | INFO | ibmfl.party.party_protocol_handler            | Handling async request in a separate thread\n",
      "2022-11-18 22:31:50,868 | 1.0.7 | INFO | werkzeug                                      | 127.0.0.1 - - [18/Nov/2022 22:31:50] \"POST /7 HTTP/1.1\" 200 -\n",
      "2022-11-18 22:31:50,869 | 1.0.7 | INFO | ibmfl.party.party_protocol_handler            | Received request from aggregator\n",
      "2022-11-18 22:31:50,871 | 1.0.7 | INFO | ibmfl.party.party_protocol_handler            | Received request in with message_type:  7\n",
      "2022-11-18 22:31:50,871 | 1.0.7 | INFO | ibmfl.party.party_protocol_handler            | Received request in PH 7\n",
      "2022-11-18 22:31:50,873 | 1.0.7 | INFO | ibmfl.party.training.crypto_local_training_handler | Received encrypted model update.\n",
      "2022-11-18 22:31:50,874 | 1.0.7 | INFO | ibmfl.party.training.crypto_local_training_handler | Decrypting - <class 'ibmfl.crypto.helayer.fhe.CryptoFHE'>\n",
      "2022-11-18 22:31:50,877 | 1.0.7 | INFO | ibmfl.party.training.crypto_local_training_handler | Decryption done.\n",
      "2022-11-18 22:31:50,881 | 1.0.7 | INFO | ibmfl.party.training.local_training_handler   | Local model updated.\n",
      "2022-11-18 22:31:50,881 | 1.0.7 | INFO | ibmfl.party.training.crypto_local_training_handler | Local training started...\n",
      "2022-11-18 22:31:50,883 | 1.0.7 | INFO | ibmfl.model.sklearn_SGD_linear_fl_model       | Set warm_start as True\n",
      "2022-11-18 22:31:50,887 | 1.0.7 | INFO | ibmfl.model.sklearn_SGD_linear_fl_model       | Local training epoch 1:\n",
      "2022-11-18 22:31:50,889 | 1.0.7 | INFO | ibmfl.model.sklearn_SGD_linear_fl_model       | Local training epoch 2:\n",
      "2022-11-18 22:31:50,895 | 1.0.7 | INFO | ibmfl.party.training.crypto_local_training_handler | Local training done, start to encrypt model update...\n",
      "2022-11-18 22:31:50,896 | 1.0.7 | INFO | ibmfl.party.training.crypto_local_training_handler | Encrypting - <class 'ibmfl.crypto.helayer.fhe.CryptoFHE'>\n",
      "2022-11-18 22:31:50,904 | 1.0.7 | INFO | ibmfl.party.training.crypto_local_training_handler | Encryption done.\n",
      "2022-11-18 22:31:50,914 | 1.0.7 | INFO | ibmfl.party.training.local_training_handler   | {'score': 0.65, 'acc': 0.65, 'f1': 0.3, 'precision': 0.25, 'recall': 0.38, 'average precision': 0.22, 'roc auc': 0.55, 'negative log loss': 12.09}\n",
      "2022-11-18 22:31:50,917 | 1.0.7 | INFO | ibmfl.party.party_protocol_handler            | successfully finished async request\n"
     ]
    }
   ],
   "source": [
    "from ibmfl.party.party import Party\n",
    "\n",
    "party_config = get_party_config(party_id)\n",
    "party = Party(config_dict=party_config)\n",
    "party.start()\n",
    "party.register_party()\n",
    "party.proto_handler.is_private = False  ## allows sharing of metrics with aggregator"
   ]
  },
  {
   "cell_type": "markdown",
   "metadata": {},
   "source": [
    "## Register All Parties Before Starting Training\n",
    "\n",
    "Now we have started and registered this Party. Next, we will start and register rest of the parties. Once all the Parties have registered we will go back to the Aggregator's notebook to start training."
   ]
  },
  {
   "cell_type": "markdown",
   "metadata": {},
   "source": [
    "## Shut Down\n",
    "\n",
    "Invoke the `stop()` method on each of the network participants to terminate the service."
   ]
  },
  {
   "cell_type": "code",
   "execution_count": null,
   "metadata": {},
   "outputs": [],
   "source": [
    "party.stop()"
   ]
  }
 ],
 "metadata": {
  "kernelspec": {
   "display_name": "Python 3.6.8 64-bit",
   "language": "python",
   "name": "python3"
  },
  "language_info": {
   "codemirror_mode": {
    "name": "ipython",
    "version": 3
   },
   "file_extension": ".py",
   "mimetype": "text/x-python",
   "name": "python",
   "nbconvert_exporter": "python",
   "pygments_lexer": "ipython3",
   "version": "3.6.8"
  },
  "vscode": {
   "interpreter": {
    "hash": "31f2aee4e71d21fbe5cf8b01ff0e069b9275f58929596ceb00d14d90e3e16cd6"
   }
  }
 },
 "nbformat": 4,
 "nbformat_minor": 4
}
