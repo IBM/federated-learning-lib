{
 "cells": [
  {
   "cell_type": "markdown",
   "metadata": {},
   "source": [
    "# PyTorch MNIST classifier in IBM FL"
   ]
  },
  {
   "cell_type": "markdown",
   "metadata": {},
   "source": [
    "## Outline:\n",
    "- [Add conda environment to Jupyter Notebook](#setup)\n",
    "- [Federated Learning(FL)](#intro)\n",
    "- [Digit Recognition](#mnist)\n",
    "- [Aggregator](#Aggregator)\n",
    "    - [Aggregator Configuration](#Aggregator-Configuration)\n",
    "    - [Running the Aggregator](#Running-the-Aggregator)\n",
    "- [Starting Parties](#Starting-Parties)\n",
    "- [Training and Evaluation](#Training-and-Evaluation)\n",
    "- [Visualize Results](#Visualize-Results)\n",
    "- [Shut Down](#Shut-Down)"
   ]
  },
  {
   "cell_type": "markdown",
   "metadata": {},
   "source": [
    "## Add conda environment to Jupyter Notebook <a name=\"setup\"></a>\n",
    "\n",
    "Please ensure that you have activated the `conda` environment following the instructions in the project README.\n",
    "\n",
    "Once done, run the following commands in your terminal to install your conda environment into the Jupyter Notebook:\n",
    "\n",
    "1. Once you have activated the conda environment, install the `ipykernel` package: `conda install -c anaconda ipykernel`\n",
    "\n",
    "2. Next, install the `ipykernel` module within Jupyter Notebook: `python -m ipykernel install --user --name=<conda_env>`\n",
    "\n",
    "3. Please install the `matplotlib` package for your conda environment.\n",
    "\n",
    "4. Finally, restart the jupyter notebook once done. Ensure that you are running this Notebook from `<project_path>/Notebooks`, where project_path is the directory where the IBMFL repository was cloned.\n",
    "\n",
    "When the Notebook is up and running it may prompt you to choose the kernel. Use the drop down to choose the kernel name same as that chosen when running `conda activate <conda_env>`. If no prompt shows up, you can change the kernel by clicking _Kernel_ > _Change kernel_ > _`<conda_env>`_."
   ]
  },
  {
   "cell_type": "markdown",
   "metadata": {},
   "source": [
    "## Federated Learning (FL) <a name=\"intro\"></a>\n",
    "\n",
    "**Federated Learning (FL)** is a distributed machine learning process in which each participant node (or party) retains their data locally and interacts with  other participants via a learning protocol. \n",
    "One main driver behind FL is the need to not share data with others  due to privacy and confidentially concerns.\n",
    "Another driver is to improve the speed of training a machine learning model by leveraging other participants' training processes.\n",
    "\n",
    "Setting up such a federated learning system requires setting up a communication infrastructure, converting machine learning algorithms to federated settings and in some cases knowing about the intricacies of security and privacy enabling techniques such as differential privacy and multi-party computation. \n",
    "\n",
    "In this Notebook, we use [IBM FL](https://github.com/IBM/federated-learning-lib) to have multiple parties train a classifier to recognise handwritten digits in the [MNIST dataset](http://yann.lecun.com/exdb/mnist/). Our focus is on a [PyTorch](https://pytorch.org/) model. \n",
    "\n",
    "For a more technical dive into IBM FL, refer the whitepaper [here](https://arxiv.org/pdf/2007.10987.pdf)."
   ]
  },
  {
   "cell_type": "markdown",
   "metadata": {},
   "source": [
    "In the following cells, we set up each of the components of a Federated Learning network (See Figure below) wherein all involved parties aid in training their respective local cartpoles to arrive at the upright pendulum state. In this notebook we default to 5 parties, but depending on your resources you may use fewer parties.\n",
    "\n",
    "<img style=\"display=block; margin:auto\" src=\"../images/FL_Network.png\" width=\"720\"/>\n",
    "<p style=\"text-align: center\">Modified from Image Source: <a href=\"https://arxiv.org/pdf/2007.10987.pdf\">IBM Federated Learning: An Enterprise FrameworkWhite Paper V0.1</a></p>"
   ]
  },
  {
   "cell_type": "markdown",
   "metadata": {},
   "source": [
    "## Digit Recognition <a name=\"mnist\"></a>\n",
    "\n"
   ]
  },
  {
   "cell_type": "markdown",
   "metadata": {},
   "source": [
    "<img style=\"display=block; margin:auto\" src=\"../images/MnistExamples.png\" width=\"512\"/>\n",
    "<p style=\"text-align: center\">Image Source: Josef Steppan / CC BY-SA <a href=\"https://creativecommons.org/licenses/by-sa/4.0\">Wikimedia Commons</a></p>"
   ]
  },
  {
   "cell_type": "markdown",
   "metadata": {},
   "source": [
    "The problem at hand is to recognize digits from these tens of thousands of handwritten images. In this notebook, we are going to assume that the parties and the aggregator are run in the same machine. For that purpose, we first randomly split the training data to each party. Then, we define the neural network definition. After that, we start the aggregator, and we need to register and run all parties by running two other notebooks."
   ]
  },
  {
   "cell_type": "markdown",
   "metadata": {},
   "source": [
    "### Getting things ready\n",
    "We begin by setting the number of parties that will participate in the federated learning run and splitting up the data among them."
   ]
  },
  {
   "cell_type": "code",
   "execution_count": 1,
   "metadata": {},
   "outputs": [],
   "source": [
    "import sys\n",
    "sys.path.append('../..')\n",
    "import os\n",
    "os.chdir(\"../..\")\n",
    "\n",
    "num_parties = 2  ## number of participating parties\n",
    "dataset = 'mnist'"
   ]
  },
  {
   "cell_type": "markdown",
   "metadata": {},
   "source": [
    "We use `examples/generate_data.py` to split the dataset into files for each party. \n",
    "\n",
    "The script allows specifying the number of parties as well as the dataset to use (from several supported datasets: _mnist_, _femnist_, _cifar10_ and many others). \n",
    "\n",
    "The `-pp` argument states how many data points to choose per party. If the option `--stratify` is given, the library stratifies the data proportionally according to the source distribution. If you want to run this notebook in different machines, you can assign samples for each party locally. Then, we define the neural network definition."
   ]
  },
  {
   "cell_type": "code",
   "execution_count": 2,
   "metadata": {},
   "outputs": [
    {
     "name": "stdout",
     "output_type": "stream",
     "text": [
      "Warning: test set and train set contain different labels\n",
      "Party_ 0\n",
      "nb_x_train:  (200, 28, 28) nb_x_test:  (5000, 28, 28)\n",
      "* Label  0  samples:  24\n",
      "* Label  1  samples:  27\n",
      "* Label  2  samples:  22\n",
      "* Label  3  samples:  17\n",
      "* Label  4  samples:  21\n",
      "* Label  5  samples:  15\n",
      "* Label  6  samples:  20\n",
      "* Label  7  samples:  15\n",
      "* Label  8  samples:  21\n",
      "* Label  9  samples:  18\n",
      "Finished! :) Data saved in  examples/data/mnist/random\n",
      "Party_ 1\n",
      "nb_x_train:  (200, 28, 28) nb_x_test:  (5000, 28, 28)\n",
      "* Label  0  samples:  19\n",
      "* Label  1  samples:  18\n",
      "* Label  2  samples:  23\n",
      "* Label  3  samples:  19\n",
      "* Label  4  samples:  22\n",
      "* Label  5  samples:  21\n",
      "* Label  6  samples:  23\n",
      "* Label  7  samples:  10\n",
      "* Label  8  samples:  27\n",
      "* Label  9  samples:  18\n",
      "Finished! :) Data saved in  examples/data/mnist/random\n"
     ]
    }
   ],
   "source": [
    "%run examples/generate_data.py -n $num_parties -d $dataset -pp 200 "
   ]
  },
  {
   "cell_type": "markdown",
   "metadata": {},
   "source": [
    "Generate the PyTorch model definition file using the function `save_model_config` below. Please note that parties data and the model file needs to be copied to the parties if you launch parties on different nodes."
   ]
  },
  {
   "cell_type": "code",
   "execution_count": 3,
   "metadata": {},
   "outputs": [
    {
     "data": {
      "text/plain": [
       "{'name': 'PytorchFLModel',\n",
       " 'path': 'ibmfl.model.pytorch_fl_model',\n",
       " 'spec': {'model_name': 'pytorch-nn',\n",
       "  'model_definition': 'examples/configs/pytorch_classifier/pytorch_sequence.pt',\n",
       "  'optimizer': 'optim.Adam',\n",
       "  'loss_criterion': 'nn.NLLLoss'}}"
      ]
     },
     "execution_count": 3,
     "metadata": {},
     "output_type": "execute_result"
    }
   ],
   "source": [
    "import os\n",
    "import torch\n",
    "from torch import nn\n",
    "\n",
    "def save_model_config(folder_configs):\n",
    "    model = nn.Sequential(nn.Conv2d(1, 32, 3, 1),\n",
    "                          nn.ReLU(),\n",
    "                          nn.Conv2d(32, 64, 3, 1),\n",
    "                          nn.ReLU(),\n",
    "                          nn.MaxPool2d(2, 2),\n",
    "                          nn.Dropout2d(p=0.25),\n",
    "                          nn.Flatten(),\n",
    "                          nn.Linear(9216, 128),\n",
    "                          nn.ReLU(),\n",
    "                          nn.Dropout2d(p=0.5),\n",
    "                          nn.Linear(128, 10),\n",
    "                          nn.LogSoftmax(dim=1)\n",
    "                          )\n",
    "    if not os.path.exists(folder_configs):\n",
    "        os.makedirs(folder_configs)\n",
    "\n",
    "    # Save model\n",
    "    fname = os.path.join(folder_configs, 'pytorch_sequence.pt')\n",
    "    torch.save(model, fname)\n",
    "    # Specify an optimizer class as optim.<optimizer> \n",
    "    # The entire expression should be of type string\n",
    "    # e.g., optimizer = 'optim.SGD'\n",
    "    optimizer = 'optim.Adam'\n",
    "    # Specify a loss criterion as nn.<loss-criterion>\n",
    "    # The entire expression should be of type string\n",
    "    # e.g., criterion = 'nn.NLLLoss'\n",
    "    criterion = 'nn.NLLLoss'\n",
    "    spec = {\n",
    "        'model_name': 'pytorch-nn',\n",
    "        'model_definition': fname,\n",
    "        'optimizer': optimizer,\n",
    "        'loss_criterion': criterion,\n",
    "    }\n",
    "    model = {\n",
    "        'name': 'PytorchFLModel',\n",
    "        'path': 'ibmfl.model.pytorch_fl_model',\n",
    "        'spec': spec,\n",
    "    }\n",
    "    return model\n",
    "save_model_config('examples/configs/pytorch_classifier')"
   ]
  },
  {
   "cell_type": "markdown",
   "metadata": {},
   "source": [
    "## Aggregator"
   ]
  },
  {
   "cell_type": "markdown",
   "metadata": {},
   "source": [
    "coordinates the overall process, communicates with the parties and integrates the results of the training process. This integration of results is done using the _Fusion Algorithm_.\n",
    "\n",
    "A fusion algorithm queries the registered parties to carry out the federated learning process. The queries sent vary according to the model/algorithm type.  In return, parties send their reply as a model update object, and these model updates are then aggregated according to the specified Fusion Algorithm, specified via a `Fusion Handler` class. \n",
    "\n",
    "To take a look at the supported fusion algorithms, refer the IBM FL tutorial page [here](https://github.com/IBM/federated-learning-lib/blob/main/README.md#supported-functionality)."
   ]
  },
  {
   "cell_type": "markdown",
   "metadata": {},
   "source": [
    "### Aggregator Configuration\n",
    "\n",
    "We discuss the various configuration parameters for the Aggregator [here.](https://github.com/IBM/federated-learning-lib/blob/main/docs/tutorials/configure_fl.md#the-aggregators-configuration-file)\n",
    "\n",
    "Given below is an example of the aggregator's configuration file. In this example, the aggregator does not specify a data file or maintain a global model. Hence, during the federated learning process, it only keeps track of the current model parameters. \n",
    "\n",
    "However, it is possible that the aggregator also has data for testing purposes and maintains a global model. When this is the case, one needs to add `data` and `model` sections in the configuration file."
   ]
  },
  {
   "cell_type": "markdown",
   "metadata": {},
   "source": [
    "<img style=\"display=block; margin:auto\" src=\"../images/arch_aggregator.png\" width=\"680\"/>\n",
    "<p style=\"text-align: center\">Image Source: <a href=\"https://arxiv.org/pdf/2007.10987.pdf\">IBM Federated Learning: An Enterprise FrameworkWhite Paper V0.1</a></p>"
   ]
  },
  {
   "cell_type": "markdown",
   "metadata": {},
   "source": [
    "#### Building blocks in the configuration file:\n",
    "\n",
    "- `connection` (also used in Party config): needed to initiate the connection; includes server information (`info`, optional, depends on the connection type), a connection class name, a connection file location, and a synchronization mode flag (`sync`) for training phase\n",
    "\n",
    "- `fusion`: needed to initiate a fusion algorithm at the aggregator side; includes a fusion handler class name and a fusion handler file location\n",
    "\n",
    "- `protocol_handler`: needed to initiate a protocol; includes a protocol handler class name and a protocol handler file location\n",
    "\n",
    "- `hyperparams`: includes global training and local training hyperparameters, including `termination_accuracy`, learning rate (`lr`), `optimizer`, etc., depending on the model being used.\n",
    "\n",
    "For detailed documentation of the objects described below, refer the API docs [here](https://ibmfl.mybluemix.net/api-documentation)."
   ]
  },
  {
   "cell_type": "code",
   "execution_count": 4,
   "metadata": {
    "scrolled": true
   },
   "outputs": [],
   "source": [
    "agg_config = {\n",
    "    'connection': {\n",
    "        'info': {\n",
    "            'ip': '127.0.0.1',\n",
    "            'port': 5000,\n",
    "            'tls_config': {\n",
    "                'enable': 'false'\n",
    "            }\n",
    "        },\n",
    "        'name': 'FlaskConnection',\n",
    "        'path': 'ibmfl.connection.flask_connection',\n",
    "        'sync': 'False'\n",
    "    },\n",
    "    'data': {\n",
    "        'info': {\n",
    "            'npz_file': 'examples/datasets/mnist.npz'\n",
    "        },\n",
    "        'name': 'MnistPytorchDataHandler',\n",
    "        'path': 'ibmfl.util.data_handlers.mnist_pytorch_data_handler'\n",
    "    },\n",
    "    'fusion': {\n",
    "        'name': 'IterAvgFusionHandler',\n",
    "        'path': 'ibmfl.aggregator.fusion.iter_avg_fusion_handler'\n",
    "    },\n",
    "    'hyperparams': {\n",
    "        'global': {\n",
    "            'max_timeout': 60,\n",
    "            'num_parties': num_parties,\n",
    "            'perc_quorum': 1,\n",
    "            'rounds': 12,\n",
    "            'termination_accuracy': 0.9\n",
    "        },\n",
    "        'local': {\n",
    "            'training': {\n",
    "                'epochs': 3,\n",
    "                'lr': 0.01\n",
    "            }\n",
    "        }\n",
    "    },\n",
    "    'protocol_handler': {\n",
    "        'name': 'ProtoHandler',\n",
    "        'path': 'ibmfl.aggregator.protohandler.proto_handler'\n",
    "    }\n",
    "}"
   ]
  },
  {
   "cell_type": "markdown",
   "metadata": {},
   "source": [
    "### Running the Aggregator\n",
    "Next we pass the configuration parameters set in the previous cell to instantiate the `Aggregator` object. Finally, we `start()` the Aggregator process."
   ]
  },
  {
   "cell_type": "code",
   "execution_count": 5,
   "metadata": {
    "scrolled": true
   },
   "outputs": [
    {
     "name": "stdout",
     "output_type": "stream",
     "text": [
      "2022-03-10 12:58:35,394 | 1.0.6 | INFO | ibmfl.util.config                             | Getting Aggregator details from arguments.\n",
      "2022-03-10 12:58:35,397 | 1.0.6 | INFO | ibmfl.util.config                             | No metrics recorder config provided for this setup.\n",
      "2022-03-10 12:58:35,398 | 1.0.6 | INFO | ibmfl.util.config                             | No model config provided for this setup.\n",
      "2022-03-10 12:58:35,629 | 1.0.6 | INFO | ibmfl.util.config                             | No metrics config provided for this setup.\n",
      "2022-03-10 12:58:35,630 | 1.0.6 | INFO | ibmfl.util.config                             | No evidencia recordeer config provided for this setup.\n",
      "2022-03-10 12:58:35,631 | 1.0.6 | INFO | ibmfl.util.data_handlers.mnist_pytorch_data_handler | Loaded training data from examples/datasets/mnist.npz\n",
      "60000 train samples\n",
      "10000 test samples\n",
      "y_train shape: (60000,)\n",
      "60000 train samples\n",
      "10000 test samples\n",
      "2022-03-10 12:58:35,971 | 1.0.6 | INFO | ibmfl.connection.flask_connection             | RestSender initialized\n",
      "2022-03-10 12:58:35,972 | 1.0.6 | INFO | ibmfl.aggregator.protohandler.proto_handler   | State: States.START\n",
      "2022-03-10 12:58:35,973 | 1.0.6 | INFO | ibmfl.connection.flask_connection             | Receiver Initialized\n",
      "2022-03-10 12:58:35,973 | 1.0.6 | INFO | ibmfl.connection.flask_connection             | Initializing Flask application\n",
      "2022-03-10 12:58:35,977 | 1.0.6 | INFO | ibmfl.aggregator.aggregator                   | Aggregator initialization successful\n",
      "2022-03-10 12:58:35,978 | 1.0.6 | INFO | ibmfl.aggregator.aggregator                   | Aggregator start successful\n",
      "2022-03-10 12:58:35,982 | 1.0.6 | INFO | werkzeug                                      |  * Running on http://127.0.0.1:5000/ (Press CTRL+C to quit)\n",
      "2022-03-10 12:58:55,248 | 1.0.6 | INFO | ibmfl.connection.flask_connection             | Request received for path :6\n",
      "2022-03-10 12:58:55,249 | 1.0.6 | INFO | ibmfl.aggregator.protohandler.proto_handler   | Adding party with id party0\n",
      "2022-03-10 12:58:55,250 | 1.0.6 | INFO | ibmfl.aggregator.protohandler.proto_handler   | Total number of registered parties:1\n",
      "2022-03-10 12:58:55,251 | 1.0.6 | INFO | werkzeug                                      | 127.0.0.1 - - [10/Mar/2022 12:58:55] \"POST /6 HTTP/1.1\" 200 -\n",
      "2022-03-10 12:59:13,694 | 1.0.6 | INFO | ibmfl.connection.flask_connection             | Request received for path :6\n",
      "2022-03-10 12:59:13,695 | 1.0.6 | INFO | ibmfl.aggregator.protohandler.proto_handler   | Adding party with id party1\n",
      "2022-03-10 12:59:13,696 | 1.0.6 | INFO | ibmfl.aggregator.protohandler.proto_handler   | Total number of registered parties:2\n",
      "2022-03-10 12:59:13,697 | 1.0.6 | INFO | werkzeug                                      | 127.0.0.1 - - [10/Mar/2022 12:59:13] \"POST /6 HTTP/1.1\" 200 -\n"
     ]
    }
   ],
   "source": [
    "\n",
    "from ibmfl.aggregator.aggregator import Aggregator\n",
    "aggregator = Aggregator(config_dict=agg_config)\n",
    "\n",
    "aggregator.start()"
   ]
  },
  {
   "cell_type": "markdown",
   "metadata": {},
   "source": [
    "<img style=\"display=block; margin:auto\" src=\"../images/arch_party.png\" width=\"680\"/>\n",
    "<p style=\"text-align: center\">Image Source: <a href=\"https://arxiv.org/pdf/2007.10987.pdf\">IBM Federated Learning: An Enterprise FrameworkWhite Paper V0.1</a></p>"
   ]
  },
  {
   "cell_type": "markdown",
   "metadata": {},
   "source": [
    "## Starting Parties\n",
    "\n",
    "Now that we have Aggregator running, next we go to Parties' notebooks (`pytorch_classifier_p0.ipynb` and `pytorch_classifier_p1.ipynb`) to start and register them with the Aggregator. Once all the parties are done with registration, we will move to next step to start training."
   ]
  },
  {
   "cell_type": "markdown",
   "metadata": {},
   "source": [
    "## Training and Evaluation\n",
    "\n",
    "Now that our network has been set up, we begin training the model by invoking the Aggregator's `start_training()` method. \n",
    "\n",
    "This could take some time, depending on your system specifications. Feel free to get your dose of coffee meanwhile ☕"
   ]
  },
  {
   "cell_type": "code",
   "execution_count": 6,
   "metadata": {
    "scrolled": true
   },
   "outputs": [
    {
     "name": "stdout",
     "output_type": "stream",
     "text": [
      "2022-03-10 12:59:21,290 | 1.0.6 | INFO | ibmfl.aggregator.aggregator                   | Initiating Global Training.\n",
      "2022-03-10 12:59:21,291 | 1.0.6 | INFO | ibmfl.aggregator.fusion.fusion_handler        | Warm start disabled.\n",
      "2022-03-10 12:59:21,292 | 1.0.6 | INFO | ibmfl.aggregator.fusion.iter_avg_fusion_handler | Model updateNone\n",
      "2022-03-10 12:59:21,293 | 1.0.6 | INFO | ibmfl.aggregator.fusion.fusion_state_service  | Fusion state States.SND_MODEL\n",
      "2022-03-10 12:59:21,294 | 1.0.6 | INFO | ibmfl.aggregator.protohandler.proto_handler   | State: States.SND_REQ\n",
      "2022-03-10 12:59:21,404 | 1.0.6 | INFO | ibmfl.aggregator.protohandler.proto_handler   | Total number of success responses :2\n",
      "2022-03-10 12:59:21,409 | 1.0.6 | INFO | ibmfl.aggregator.protohandler.proto_handler   | Number of parties queried:2\n",
      "2022-03-10 12:59:21,412 | 1.0.6 | INFO | ibmfl.aggregator.protohandler.proto_handler   | Number of registered parties:2\n",
      "2022-03-10 12:59:21,414 | 1.0.6 | INFO | ibmfl.aggregator.protohandler.proto_handler   | State: States.QUORUM_WAIT\n",
      "2022-03-10 12:59:25,051 | 1.0.6 | INFO | ibmfl.connection.flask_connection             | Request received for path :7\n",
      "2022-03-10 12:59:25,055 | 1.0.6 | INFO | ibmfl.connection.flask_connection             | Request received for path :7\n",
      "2022-03-10 12:59:25,097 | 1.0.6 | INFO | werkzeug                                      | 127.0.0.1 - - [10/Mar/2022 12:59:25] \"POST /7 HTTP/1.1\" 200 -\n",
      "2022-03-10 12:59:25,140 | 1.0.6 | INFO | werkzeug                                      | 127.0.0.1 - - [10/Mar/2022 12:59:25] \"POST /7 HTTP/1.1\" 200 -\n",
      "2022-03-10 12:59:26,419 | 1.0.6 | INFO | ibmfl.aggregator.protohandler.proto_handler   | Timeout:60 Time spent:5\n",
      "2022-03-10 12:59:26,420 | 1.0.6 | INFO | ibmfl.aggregator.protohandler.proto_handler   | State: States.PROC_RSP\n",
      "2022-03-10 12:59:26,421 | 1.0.6 | INFO | ibmfl.aggregator.fusion.fusion_state_service  | Fusion state States.RCV_MODEL\n",
      "2022-03-10 12:59:26,422 | 1.0.6 | INFO | ibmfl.aggregator.fusion.fusion_state_service  | Fusion state States.AGGREGATING\n",
      "2022-03-10 12:59:26,435 | 1.0.6 | INFO | ibmfl.aggregator.fusion.iter_avg_fusion_handler | Model update<ibmfl.model.model_update.ModelUpdate object at 0x7fca80252320>\n",
      "2022-03-10 12:59:26,436 | 1.0.6 | INFO | ibmfl.aggregator.fusion.fusion_state_service  | Fusion state States.SND_MODEL\n",
      "2022-03-10 12:59:26,437 | 1.0.6 | INFO | ibmfl.aggregator.protohandler.proto_handler   | State: States.SND_REQ\n"
     ]
    },
    {
     "name": "stderr",
     "output_type": "stream",
     "text": [
      "/Users/swanandkadhe/Documents/Research/Programs/Git_repos/FFL/ibmfl/aggregator/fusion/iter_avg_fusion_handler.py:158: VisibleDeprecationWarning: Creating an ndarray from ragged nested sequences (which is a list-or-tuple of lists-or-tuples-or ndarrays with different lengths or shapes) is deprecated. If you meant to do this, you must specify 'dtype=object' when creating the ndarray\n",
      "  update = np.array(update.get(key))\n"
     ]
    },
    {
     "name": "stdout",
     "output_type": "stream",
     "text": [
      "2022-03-10 12:59:26,647 | 1.0.6 | INFO | ibmfl.aggregator.protohandler.proto_handler   | Total number of success responses :2\n",
      "2022-03-10 12:59:26,649 | 1.0.6 | INFO | ibmfl.aggregator.protohandler.proto_handler   | Number of parties queried:2\n",
      "2022-03-10 12:59:26,651 | 1.0.6 | INFO | ibmfl.aggregator.protohandler.proto_handler   | Number of registered parties:2\n",
      "2022-03-10 12:59:26,652 | 1.0.6 | INFO | ibmfl.aggregator.protohandler.proto_handler   | State: States.QUORUM_WAIT\n",
      "2022-03-10 12:59:30,017 | 1.0.6 | INFO | ibmfl.connection.flask_connection             | Request received for path :7\n",
      "2022-03-10 12:59:30,061 | 1.0.6 | INFO | werkzeug                                      | 127.0.0.1 - - [10/Mar/2022 12:59:30] \"POST /7 HTTP/1.1\" 200 -\n",
      "2022-03-10 12:59:30,061 | 1.0.6 | INFO | ibmfl.connection.flask_connection             | Request received for path :7\n",
      "2022-03-10 12:59:30,104 | 1.0.6 | INFO | werkzeug                                      | 127.0.0.1 - - [10/Mar/2022 12:59:30] \"POST /7 HTTP/1.1\" 200 -\n",
      "2022-03-10 12:59:31,658 | 1.0.6 | INFO | ibmfl.aggregator.protohandler.proto_handler   | Timeout:60 Time spent:5\n",
      "2022-03-10 12:59:31,659 | 1.0.6 | INFO | ibmfl.aggregator.protohandler.proto_handler   | State: States.PROC_RSP\n",
      "2022-03-10 12:59:31,661 | 1.0.6 | INFO | ibmfl.aggregator.fusion.fusion_state_service  | Fusion state States.RCV_MODEL\n",
      "2022-03-10 12:59:31,662 | 1.0.6 | INFO | ibmfl.aggregator.fusion.fusion_state_service  | Fusion state States.AGGREGATING\n",
      "2022-03-10 12:59:31,681 | 1.0.6 | INFO | ibmfl.aggregator.fusion.iter_avg_fusion_handler | Model update<ibmfl.model.model_update.ModelUpdate object at 0x7fcac0ce46d8>\n",
      "2022-03-10 12:59:31,682 | 1.0.6 | INFO | ibmfl.aggregator.fusion.fusion_state_service  | Fusion state States.SND_MODEL\n",
      "2022-03-10 12:59:31,683 | 1.0.6 | INFO | ibmfl.aggregator.protohandler.proto_handler   | State: States.SND_REQ\n",
      "2022-03-10 12:59:31,898 | 1.0.6 | INFO | ibmfl.aggregator.protohandler.proto_handler   | Total number of success responses :2\n",
      "2022-03-10 12:59:31,901 | 1.0.6 | INFO | ibmfl.aggregator.protohandler.proto_handler   | Number of parties queried:2\n",
      "2022-03-10 12:59:31,902 | 1.0.6 | INFO | ibmfl.aggregator.protohandler.proto_handler   | Number of registered parties:2\n",
      "2022-03-10 12:59:31,904 | 1.0.6 | INFO | ibmfl.aggregator.protohandler.proto_handler   | State: States.QUORUM_WAIT\n",
      "2022-03-10 12:59:35,306 | 1.0.6 | INFO | ibmfl.connection.flask_connection             | Request received for path :7\n",
      "2022-03-10 12:59:35,346 | 1.0.6 | INFO | werkzeug                                      | 127.0.0.1 - - [10/Mar/2022 12:59:35] \"POST /7 HTTP/1.1\" 200 -\n",
      "2022-03-10 12:59:35,347 | 1.0.6 | INFO | ibmfl.connection.flask_connection             | Request received for path :7\n",
      "2022-03-10 12:59:35,387 | 1.0.6 | INFO | werkzeug                                      | 127.0.0.1 - - [10/Mar/2022 12:59:35] \"POST /7 HTTP/1.1\" 200 -\n",
      "2022-03-10 12:59:36,909 | 1.0.6 | INFO | ibmfl.aggregator.protohandler.proto_handler   | Timeout:60 Time spent:5\n",
      "2022-03-10 12:59:36,910 | 1.0.6 | INFO | ibmfl.aggregator.protohandler.proto_handler   | State: States.PROC_RSP\n",
      "2022-03-10 12:59:36,911 | 1.0.6 | INFO | ibmfl.aggregator.fusion.fusion_state_service  | Fusion state States.RCV_MODEL\n",
      "2022-03-10 12:59:36,912 | 1.0.6 | INFO | ibmfl.aggregator.fusion.fusion_state_service  | Fusion state States.AGGREGATING\n",
      "2022-03-10 12:59:36,927 | 1.0.6 | INFO | ibmfl.aggregator.fusion.iter_avg_fusion_handler | Model update<ibmfl.model.model_update.ModelUpdate object at 0x7fcac0ce4668>\n",
      "2022-03-10 12:59:36,928 | 1.0.6 | INFO | ibmfl.aggregator.fusion.fusion_state_service  | Fusion state States.SND_MODEL\n",
      "2022-03-10 12:59:36,928 | 1.0.6 | INFO | ibmfl.aggregator.protohandler.proto_handler   | State: States.SND_REQ\n",
      "2022-03-10 12:59:37,135 | 1.0.6 | INFO | ibmfl.aggregator.protohandler.proto_handler   | Total number of success responses :2\n",
      "2022-03-10 12:59:37,136 | 1.0.6 | INFO | ibmfl.aggregator.protohandler.proto_handler   | Number of parties queried:2\n",
      "2022-03-10 12:59:37,137 | 1.0.6 | INFO | ibmfl.aggregator.protohandler.proto_handler   | Number of registered parties:2\n",
      "2022-03-10 12:59:37,138 | 1.0.6 | INFO | ibmfl.aggregator.protohandler.proto_handler   | State: States.QUORUM_WAIT\n",
      "2022-03-10 12:59:40,581 | 1.0.6 | INFO | ibmfl.connection.flask_connection             | Request received for path :7\n",
      "2022-03-10 12:59:40,618 | 1.0.6 | INFO | werkzeug                                      | 127.0.0.1 - - [10/Mar/2022 12:59:40] \"POST /7 HTTP/1.1\" 200 -\n",
      "2022-03-10 12:59:40,619 | 1.0.6 | INFO | ibmfl.connection.flask_connection             | Request received for path :7\n",
      "2022-03-10 12:59:40,659 | 1.0.6 | INFO | werkzeug                                      | 127.0.0.1 - - [10/Mar/2022 12:59:40] \"POST /7 HTTP/1.1\" 200 -\n",
      "2022-03-10 12:59:42,144 | 1.0.6 | INFO | ibmfl.aggregator.protohandler.proto_handler   | Timeout:60 Time spent:5\n",
      "2022-03-10 12:59:42,146 | 1.0.6 | INFO | ibmfl.aggregator.protohandler.proto_handler   | State: States.PROC_RSP\n",
      "2022-03-10 12:59:42,147 | 1.0.6 | INFO | ibmfl.aggregator.fusion.fusion_state_service  | Fusion state States.RCV_MODEL\n",
      "2022-03-10 12:59:42,148 | 1.0.6 | INFO | ibmfl.aggregator.fusion.fusion_state_service  | Fusion state States.AGGREGATING\n",
      "2022-03-10 12:59:42,161 | 1.0.6 | INFO | ibmfl.aggregator.fusion.iter_avg_fusion_handler | Model update<ibmfl.model.model_update.ModelUpdate object at 0x7fca80252320>\n",
      "2022-03-10 12:59:42,162 | 1.0.6 | INFO | ibmfl.aggregator.fusion.fusion_state_service  | Fusion state States.SND_MODEL\n",
      "2022-03-10 12:59:42,163 | 1.0.6 | INFO | ibmfl.aggregator.protohandler.proto_handler   | State: States.SND_REQ\n",
      "2022-03-10 12:59:42,371 | 1.0.6 | INFO | ibmfl.aggregator.protohandler.proto_handler   | Total number of success responses :2\n",
      "2022-03-10 12:59:42,372 | 1.0.6 | INFO | ibmfl.aggregator.protohandler.proto_handler   | Number of parties queried:2\n",
      "2022-03-10 12:59:42,374 | 1.0.6 | INFO | ibmfl.aggregator.protohandler.proto_handler   | Number of registered parties:2\n",
      "2022-03-10 12:59:42,375 | 1.0.6 | INFO | ibmfl.aggregator.protohandler.proto_handler   | State: States.QUORUM_WAIT\n",
      "2022-03-10 12:59:45,724 | 1.0.6 | INFO | ibmfl.connection.flask_connection             | Request received for path :7\n",
      "2022-03-10 12:59:45,758 | 1.0.6 | INFO | ibmfl.connection.flask_connection             | Request received for path :7\n",
      "2022-03-10 12:59:45,761 | 1.0.6 | INFO | werkzeug                                      | 127.0.0.1 - - [10/Mar/2022 12:59:45] \"POST /7 HTTP/1.1\" 200 -\n",
      "2022-03-10 12:59:45,801 | 1.0.6 | INFO | werkzeug                                      | 127.0.0.1 - - [10/Mar/2022 12:59:45] \"POST /7 HTTP/1.1\" 200 -\n",
      "2022-03-10 12:59:47,380 | 1.0.6 | INFO | ibmfl.aggregator.protohandler.proto_handler   | Timeout:60 Time spent:5\n",
      "2022-03-10 12:59:47,382 | 1.0.6 | INFO | ibmfl.aggregator.protohandler.proto_handler   | State: States.PROC_RSP\n",
      "2022-03-10 12:59:47,383 | 1.0.6 | INFO | ibmfl.aggregator.fusion.fusion_state_service  | Fusion state States.RCV_MODEL\n",
      "2022-03-10 12:59:47,384 | 1.0.6 | INFO | ibmfl.aggregator.fusion.fusion_state_service  | Fusion state States.AGGREGATING\n",
      "2022-03-10 12:59:47,400 | 1.0.6 | INFO | ibmfl.aggregator.fusion.iter_avg_fusion_handler | Model update<ibmfl.model.model_update.ModelUpdate object at 0x7fcac0cb77b8>\n",
      "2022-03-10 12:59:47,401 | 1.0.6 | INFO | ibmfl.aggregator.fusion.fusion_state_service  | Fusion state States.SND_MODEL\n",
      "2022-03-10 12:59:47,402 | 1.0.6 | INFO | ibmfl.aggregator.protohandler.proto_handler   | State: States.SND_REQ\n",
      "2022-03-10 12:59:47,611 | 1.0.6 | INFO | ibmfl.aggregator.protohandler.proto_handler   | Total number of success responses :2\n",
      "2022-03-10 12:59:47,613 | 1.0.6 | INFO | ibmfl.aggregator.protohandler.proto_handler   | Number of parties queried:2\n",
      "2022-03-10 12:59:47,617 | 1.0.6 | INFO | ibmfl.aggregator.protohandler.proto_handler   | Number of registered parties:2\n",
      "2022-03-10 12:59:47,620 | 1.0.6 | INFO | ibmfl.aggregator.protohandler.proto_handler   | State: States.QUORUM_WAIT\n",
      "2022-03-10 12:59:51,016 | 1.0.6 | INFO | ibmfl.connection.flask_connection             | Request received for path :7\n",
      "2022-03-10 12:59:51,032 | 1.0.6 | INFO | ibmfl.connection.flask_connection             | Request received for path :7\n",
      "2022-03-10 12:59:51,055 | 1.0.6 | INFO | werkzeug                                      | 127.0.0.1 - - [10/Mar/2022 12:59:51] \"POST /7 HTTP/1.1\" 200 -\n",
      "2022-03-10 12:59:51,092 | 1.0.6 | INFO | werkzeug                                      | 127.0.0.1 - - [10/Mar/2022 12:59:51] \"POST /7 HTTP/1.1\" 200 -\n",
      "2022-03-10 12:59:52,622 | 1.0.6 | INFO | ibmfl.aggregator.protohandler.proto_handler   | Timeout:60 Time spent:5\n",
      "2022-03-10 12:59:52,623 | 1.0.6 | INFO | ibmfl.aggregator.protohandler.proto_handler   | State: States.PROC_RSP\n",
      "2022-03-10 12:59:52,623 | 1.0.6 | INFO | ibmfl.aggregator.fusion.fusion_state_service  | Fusion state States.RCV_MODEL\n",
      "2022-03-10 12:59:52,624 | 1.0.6 | INFO | ibmfl.aggregator.fusion.fusion_state_service  | Fusion state States.AGGREGATING\n",
      "2022-03-10 12:59:52,638 | 1.0.6 | INFO | ibmfl.aggregator.fusion.iter_avg_fusion_handler | Model update<ibmfl.model.model_update.ModelUpdate object at 0x7fca80252320>\n",
      "2022-03-10 12:59:52,639 | 1.0.6 | INFO | ibmfl.aggregator.fusion.fusion_state_service  | Fusion state States.SND_MODEL\n",
      "2022-03-10 12:59:52,639 | 1.0.6 | INFO | ibmfl.aggregator.protohandler.proto_handler   | State: States.SND_REQ\n",
      "2022-03-10 12:59:52,849 | 1.0.6 | INFO | ibmfl.aggregator.protohandler.proto_handler   | Total number of success responses :2\n",
      "2022-03-10 12:59:52,851 | 1.0.6 | INFO | ibmfl.aggregator.protohandler.proto_handler   | Number of parties queried:2\n",
      "2022-03-10 12:59:52,852 | 1.0.6 | INFO | ibmfl.aggregator.protohandler.proto_handler   | Number of registered parties:2\n",
      "2022-03-10 12:59:52,854 | 1.0.6 | INFO | ibmfl.aggregator.protohandler.proto_handler   | State: States.QUORUM_WAIT\n",
      "2022-03-10 12:59:56,207 | 1.0.6 | INFO | ibmfl.connection.flask_connection             | Request received for path :7\n",
      "2022-03-10 12:59:56,244 | 1.0.6 | INFO | ibmfl.connection.flask_connection             | Request received for path :7\n",
      "2022-03-10 12:59:56,247 | 1.0.6 | INFO | werkzeug                                      | 127.0.0.1 - - [10/Mar/2022 12:59:56] \"POST /7 HTTP/1.1\" 200 -\n",
      "2022-03-10 12:59:56,287 | 1.0.6 | INFO | werkzeug                                      | 127.0.0.1 - - [10/Mar/2022 12:59:56] \"POST /7 HTTP/1.1\" 200 -\n",
      "2022-03-10 12:59:57,859 | 1.0.6 | INFO | ibmfl.aggregator.protohandler.proto_handler   | Timeout:60 Time spent:5\n",
      "2022-03-10 12:59:57,861 | 1.0.6 | INFO | ibmfl.aggregator.protohandler.proto_handler   | State: States.PROC_RSP\n",
      "2022-03-10 12:59:57,862 | 1.0.6 | INFO | ibmfl.aggregator.fusion.fusion_state_service  | Fusion state States.RCV_MODEL\n",
      "2022-03-10 12:59:57,863 | 1.0.6 | INFO | ibmfl.aggregator.fusion.fusion_state_service  | Fusion state States.AGGREGATING\n",
      "2022-03-10 12:59:57,875 | 1.0.6 | INFO | ibmfl.aggregator.fusion.iter_avg_fusion_handler | Model update<ibmfl.model.model_update.ModelUpdate object at 0x7fca48f6cf60>\n",
      "2022-03-10 12:59:57,876 | 1.0.6 | INFO | ibmfl.aggregator.fusion.fusion_state_service  | Fusion state States.SND_MODEL\n",
      "2022-03-10 12:59:57,877 | 1.0.6 | INFO | ibmfl.aggregator.protohandler.proto_handler   | State: States.SND_REQ\n",
      "2022-03-10 12:59:58,086 | 1.0.6 | INFO | ibmfl.aggregator.protohandler.proto_handler   | Total number of success responses :2\n",
      "2022-03-10 12:59:58,088 | 1.0.6 | INFO | ibmfl.aggregator.protohandler.proto_handler   | Number of parties queried:2\n",
      "2022-03-10 12:59:58,090 | 1.0.6 | INFO | ibmfl.aggregator.protohandler.proto_handler   | Number of registered parties:2\n",
      "2022-03-10 12:59:58,091 | 1.0.6 | INFO | ibmfl.aggregator.protohandler.proto_handler   | State: States.QUORUM_WAIT\n",
      "2022-03-10 13:00:01,532 | 1.0.6 | INFO | ibmfl.connection.flask_connection             | Request received for path :7\n",
      "2022-03-10 13:00:01,554 | 1.0.6 | INFO | ibmfl.connection.flask_connection             | Request received for path :7\n",
      "2022-03-10 13:00:01,578 | 1.0.6 | INFO | werkzeug                                      | 127.0.0.1 - - [10/Mar/2022 13:00:01] \"POST /7 HTTP/1.1\" 200 -\n",
      "2022-03-10 13:00:01,620 | 1.0.6 | INFO | werkzeug                                      | 127.0.0.1 - - [10/Mar/2022 13:00:01] \"POST /7 HTTP/1.1\" 200 -\n",
      "2022-03-10 13:00:03,096 | 1.0.6 | INFO | ibmfl.aggregator.protohandler.proto_handler   | Timeout:60 Time spent:5\n",
      "2022-03-10 13:00:03,096 | 1.0.6 | INFO | ibmfl.aggregator.protohandler.proto_handler   | State: States.PROC_RSP\n",
      "2022-03-10 13:00:03,097 | 1.0.6 | INFO | ibmfl.aggregator.fusion.fusion_state_service  | Fusion state States.RCV_MODEL\n",
      "2022-03-10 13:00:03,098 | 1.0.6 | INFO | ibmfl.aggregator.fusion.fusion_state_service  | Fusion state States.AGGREGATING\n",
      "2022-03-10 13:00:03,113 | 1.0.6 | INFO | ibmfl.aggregator.fusion.iter_avg_fusion_handler | Model update<ibmfl.model.model_update.ModelUpdate object at 0x7fcac0cb77b8>\n",
      "2022-03-10 13:00:03,114 | 1.0.6 | INFO | ibmfl.aggregator.fusion.fusion_state_service  | Fusion state States.SND_MODEL\n",
      "2022-03-10 13:00:03,115 | 1.0.6 | INFO | ibmfl.aggregator.protohandler.proto_handler   | State: States.SND_REQ\n",
      "2022-03-10 13:00:03,322 | 1.0.6 | INFO | ibmfl.aggregator.protohandler.proto_handler   | Total number of success responses :2\n",
      "2022-03-10 13:00:03,323 | 1.0.6 | INFO | ibmfl.aggregator.protohandler.proto_handler   | Number of parties queried:2\n",
      "2022-03-10 13:00:03,324 | 1.0.6 | INFO | ibmfl.aggregator.protohandler.proto_handler   | Number of registered parties:2\n",
      "2022-03-10 13:00:03,326 | 1.0.6 | INFO | ibmfl.aggregator.protohandler.proto_handler   | State: States.QUORUM_WAIT\n",
      "2022-03-10 13:00:06,722 | 1.0.6 | INFO | ibmfl.connection.flask_connection             | Request received for path :7\n",
      "2022-03-10 13:00:06,760 | 1.0.6 | INFO | ibmfl.connection.flask_connection             | Request received for path :7\n",
      "2022-03-10 13:00:06,763 | 1.0.6 | INFO | werkzeug                                      | 127.0.0.1 - - [10/Mar/2022 13:00:06] \"POST /7 HTTP/1.1\" 200 -\n",
      "2022-03-10 13:00:06,805 | 1.0.6 | INFO | werkzeug                                      | 127.0.0.1 - - [10/Mar/2022 13:00:06] \"POST /7 HTTP/1.1\" 200 -\n",
      "2022-03-10 13:00:08,333 | 1.0.6 | INFO | ibmfl.aggregator.protohandler.proto_handler   | Timeout:60 Time spent:5\n",
      "2022-03-10 13:00:08,334 | 1.0.6 | INFO | ibmfl.aggregator.protohandler.proto_handler   | State: States.PROC_RSP\n",
      "2022-03-10 13:00:08,335 | 1.0.6 | INFO | ibmfl.aggregator.fusion.fusion_state_service  | Fusion state States.RCV_MODEL\n",
      "2022-03-10 13:00:08,336 | 1.0.6 | INFO | ibmfl.aggregator.fusion.fusion_state_service  | Fusion state States.AGGREGATING\n",
      "2022-03-10 13:00:08,349 | 1.0.6 | INFO | ibmfl.aggregator.fusion.iter_avg_fusion_handler | Model update<ibmfl.model.model_update.ModelUpdate object at 0x7fca80252320>\n",
      "2022-03-10 13:00:08,350 | 1.0.6 | INFO | ibmfl.aggregator.fusion.fusion_state_service  | Fusion state States.SND_MODEL\n",
      "2022-03-10 13:00:08,351 | 1.0.6 | INFO | ibmfl.aggregator.protohandler.proto_handler   | State: States.SND_REQ\n",
      "2022-03-10 13:00:08,559 | 1.0.6 | INFO | ibmfl.aggregator.protohandler.proto_handler   | Total number of success responses :2\n",
      "2022-03-10 13:00:08,560 | 1.0.6 | INFO | ibmfl.aggregator.protohandler.proto_handler   | Number of parties queried:2\n",
      "2022-03-10 13:00:08,561 | 1.0.6 | INFO | ibmfl.aggregator.protohandler.proto_handler   | Number of registered parties:2\n",
      "2022-03-10 13:00:08,562 | 1.0.6 | INFO | ibmfl.aggregator.protohandler.proto_handler   | State: States.QUORUM_WAIT\n",
      "2022-03-10 13:00:11,914 | 1.0.6 | INFO | ibmfl.connection.flask_connection             | Request received for path :7\n",
      "2022-03-10 13:00:11,920 | 1.0.6 | INFO | ibmfl.connection.flask_connection             | Request received for path :7\n",
      "2022-03-10 13:00:11,996 | 1.0.6 | INFO | werkzeug                                      | 127.0.0.1 - - [10/Mar/2022 13:00:11] \"POST /7 HTTP/1.1\" 200 -\n",
      "2022-03-10 13:00:12,023 | 1.0.6 | INFO | werkzeug                                      | 127.0.0.1 - - [10/Mar/2022 13:00:12] \"POST /7 HTTP/1.1\" 200 -\n",
      "2022-03-10 13:00:13,568 | 1.0.6 | INFO | ibmfl.aggregator.protohandler.proto_handler   | Timeout:60 Time spent:5\n",
      "2022-03-10 13:00:13,569 | 1.0.6 | INFO | ibmfl.aggregator.protohandler.proto_handler   | State: States.PROC_RSP\n",
      "2022-03-10 13:00:13,569 | 1.0.6 | INFO | ibmfl.aggregator.fusion.fusion_state_service  | Fusion state States.RCV_MODEL\n",
      "2022-03-10 13:00:13,570 | 1.0.6 | INFO | ibmfl.aggregator.fusion.fusion_state_service  | Fusion state States.AGGREGATING\n",
      "2022-03-10 13:00:13,583 | 1.0.6 | INFO | ibmfl.aggregator.fusion.iter_avg_fusion_handler | Model update<ibmfl.model.model_update.ModelUpdate object at 0x7fcac0ce66d8>\n",
      "2022-03-10 13:00:13,584 | 1.0.6 | INFO | ibmfl.aggregator.fusion.fusion_state_service  | Fusion state States.SND_MODEL\n",
      "2022-03-10 13:00:13,585 | 1.0.6 | INFO | ibmfl.aggregator.protohandler.proto_handler   | State: States.SND_REQ\n",
      "2022-03-10 13:00:13,795 | 1.0.6 | INFO | ibmfl.aggregator.protohandler.proto_handler   | Total number of success responses :2\n",
      "2022-03-10 13:00:13,796 | 1.0.6 | INFO | ibmfl.aggregator.protohandler.proto_handler   | Number of parties queried:2\n",
      "2022-03-10 13:00:13,797 | 1.0.6 | INFO | ibmfl.aggregator.protohandler.proto_handler   | Number of registered parties:2\n",
      "2022-03-10 13:00:13,798 | 1.0.6 | INFO | ibmfl.aggregator.protohandler.proto_handler   | State: States.QUORUM_WAIT\n",
      "2022-03-10 13:00:17,156 | 1.0.6 | INFO | ibmfl.connection.flask_connection             | Request received for path :7\n",
      "2022-03-10 13:00:17,194 | 1.0.6 | INFO | werkzeug                                      | 127.0.0.1 - - [10/Mar/2022 13:00:17] \"POST /7 HTTP/1.1\" 200 -\n",
      "2022-03-10 13:00:17,195 | 1.0.6 | INFO | ibmfl.connection.flask_connection             | Request received for path :7\n",
      "2022-03-10 13:00:17,231 | 1.0.6 | INFO | werkzeug                                      | 127.0.0.1 - - [10/Mar/2022 13:00:17] \"POST /7 HTTP/1.1\" 200 -\n",
      "2022-03-10 13:00:18,803 | 1.0.6 | INFO | ibmfl.aggregator.protohandler.proto_handler   | Timeout:60 Time spent:5\n",
      "2022-03-10 13:00:18,805 | 1.0.6 | INFO | ibmfl.aggregator.protohandler.proto_handler   | State: States.PROC_RSP\n",
      "2022-03-10 13:00:18,806 | 1.0.6 | INFO | ibmfl.aggregator.fusion.fusion_state_service  | Fusion state States.RCV_MODEL\n",
      "2022-03-10 13:00:18,807 | 1.0.6 | INFO | ibmfl.aggregator.fusion.fusion_state_service  | Fusion state States.AGGREGATING\n",
      "2022-03-10 13:00:18,821 | 1.0.6 | INFO | ibmfl.aggregator.fusion.iter_avg_fusion_handler | Model update<ibmfl.model.model_update.ModelUpdate object at 0x7fca80252320>\n",
      "2022-03-10 13:00:18,822 | 1.0.6 | INFO | ibmfl.aggregator.fusion.fusion_state_service  | Fusion state States.SND_MODEL\n",
      "2022-03-10 13:00:18,822 | 1.0.6 | INFO | ibmfl.aggregator.protohandler.proto_handler   | State: States.SND_REQ\n",
      "2022-03-10 13:00:19,042 | 1.0.6 | INFO | ibmfl.aggregator.protohandler.proto_handler   | Total number of success responses :2\n",
      "2022-03-10 13:00:19,043 | 1.0.6 | INFO | ibmfl.aggregator.protohandler.proto_handler   | Number of parties queried:2\n",
      "2022-03-10 13:00:19,044 | 1.0.6 | INFO | ibmfl.aggregator.protohandler.proto_handler   | Number of registered parties:2\n",
      "2022-03-10 13:00:19,046 | 1.0.6 | INFO | ibmfl.aggregator.protohandler.proto_handler   | State: States.QUORUM_WAIT\n",
      "2022-03-10 13:00:22,472 | 1.0.6 | INFO | ibmfl.connection.flask_connection             | Request received for path :7\n",
      "2022-03-10 13:00:22,508 | 1.0.6 | INFO | werkzeug                                      | 127.0.0.1 - - [10/Mar/2022 13:00:22] \"POST /7 HTTP/1.1\" 200 -\n",
      "2022-03-10 13:00:22,508 | 1.0.6 | INFO | ibmfl.connection.flask_connection             | Request received for path :7\n",
      "2022-03-10 13:00:22,548 | 1.0.6 | INFO | werkzeug                                      | 127.0.0.1 - - [10/Mar/2022 13:00:22] \"POST /7 HTTP/1.1\" 200 -\n",
      "2022-03-10 13:00:24,055 | 1.0.6 | INFO | ibmfl.aggregator.protohandler.proto_handler   | Timeout:60 Time spent:5\n",
      "2022-03-10 13:00:24,056 | 1.0.6 | INFO | ibmfl.aggregator.protohandler.proto_handler   | State: States.PROC_RSP\n",
      "2022-03-10 13:00:24,057 | 1.0.6 | INFO | ibmfl.aggregator.fusion.fusion_state_service  | Fusion state States.RCV_MODEL\n",
      "2022-03-10 13:00:24,057 | 1.0.6 | INFO | ibmfl.aggregator.fusion.fusion_state_service  | Fusion state States.AGGREGATING\n",
      "2022-03-10 13:00:24,066 | 1.0.6 | INFO | ibmfl.aggregator.fusion.iter_avg_fusion_handler | Reached maximum global rounds. Finish training :) \n",
      "2022-03-10 13:00:24,069 | 1.0.6 | INFO | ibmfl.aggregator.aggregator                   | Finished Global Training\n"
     ]
    },
    {
     "data": {
      "text/plain": [
       "True"
      ]
     },
     "execution_count": 6,
     "metadata": {},
     "output_type": "execute_result"
    }
   ],
   "source": [
    "\"\"\"\n",
    "#1 Initialize the metrics collector variables\n",
    "\"\"\"\n",
    "num_parties = agg_config['hyperparams']['global']['num_parties']\n",
    "eval_party_accuracy = [[] for _ in range(num_parties)]\n",
    "iterations = [[] for _ in range(num_parties)]\n",
    "\n",
    "\"\"\"\n",
    "#2 Register handler for metrics collector\n",
    "\"\"\"\n",
    "def get_metrics(metrics):\n",
    "    keys = list(metrics['party'].keys())\n",
    "    keys.sort()\n",
    "    for i in range(len(keys)):\n",
    "      eval_party_accuracy[i].append(metrics['party'][keys[i]]['accuracy_score'])\n",
    "      iterations[i].append(metrics['fusion']['curr_round']*agg_config['hyperparams']['local']['training']['epochs'])\n",
    "      \n",
    "mh = aggregator.fusion.metrics_manager\n",
    "mh.register(get_metrics)\n",
    "\n",
    "\n",
    "\"\"\"\n",
    "#3 start the training\n",
    "\"\"\"\n",
    "aggregator.start_training()"
   ]
  },
  {
   "cell_type": "markdown",
   "metadata": {},
   "source": [
    "### Plot accuracy versus epochs"
   ]
  },
  {
   "cell_type": "code",
   "execution_count": 7,
   "metadata": {},
   "outputs": [
    {
     "data": {
      "image/png": "[encoded data removed]",
      "text/plain": [
       "<Figure size 1440x720 with 1 Axes>"
      ]
     },
     "metadata": {
      "needs_background": "light"
     },
     "output_type": "display_data"
    }
   ],
   "source": [
    "\"\"\"\n",
    "#1 define a method to plot a smooth cure\n",
    "\"\"\"\n",
    "from matplotlib import pyplot as plt\n",
    "from scipy.interpolate import make_interp_spline, BSpline\n",
    "import numpy as np\n",
    "\n",
    "def smooth_curve(xaxis, yaxis):\n",
    "   xnew = np.linspace(min(xaxis), max(xaxis), len(xaxis)*50) \n",
    "\n",
    "   spl = make_interp_spline(xaxis, yaxis, k=1)  # type: BSpline\n",
    "   power_smooth = spl(xnew)\n",
    "   return xnew, power_smooth \n",
    "\n",
    "f = plt.figure(figsize=(20,10))\n",
    "plt.subplot(2, 2, 1)\n",
    "\n",
    "num_parties = agg_config['hyperparams']['global']['num_parties']\n",
    "\n",
    "\n",
    "\"\"\"\n",
    "#2 plot the evaluation curve\n",
    "\"\"\"\n",
    "for i in range(num_parties):\n",
    "    eval_party_xaxis, eval_party_yaxis = smooth_curve(iterations[i], eval_party_accuracy[i])\n",
    "    line1, = plt.plot(eval_party_xaxis, eval_party_yaxis)\n",
    "    line1.set_label('party'+str(i+1))\n",
    "plt.title('Evaluation Plot')\n",
    "plt.ylabel('Accuracy')\n",
    "plt.xlabel('Epochs')\n",
    "plt.legend()\n",
    "plt.show()"
   ]
  },
  {
   "cell_type": "markdown",
   "metadata": {},
   "source": [
    "## Shut Down\n",
    "\n",
    "Invoke the `stop()` method on each of the network participants to terminate the service."
   ]
  },
  {
   "cell_type": "code",
   "execution_count": null,
   "metadata": {},
   "outputs": [],
   "source": [
    "aggregator.stop()"
   ]
  },
  {
   "cell_type": "markdown",
   "metadata": {},
   "source": [
    "## Visualize Parties' Training\n",
    "Please go to Parties' notebooks to visalize summary of Parties' training."
   ]
  }
 ],
 "metadata": {
  "kernelspec": {
   "display_name": "Python 3",
   "language": "python",
   "name": "python3"
  },
  "language_info": {
   "codemirror_mode": {
    "name": "ipython",
    "version": 3
   },
   "file_extension": ".py",
   "mimetype": "text/x-python",
   "name": "python",
   "nbconvert_exporter": "python",
   "pygments_lexer": "ipython3",
   "version": "3.6.13"
  }
 },
 "nbformat": 4,
 "nbformat_minor": 4
}
